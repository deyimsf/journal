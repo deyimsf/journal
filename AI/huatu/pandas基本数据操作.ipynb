{
 "cells": [
  {
   "cell_type": "code",
   "execution_count": 12,
   "id": "0fb9423f-4bb2-4dac-86aa-4363dbea4f6e",
   "metadata": {
    "tags": []
   },
   "outputs": [
    {
     "data": {
      "text/html": [
       "<div>\n",
       "<style scoped>\n",
       "    .dataframe tbody tr th:only-of-type {\n",
       "        vertical-align: middle;\n",
       "    }\n",
       "\n",
       "    .dataframe tbody tr th {\n",
       "        vertical-align: top;\n",
       "    }\n",
       "\n",
       "    .dataframe thead th {\n",
       "        text-align: right;\n",
       "    }\n",
       "</style>\n",
       "<table border=\"1\" class=\"dataframe\">\n",
       "  <thead>\n",
       "    <tr style=\"text-align: right;\">\n",
       "      <th></th>\n",
       "      <th>date</th>\n",
       "      <th>close</th>\n",
       "      <th>volume</th>\n",
       "      <th>open</th>\n",
       "      <th>high</th>\n",
       "      <th>low</th>\n",
       "    </tr>\n",
       "  </thead>\n",
       "  <tbody>\n",
       "    <tr>\n",
       "      <th>0</th>\n",
       "      <td>2019-04-15</td>\n",
       "      <td>183.07</td>\n",
       "      <td>14610190</td>\n",
       "      <td>188.06</td>\n",
       "      <td>188.17</td>\n",
       "      <td>182.56</td>\n",
       "    </tr>\n",
       "    <tr>\n",
       "      <th>1</th>\n",
       "      <td>2019-04-12</td>\n",
       "      <td>188.91</td>\n",
       "      <td>12561090</td>\n",
       "      <td>187.71</td>\n",
       "      <td>189.79</td>\n",
       "      <td>187.14</td>\n",
       "    </tr>\n",
       "    <tr>\n",
       "      <th>2</th>\n",
       "      <td>2019-04-11</td>\n",
       "      <td>184.98</td>\n",
       "      <td>8848863</td>\n",
       "      <td>185.15</td>\n",
       "      <td>186.06</td>\n",
       "      <td>183.75</td>\n",
       "    </tr>\n",
       "    <tr>\n",
       "      <th>3</th>\n",
       "      <td>2019-04-10</td>\n",
       "      <td>186.19</td>\n",
       "      <td>10650950</td>\n",
       "      <td>186.69</td>\n",
       "      <td>187.40</td>\n",
       "      <td>184.00</td>\n",
       "    </tr>\n",
       "    <tr>\n",
       "      <th>4</th>\n",
       "      <td>2019-04-09</td>\n",
       "      <td>187.19</td>\n",
       "      <td>11571350</td>\n",
       "      <td>186.49</td>\n",
       "      <td>187.89</td>\n",
       "      <td>186.16</td>\n",
       "    </tr>\n",
       "  </tbody>\n",
       "</table>\n",
       "</div>"
      ],
      "text/plain": [
       "         date   close    volume    open    high     low\n",
       "0  2019-04-15  183.07  14610190  188.06  188.17  182.56\n",
       "1  2019-04-12  188.91  12561090  187.71  189.79  187.14\n",
       "2  2019-04-11  184.98   8848863  185.15  186.06  183.75\n",
       "3  2019-04-10  186.19  10650950  186.69  187.40  184.00\n",
       "4  2019-04-09  187.19  11571350  186.49  187.89  186.16"
      ]
     },
     "execution_count": 12,
     "metadata": {},
     "output_type": "execute_result"
    }
   ],
   "source": [
    "import pandas as pd\n",
    "\n",
    "data = pd.read_csv('./data/stock_day.csv')\n",
    "data.head()"
   ]
  },
  {
   "cell_type": "code",
   "execution_count": 14,
   "id": "a87a3c88-81bf-495b-a634-c988c312c699",
   "metadata": {
    "tags": []
   },
   "outputs": [
    {
     "data": {
      "text/plain": [
       "188.06"
      ]
     },
     "execution_count": 14,
     "metadata": {},
     "output_type": "execute_result"
    }
   ],
   "source": [
    "#直接索引只能列后行\n",
    "data[\"open\"][0] "
   ]
  },
  {
   "cell_type": "code",
   "execution_count": 20,
   "id": "39ff54b7-7874-414a-9c5e-0ca9f57ce698",
   "metadata": {
    "tags": []
   },
   "outputs": [
    {
     "data": {
      "text/html": [
       "<div>\n",
       "<style scoped>\n",
       "    .dataframe tbody tr th:only-of-type {\n",
       "        vertical-align: middle;\n",
       "    }\n",
       "\n",
       "    .dataframe tbody tr th {\n",
       "        vertical-align: top;\n",
       "    }\n",
       "\n",
       "    .dataframe thead th {\n",
       "        text-align: right;\n",
       "    }\n",
       "</style>\n",
       "<table border=\"1\" class=\"dataframe\">\n",
       "  <thead>\n",
       "    <tr style=\"text-align: right;\">\n",
       "      <th></th>\n",
       "      <th>date</th>\n",
       "      <th>close</th>\n",
       "    </tr>\n",
       "  </thead>\n",
       "  <tbody>\n",
       "    <tr>\n",
       "      <th>1</th>\n",
       "      <td>2019-04-12</td>\n",
       "      <td>188.91</td>\n",
       "    </tr>\n",
       "    <tr>\n",
       "      <th>2</th>\n",
       "      <td>2019-04-11</td>\n",
       "      <td>184.98</td>\n",
       "    </tr>\n",
       "    <tr>\n",
       "      <th>3</th>\n",
       "      <td>2019-04-10</td>\n",
       "      <td>186.19</td>\n",
       "    </tr>\n",
       "  </tbody>\n",
       "</table>\n",
       "</div>"
      ],
      "text/plain": [
       "         date   close\n",
       "1  2019-04-12  188.91\n",
       "2  2019-04-11  184.98\n",
       "3  2019-04-10  186.19"
      ]
     },
     "execution_count": 20,
     "metadata": {},
     "output_type": "execute_result"
    }
   ],
   "source": [
    "# 用loc可以先行后列\n",
    "data.loc[1:3, \"date\":\"close\"]"
   ]
  },
  {
   "cell_type": "code",
   "execution_count": 21,
   "id": "c6ea7d18-cdfe-4360-9a7e-a61060af920f",
   "metadata": {
    "tags": []
   },
   "outputs": [
    {
     "data": {
      "text/html": [
       "<div>\n",
       "<style scoped>\n",
       "    .dataframe tbody tr th:only-of-type {\n",
       "        vertical-align: middle;\n",
       "    }\n",
       "\n",
       "    .dataframe tbody tr th {\n",
       "        vertical-align: top;\n",
       "    }\n",
       "\n",
       "    .dataframe thead th {\n",
       "        text-align: right;\n",
       "    }\n",
       "</style>\n",
       "<table border=\"1\" class=\"dataframe\">\n",
       "  <thead>\n",
       "    <tr style=\"text-align: right;\">\n",
       "      <th></th>\n",
       "      <th>date</th>\n",
       "      <th>close</th>\n",
       "      <th>volume</th>\n",
       "    </tr>\n",
       "  </thead>\n",
       "  <tbody>\n",
       "    <tr>\n",
       "      <th>0</th>\n",
       "      <td>2019-04-15</td>\n",
       "      <td>183.07</td>\n",
       "      <td>14610190</td>\n",
       "    </tr>\n",
       "    <tr>\n",
       "      <th>1</th>\n",
       "      <td>2019-04-12</td>\n",
       "      <td>188.91</td>\n",
       "      <td>12561090</td>\n",
       "    </tr>\n",
       "    <tr>\n",
       "      <th>2</th>\n",
       "      <td>2019-04-11</td>\n",
       "      <td>184.98</td>\n",
       "      <td>8848863</td>\n",
       "    </tr>\n",
       "    <tr>\n",
       "      <th>3</th>\n",
       "      <td>2019-04-10</td>\n",
       "      <td>186.19</td>\n",
       "      <td>10650950</td>\n",
       "    </tr>\n",
       "    <tr>\n",
       "      <th>4</th>\n",
       "      <td>2019-04-09</td>\n",
       "      <td>187.19</td>\n",
       "      <td>11571350</td>\n",
       "    </tr>\n",
       "  </tbody>\n",
       "</table>\n",
       "</div>"
      ],
      "text/plain": [
       "         date   close    volume\n",
       "0  2019-04-15  183.07  14610190\n",
       "1  2019-04-12  188.91  12561090\n",
       "2  2019-04-11  184.98   8848863\n",
       "3  2019-04-10  186.19  10650950\n",
       "4  2019-04-09  187.19  11571350"
      ]
     },
     "execution_count": 21,
     "metadata": {},
     "output_type": "execute_result"
    }
   ],
   "source": [
    "# iloc用下标索引\n",
    "data.iloc[:5,:3]"
   ]
  },
  {
   "cell_type": "code",
   "execution_count": 23,
   "id": "d4218af0-55fe-41b9-a839-059dab667c0f",
   "metadata": {
    "tags": []
   },
   "outputs": [
    {
     "data": {
      "text/html": [
       "<div>\n",
       "<style scoped>\n",
       "    .dataframe tbody tr th:only-of-type {\n",
       "        vertical-align: middle;\n",
       "    }\n",
       "\n",
       "    .dataframe tbody tr th {\n",
       "        vertical-align: top;\n",
       "    }\n",
       "\n",
       "    .dataframe thead th {\n",
       "        text-align: right;\n",
       "    }\n",
       "</style>\n",
       "<table border=\"1\" class=\"dataframe\">\n",
       "  <thead>\n",
       "    <tr style=\"text-align: right;\">\n",
       "      <th></th>\n",
       "      <th>open</th>\n",
       "      <th>close</th>\n",
       "    </tr>\n",
       "  </thead>\n",
       "  <tbody>\n",
       "    <tr>\n",
       "      <th>0</th>\n",
       "      <td>188.06</td>\n",
       "      <td>183.07</td>\n",
       "    </tr>\n",
       "    <tr>\n",
       "      <th>1</th>\n",
       "      <td>187.71</td>\n",
       "      <td>188.91</td>\n",
       "    </tr>\n",
       "    <tr>\n",
       "      <th>2</th>\n",
       "      <td>185.15</td>\n",
       "      <td>184.98</td>\n",
       "    </tr>\n",
       "    <tr>\n",
       "      <th>3</th>\n",
       "      <td>186.69</td>\n",
       "      <td>186.19</td>\n",
       "    </tr>\n",
       "    <tr>\n",
       "      <th>4</th>\n",
       "      <td>186.49</td>\n",
       "      <td>187.19</td>\n",
       "    </tr>\n",
       "  </tbody>\n",
       "</table>\n",
       "</div>"
      ],
      "text/plain": [
       "     open   close\n",
       "0  188.06  183.07\n",
       "1  187.71  188.91\n",
       "2  185.15  184.98\n",
       "3  186.69  186.19\n",
       "4  186.49  187.19"
      ]
     },
     "execution_count": 23,
     "metadata": {},
     "output_type": "execute_result"
    }
   ],
   "source": [
    "data.loc[data.index[0:5],['open','close']]"
   ]
  },
  {
   "cell_type": "code",
   "execution_count": 24,
   "id": "ac9b8435-9c52-4bde-b892-cd3bf046a36a",
   "metadata": {
    "tags": []
   },
   "outputs": [
    {
     "data": {
      "text/html": [
       "<div>\n",
       "<style scoped>\n",
       "    .dataframe tbody tr th:only-of-type {\n",
       "        vertical-align: middle;\n",
       "    }\n",
       "\n",
       "    .dataframe tbody tr th {\n",
       "        vertical-align: top;\n",
       "    }\n",
       "\n",
       "    .dataframe thead th {\n",
       "        text-align: right;\n",
       "    }\n",
       "</style>\n",
       "<table border=\"1\" class=\"dataframe\">\n",
       "  <thead>\n",
       "    <tr style=\"text-align: right;\">\n",
       "      <th></th>\n",
       "      <th>date</th>\n",
       "      <th>close</th>\n",
       "    </tr>\n",
       "  </thead>\n",
       "  <tbody>\n",
       "    <tr>\n",
       "      <th>1</th>\n",
       "      <td>2019-04-12</td>\n",
       "      <td>188.91</td>\n",
       "    </tr>\n",
       "    <tr>\n",
       "      <th>2</th>\n",
       "      <td>2019-04-11</td>\n",
       "      <td>184.98</td>\n",
       "    </tr>\n",
       "    <tr>\n",
       "      <th>3</th>\n",
       "      <td>2019-04-10</td>\n",
       "      <td>186.19</td>\n",
       "    </tr>\n",
       "  </tbody>\n",
       "</table>\n",
       "</div>"
      ],
      "text/plain": [
       "         date   close\n",
       "1  2019-04-12  188.91\n",
       "2  2019-04-11  184.98\n",
       "3  2019-04-10  186.19"
      ]
     },
     "execution_count": 24,
     "metadata": {},
     "output_type": "execute_result"
    }
   ],
   "source": [
    "data.loc[1:3, [\"date\",\"close\"]]"
   ]
  },
  {
   "cell_type": "code",
   "execution_count": 31,
   "id": "f0c73c9d-4800-43c0-9d2d-fb6f4a055886",
   "metadata": {
    "tags": []
   },
   "outputs": [
    {
     "data": {
      "text/html": [
       "<div>\n",
       "<style scoped>\n",
       "    .dataframe tbody tr th:only-of-type {\n",
       "        vertical-align: middle;\n",
       "    }\n",
       "\n",
       "    .dataframe tbody tr th {\n",
       "        vertical-align: top;\n",
       "    }\n",
       "\n",
       "    .dataframe thead th {\n",
       "        text-align: right;\n",
       "    }\n",
       "</style>\n",
       "<table border=\"1\" class=\"dataframe\">\n",
       "  <thead>\n",
       "    <tr style=\"text-align: right;\">\n",
       "      <th></th>\n",
       "      <th>date</th>\n",
       "      <th>close</th>\n",
       "      <th>volume</th>\n",
       "      <th>open</th>\n",
       "      <th>high</th>\n",
       "      <th>low</th>\n",
       "    </tr>\n",
       "  </thead>\n",
       "  <tbody>\n",
       "    <tr>\n",
       "      <th>0</th>\n",
       "      <td>2019-04-15</td>\n",
       "      <td>183.07</td>\n",
       "      <td>14610190</td>\n",
       "      <td>188.06</td>\n",
       "      <td>188.17</td>\n",
       "      <td>182.56</td>\n",
       "    </tr>\n",
       "    <tr>\n",
       "      <th>1</th>\n",
       "      <td>2019-04-12</td>\n",
       "      <td>188.91</td>\n",
       "      <td>12561090</td>\n",
       "      <td>187.71</td>\n",
       "      <td>189.79</td>\n",
       "      <td>187.14</td>\n",
       "    </tr>\n",
       "    <tr>\n",
       "      <th>2</th>\n",
       "      <td>2019-04-11</td>\n",
       "      <td>184.98</td>\n",
       "      <td>8848863</td>\n",
       "      <td>185.15</td>\n",
       "      <td>186.06</td>\n",
       "      <td>183.75</td>\n",
       "    </tr>\n",
       "    <tr>\n",
       "      <th>3</th>\n",
       "      <td>2019-04-10</td>\n",
       "      <td>186.19</td>\n",
       "      <td>10650950</td>\n",
       "      <td>186.69</td>\n",
       "      <td>187.40</td>\n",
       "      <td>184.00</td>\n",
       "    </tr>\n",
       "    <tr>\n",
       "      <th>4</th>\n",
       "      <td>2019-04-09</td>\n",
       "      <td>187.19</td>\n",
       "      <td>11571350</td>\n",
       "      <td>186.49</td>\n",
       "      <td>187.89</td>\n",
       "      <td>186.16</td>\n",
       "    </tr>\n",
       "  </tbody>\n",
       "</table>\n",
       "</div>"
      ],
      "text/plain": [
       "         date   close    volume    open    high     low\n",
       "0  2019-04-15  183.07  14610190  188.06  188.17  182.56\n",
       "1  2019-04-12  188.91  12561090  187.71  189.79  187.14\n",
       "2  2019-04-11  184.98   8848863  185.15  186.06  183.75\n",
       "3  2019-04-10  186.19  10650950  186.69  187.40  184.00\n",
       "4  2019-04-09  187.19  11571350  186.49  187.89  186.16"
      ]
     },
     "execution_count": 31,
     "metadata": {},
     "output_type": "execute_result"
    }
   ],
   "source": [
    "data.head()"
   ]
  },
  {
   "cell_type": "code",
   "execution_count": 29,
   "id": "69c45739-de03-48cf-bd33-95156ed6e045",
   "metadata": {
    "tags": []
   },
   "outputs": [
    {
     "data": {
      "text/plain": [
       "array([3, 1])"
      ]
     },
     "execution_count": 29,
     "metadata": {},
     "output_type": "execute_result"
    }
   ],
   "source": [
    "data.columns.get_indexer(['open','close'])"
   ]
  },
  {
   "cell_type": "code",
   "execution_count": 28,
   "id": "a3a1ae24-b12c-49f1-8192-b887fa3c5bc4",
   "metadata": {
    "tags": []
   },
   "outputs": [
    {
     "data": {
      "text/html": [
       "<div>\n",
       "<style scoped>\n",
       "    .dataframe tbody tr th:only-of-type {\n",
       "        vertical-align: middle;\n",
       "    }\n",
       "\n",
       "    .dataframe tbody tr th {\n",
       "        vertical-align: top;\n",
       "    }\n",
       "\n",
       "    .dataframe thead th {\n",
       "        text-align: right;\n",
       "    }\n",
       "</style>\n",
       "<table border=\"1\" class=\"dataframe\">\n",
       "  <thead>\n",
       "    <tr style=\"text-align: right;\">\n",
       "      <th></th>\n",
       "      <th>open</th>\n",
       "      <th>close</th>\n",
       "    </tr>\n",
       "  </thead>\n",
       "  <tbody>\n",
       "    <tr>\n",
       "      <th>1</th>\n",
       "      <td>187.71</td>\n",
       "      <td>188.91</td>\n",
       "    </tr>\n",
       "    <tr>\n",
       "      <th>2</th>\n",
       "      <td>185.15</td>\n",
       "      <td>184.98</td>\n",
       "    </tr>\n",
       "  </tbody>\n",
       "</table>\n",
       "</div>"
      ],
      "text/plain": [
       "     open   close\n",
       "1  187.71  188.91\n",
       "2  185.15  184.98"
      ]
     },
     "execution_count": 28,
     "metadata": {},
     "output_type": "execute_result"
    }
   ],
   "source": [
    "data.iloc[1:3,data.columns.get_indexer(['open','close'])]"
   ]
  },
  {
   "cell_type": "markdown",
   "id": "c10fb1de-44b6-4d30-a8ab-1bfd6754e494",
   "metadata": {},
   "source": [
    "# 2 赋值操作"
   ]
  },
  {
   "cell_type": "code",
   "execution_count": 33,
   "id": "255adcc2-e8ce-4452-b562-b8f3887a30c7",
   "metadata": {
    "tags": []
   },
   "outputs": [
    {
     "data": {
      "text/html": [
       "<div>\n",
       "<style scoped>\n",
       "    .dataframe tbody tr th:only-of-type {\n",
       "        vertical-align: middle;\n",
       "    }\n",
       "\n",
       "    .dataframe tbody tr th {\n",
       "        vertical-align: top;\n",
       "    }\n",
       "\n",
       "    .dataframe thead th {\n",
       "        text-align: right;\n",
       "    }\n",
       "</style>\n",
       "<table border=\"1\" class=\"dataframe\">\n",
       "  <thead>\n",
       "    <tr style=\"text-align: right;\">\n",
       "      <th></th>\n",
       "      <th>date</th>\n",
       "      <th>close</th>\n",
       "      <th>volume</th>\n",
       "      <th>open</th>\n",
       "      <th>high</th>\n",
       "      <th>low</th>\n",
       "    </tr>\n",
       "  </thead>\n",
       "  <tbody>\n",
       "    <tr>\n",
       "      <th>0</th>\n",
       "      <td>2019-04-15</td>\n",
       "      <td>1</td>\n",
       "      <td>14610190</td>\n",
       "      <td>188.06</td>\n",
       "      <td>188.17</td>\n",
       "      <td>182.56</td>\n",
       "    </tr>\n",
       "    <tr>\n",
       "      <th>1</th>\n",
       "      <td>2019-04-12</td>\n",
       "      <td>1</td>\n",
       "      <td>12561090</td>\n",
       "      <td>187.71</td>\n",
       "      <td>189.79</td>\n",
       "      <td>187.14</td>\n",
       "    </tr>\n",
       "    <tr>\n",
       "      <th>2</th>\n",
       "      <td>2019-04-11</td>\n",
       "      <td>1</td>\n",
       "      <td>8848863</td>\n",
       "      <td>185.15</td>\n",
       "      <td>186.06</td>\n",
       "      <td>183.75</td>\n",
       "    </tr>\n",
       "    <tr>\n",
       "      <th>3</th>\n",
       "      <td>2019-04-10</td>\n",
       "      <td>1</td>\n",
       "      <td>10650950</td>\n",
       "      <td>186.69</td>\n",
       "      <td>187.40</td>\n",
       "      <td>184.00</td>\n",
       "    </tr>\n",
       "    <tr>\n",
       "      <th>4</th>\n",
       "      <td>2019-04-09</td>\n",
       "      <td>1</td>\n",
       "      <td>11571350</td>\n",
       "      <td>186.49</td>\n",
       "      <td>187.89</td>\n",
       "      <td>186.16</td>\n",
       "    </tr>\n",
       "  </tbody>\n",
       "</table>\n",
       "</div>"
      ],
      "text/plain": [
       "         date  close    volume    open    high     low\n",
       "0  2019-04-15      1  14610190  188.06  188.17  182.56\n",
       "1  2019-04-12      1  12561090  187.71  189.79  187.14\n",
       "2  2019-04-11      1   8848863  185.15  186.06  183.75\n",
       "3  2019-04-10      1  10650950  186.69  187.40  184.00\n",
       "4  2019-04-09      1  11571350  186.49  187.89  186.16"
      ]
     },
     "execution_count": 33,
     "metadata": {},
     "output_type": "execute_result"
    }
   ],
   "source": [
    "data['close']=1\n",
    "data.head()"
   ]
  },
  {
   "cell_type": "code",
   "execution_count": 35,
   "id": "d4642249-c9e1-423f-a173-fe8f9f0b88bf",
   "metadata": {
    "tags": []
   },
   "outputs": [
    {
     "data": {
      "text/html": [
       "<div>\n",
       "<style scoped>\n",
       "    .dataframe tbody tr th:only-of-type {\n",
       "        vertical-align: middle;\n",
       "    }\n",
       "\n",
       "    .dataframe tbody tr th {\n",
       "        vertical-align: top;\n",
       "    }\n",
       "\n",
       "    .dataframe thead th {\n",
       "        text-align: right;\n",
       "    }\n",
       "</style>\n",
       "<table border=\"1\" class=\"dataframe\">\n",
       "  <thead>\n",
       "    <tr style=\"text-align: right;\">\n",
       "      <th></th>\n",
       "      <th>date</th>\n",
       "      <th>close</th>\n",
       "      <th>volume</th>\n",
       "      <th>open</th>\n",
       "      <th>high</th>\n",
       "      <th>low</th>\n",
       "    </tr>\n",
       "  </thead>\n",
       "  <tbody>\n",
       "    <tr>\n",
       "      <th>0</th>\n",
       "      <td>2019-04-15</td>\n",
       "      <td>10</td>\n",
       "      <td>14610190</td>\n",
       "      <td>188.06</td>\n",
       "      <td>188.17</td>\n",
       "      <td>182.56</td>\n",
       "    </tr>\n",
       "    <tr>\n",
       "      <th>1</th>\n",
       "      <td>2019-04-12</td>\n",
       "      <td>10</td>\n",
       "      <td>12561090</td>\n",
       "      <td>187.71</td>\n",
       "      <td>189.79</td>\n",
       "      <td>187.14</td>\n",
       "    </tr>\n",
       "    <tr>\n",
       "      <th>2</th>\n",
       "      <td>2019-04-11</td>\n",
       "      <td>10</td>\n",
       "      <td>8848863</td>\n",
       "      <td>185.15</td>\n",
       "      <td>186.06</td>\n",
       "      <td>183.75</td>\n",
       "    </tr>\n",
       "    <tr>\n",
       "      <th>3</th>\n",
       "      <td>2019-04-10</td>\n",
       "      <td>10</td>\n",
       "      <td>10650950</td>\n",
       "      <td>186.69</td>\n",
       "      <td>187.40</td>\n",
       "      <td>184.00</td>\n",
       "    </tr>\n",
       "    <tr>\n",
       "      <th>4</th>\n",
       "      <td>2019-04-09</td>\n",
       "      <td>10</td>\n",
       "      <td>11571350</td>\n",
       "      <td>186.49</td>\n",
       "      <td>187.89</td>\n",
       "      <td>186.16</td>\n",
       "    </tr>\n",
       "  </tbody>\n",
       "</table>\n",
       "</div>"
      ],
      "text/plain": [
       "         date  close    volume    open    high     low\n",
       "0  2019-04-15     10  14610190  188.06  188.17  182.56\n",
       "1  2019-04-12     10  12561090  187.71  189.79  187.14\n",
       "2  2019-04-11     10   8848863  185.15  186.06  183.75\n",
       "3  2019-04-10     10  10650950  186.69  187.40  184.00\n",
       "4  2019-04-09     10  11571350  186.49  187.89  186.16"
      ]
     },
     "execution_count": 35,
     "metadata": {},
     "output_type": "execute_result"
    }
   ],
   "source": [
    "data.close = 10\n",
    "data.head()"
   ]
  },
  {
   "cell_type": "markdown",
   "id": "bf3e664d-ccaa-4cd2-b4bb-e3a5f10a324b",
   "metadata": {},
   "source": [
    "# 3 排序"
   ]
  },
  {
   "cell_type": "code",
   "execution_count": 37,
   "id": "edc85e86-1fde-415a-9fb7-dd01e9478170",
   "metadata": {
    "tags": []
   },
   "outputs": [
    {
     "data": {
      "text/html": [
       "<div>\n",
       "<style scoped>\n",
       "    .dataframe tbody tr th:only-of-type {\n",
       "        vertical-align: middle;\n",
       "    }\n",
       "\n",
       "    .dataframe tbody tr th {\n",
       "        vertical-align: top;\n",
       "    }\n",
       "\n",
       "    .dataframe thead th {\n",
       "        text-align: right;\n",
       "    }\n",
       "</style>\n",
       "<table border=\"1\" class=\"dataframe\">\n",
       "  <thead>\n",
       "    <tr style=\"text-align: right;\">\n",
       "      <th></th>\n",
       "      <th>date</th>\n",
       "      <th>close</th>\n",
       "      <th>volume</th>\n",
       "      <th>open</th>\n",
       "      <th>high</th>\n",
       "      <th>low</th>\n",
       "    </tr>\n",
       "  </thead>\n",
       "  <tbody>\n",
       "    <tr>\n",
       "      <th>714</th>\n",
       "      <td>2016-06-13</td>\n",
       "      <td>10</td>\n",
       "      <td>11289770</td>\n",
       "      <td>75.25</td>\n",
       "      <td>76.455</td>\n",
       "      <td>74.850</td>\n",
       "    </tr>\n",
       "    <tr>\n",
       "      <th>703</th>\n",
       "      <td>2016-06-28</td>\n",
       "      <td>10</td>\n",
       "      <td>11238520</td>\n",
       "      <td>75.50</td>\n",
       "      <td>76.600</td>\n",
       "      <td>75.500</td>\n",
       "    </tr>\n",
       "    <tr>\n",
       "      <th>741</th>\n",
       "      <td>2016-05-04</td>\n",
       "      <td>10</td>\n",
       "      <td>14289990</td>\n",
       "      <td>75.64</td>\n",
       "      <td>75.910</td>\n",
       "      <td>75.010</td>\n",
       "    </tr>\n",
       "    <tr>\n",
       "      <th>704</th>\n",
       "      <td>2016-06-27</td>\n",
       "      <td>10</td>\n",
       "      <td>15203760</td>\n",
       "      <td>75.80</td>\n",
       "      <td>76.290</td>\n",
       "      <td>73.300</td>\n",
       "    </tr>\n",
       "    <tr>\n",
       "      <th>742</th>\n",
       "      <td>2016-05-03</td>\n",
       "      <td>10</td>\n",
       "      <td>8008683</td>\n",
       "      <td>75.96</td>\n",
       "      <td>76.270</td>\n",
       "      <td>75.425</td>\n",
       "    </tr>\n",
       "  </tbody>\n",
       "</table>\n",
       "</div>"
      ],
      "text/plain": [
       "           date  close    volume   open    high     low\n",
       "714  2016-06-13     10  11289770  75.25  76.455  74.850\n",
       "703  2016-06-28     10  11238520  75.50  76.600  75.500\n",
       "741  2016-05-04     10  14289990  75.64  75.910  75.010\n",
       "704  2016-06-27     10  15203760  75.80  76.290  73.300\n",
       "742  2016-05-03     10   8008683  75.96  76.270  75.425"
      ]
     },
     "execution_count": 37,
     "metadata": {},
     "output_type": "execute_result"
    }
   ],
   "source": [
    "# 排序 by指定哪个列， ascending指定升序降序\n",
    "data.sort_values(by=\"open\",ascending=True).head()"
   ]
  },
  {
   "cell_type": "code",
   "execution_count": 39,
   "id": "d0e8634b-6bb1-48f9-a28f-d498afd4ec38",
   "metadata": {
    "tags": []
   },
   "outputs": [
    {
     "data": {
      "text/html": [
       "<div>\n",
       "<style scoped>\n",
       "    .dataframe tbody tr th:only-of-type {\n",
       "        vertical-align: middle;\n",
       "    }\n",
       "\n",
       "    .dataframe tbody tr th {\n",
       "        vertical-align: top;\n",
       "    }\n",
       "\n",
       "    .dataframe thead th {\n",
       "        text-align: right;\n",
       "    }\n",
       "</style>\n",
       "<table border=\"1\" class=\"dataframe\">\n",
       "  <thead>\n",
       "    <tr style=\"text-align: right;\">\n",
       "      <th></th>\n",
       "      <th>date</th>\n",
       "      <th>close</th>\n",
       "      <th>volume</th>\n",
       "      <th>open</th>\n",
       "      <th>high</th>\n",
       "      <th>low</th>\n",
       "    </tr>\n",
       "  </thead>\n",
       "  <tbody>\n",
       "    <tr>\n",
       "      <th>714</th>\n",
       "      <td>2016-06-13</td>\n",
       "      <td>10</td>\n",
       "      <td>11289770</td>\n",
       "      <td>75.25</td>\n",
       "      <td>76.455</td>\n",
       "      <td>74.850</td>\n",
       "    </tr>\n",
       "    <tr>\n",
       "      <th>703</th>\n",
       "      <td>2016-06-28</td>\n",
       "      <td>10</td>\n",
       "      <td>11238520</td>\n",
       "      <td>75.50</td>\n",
       "      <td>76.600</td>\n",
       "      <td>75.500</td>\n",
       "    </tr>\n",
       "    <tr>\n",
       "      <th>741</th>\n",
       "      <td>2016-05-04</td>\n",
       "      <td>10</td>\n",
       "      <td>14289990</td>\n",
       "      <td>75.64</td>\n",
       "      <td>75.910</td>\n",
       "      <td>75.010</td>\n",
       "    </tr>\n",
       "    <tr>\n",
       "      <th>704</th>\n",
       "      <td>2016-06-27</td>\n",
       "      <td>10</td>\n",
       "      <td>15203760</td>\n",
       "      <td>75.80</td>\n",
       "      <td>76.290</td>\n",
       "      <td>73.300</td>\n",
       "    </tr>\n",
       "    <tr>\n",
       "      <th>742</th>\n",
       "      <td>2016-05-03</td>\n",
       "      <td>10</td>\n",
       "      <td>8008683</td>\n",
       "      <td>75.96</td>\n",
       "      <td>76.270</td>\n",
       "      <td>75.425</td>\n",
       "    </tr>\n",
       "  </tbody>\n",
       "</table>\n",
       "</div>"
      ],
      "text/plain": [
       "           date  close    volume   open    high     low\n",
       "714  2016-06-13     10  11289770  75.25  76.455  74.850\n",
       "703  2016-06-28     10  11238520  75.50  76.600  75.500\n",
       "741  2016-05-04     10  14289990  75.64  75.910  75.010\n",
       "704  2016-06-27     10  15203760  75.80  76.290  73.300\n",
       "742  2016-05-03     10   8008683  75.96  76.270  75.425"
      ]
     },
     "execution_count": 39,
     "metadata": {},
     "output_type": "execute_result"
    }
   ],
   "source": [
    "# \n",
    "data.sort_values(by=[\"open\",\"close\"]).head()"
   ]
  },
  {
   "cell_type": "code",
   "execution_count": 42,
   "id": "f22adfab-0aeb-4070-954f-7f83664ea943",
   "metadata": {
    "tags": []
   },
   "outputs": [
    {
     "data": {
      "text/html": [
       "<div>\n",
       "<style scoped>\n",
       "    .dataframe tbody tr th:only-of-type {\n",
       "        vertical-align: middle;\n",
       "    }\n",
       "\n",
       "    .dataframe tbody tr th {\n",
       "        vertical-align: top;\n",
       "    }\n",
       "\n",
       "    .dataframe thead th {\n",
       "        text-align: right;\n",
       "    }\n",
       "</style>\n",
       "<table border=\"1\" class=\"dataframe\">\n",
       "  <thead>\n",
       "    <tr style=\"text-align: right;\">\n",
       "      <th></th>\n",
       "      <th>date</th>\n",
       "      <th>close</th>\n",
       "      <th>volume</th>\n",
       "      <th>open</th>\n",
       "      <th>high</th>\n",
       "      <th>low</th>\n",
       "    </tr>\n",
       "  </thead>\n",
       "  <tbody>\n",
       "    <tr>\n",
       "      <th>0</th>\n",
       "      <td>2019-04-15</td>\n",
       "      <td>10</td>\n",
       "      <td>14610190</td>\n",
       "      <td>188.06</td>\n",
       "      <td>188.170</td>\n",
       "      <td>182.56</td>\n",
       "    </tr>\n",
       "    <tr>\n",
       "      <th>1</th>\n",
       "      <td>2019-04-12</td>\n",
       "      <td>10</td>\n",
       "      <td>12561090</td>\n",
       "      <td>187.71</td>\n",
       "      <td>189.790</td>\n",
       "      <td>187.14</td>\n",
       "    </tr>\n",
       "    <tr>\n",
       "      <th>2</th>\n",
       "      <td>2019-04-11</td>\n",
       "      <td>10</td>\n",
       "      <td>8848863</td>\n",
       "      <td>185.15</td>\n",
       "      <td>186.060</td>\n",
       "      <td>183.75</td>\n",
       "    </tr>\n",
       "    <tr>\n",
       "      <th>3</th>\n",
       "      <td>2019-04-10</td>\n",
       "      <td>10</td>\n",
       "      <td>10650950</td>\n",
       "      <td>186.69</td>\n",
       "      <td>187.400</td>\n",
       "      <td>184.00</td>\n",
       "    </tr>\n",
       "    <tr>\n",
       "      <th>4</th>\n",
       "      <td>2019-04-09</td>\n",
       "      <td>10</td>\n",
       "      <td>11571350</td>\n",
       "      <td>186.49</td>\n",
       "      <td>187.890</td>\n",
       "      <td>186.16</td>\n",
       "    </tr>\n",
       "    <tr>\n",
       "      <th>...</th>\n",
       "      <td>...</td>\n",
       "      <td>...</td>\n",
       "      <td>...</td>\n",
       "      <td>...</td>\n",
       "      <td>...</td>\n",
       "      <td>...</td>\n",
       "    </tr>\n",
       "    <tr>\n",
       "      <th>750</th>\n",
       "      <td>2016-04-21</td>\n",
       "      <td>10</td>\n",
       "      <td>8812676</td>\n",
       "      <td>81.08</td>\n",
       "      <td>81.780</td>\n",
       "      <td>80.20</td>\n",
       "    </tr>\n",
       "    <tr>\n",
       "      <th>751</th>\n",
       "      <td>2016-04-20</td>\n",
       "      <td>10</td>\n",
       "      <td>14900920</td>\n",
       "      <td>79.00</td>\n",
       "      <td>81.735</td>\n",
       "      <td>78.99</td>\n",
       "    </tr>\n",
       "    <tr>\n",
       "      <th>752</th>\n",
       "      <td>2016-04-19</td>\n",
       "      <td>10</td>\n",
       "      <td>14727460</td>\n",
       "      <td>79.20</td>\n",
       "      <td>80.480</td>\n",
       "      <td>78.47</td>\n",
       "    </tr>\n",
       "    <tr>\n",
       "      <th>753</th>\n",
       "      <td>2016-04-18</td>\n",
       "      <td>10</td>\n",
       "      <td>7761672</td>\n",
       "      <td>78.52</td>\n",
       "      <td>79.120</td>\n",
       "      <td>77.71</td>\n",
       "    </tr>\n",
       "    <tr>\n",
       "      <th>754</th>\n",
       "      <td>2016-04-15</td>\n",
       "      <td>10</td>\n",
       "      <td>11696030</td>\n",
       "      <td>79.45</td>\n",
       "      <td>79.750</td>\n",
       "      <td>78.46</td>\n",
       "    </tr>\n",
       "  </tbody>\n",
       "</table>\n",
       "<p>755 rows × 6 columns</p>\n",
       "</div>"
      ],
      "text/plain": [
       "           date  close    volume    open     high     low\n",
       "0    2019-04-15     10  14610190  188.06  188.170  182.56\n",
       "1    2019-04-12     10  12561090  187.71  189.790  187.14\n",
       "2    2019-04-11     10   8848863  185.15  186.060  183.75\n",
       "3    2019-04-10     10  10650950  186.69  187.400  184.00\n",
       "4    2019-04-09     10  11571350  186.49  187.890  186.16\n",
       "..          ...    ...       ...     ...      ...     ...\n",
       "750  2016-04-21     10   8812676   81.08   81.780   80.20\n",
       "751  2016-04-20     10  14900920   79.00   81.735   78.99\n",
       "752  2016-04-19     10  14727460   79.20   80.480   78.47\n",
       "753  2016-04-18     10   7761672   78.52   79.120   77.71\n",
       "754  2016-04-15     10  11696030   79.45   79.750   78.46\n",
       "\n",
       "[755 rows x 6 columns]"
      ]
     },
     "execution_count": 42,
     "metadata": {},
     "output_type": "execute_result"
    }
   ],
   "source": [
    "# 索引排序\n",
    "data.sort_index()"
   ]
  },
  {
   "cell_type": "code",
   "execution_count": 45,
   "id": "b33ee1d9-ae40-4589-a716-8c819929b70f",
   "metadata": {
    "tags": []
   },
   "outputs": [
    {
     "data": {
      "text/plain": [
       "714    75.25\n",
       "703    75.50\n",
       "741    75.64\n",
       "704    75.80\n",
       "742    75.96\n",
       "715    76.43\n",
       "Name: open, dtype: float64"
      ]
     },
     "execution_count": 45,
     "metadata": {},
     "output_type": "execute_result"
    }
   ],
   "source": [
    "# 单独取一列，然后值排序\n",
    "data['open'].sort_values().head(6)"
   ]
  },
  {
   "cell_type": "code",
   "execution_count": 46,
   "id": "eb330809-96fb-47a9-9601-fa3034ce6833",
   "metadata": {
    "tags": []
   },
   "outputs": [
    {
     "data": {
      "text/plain": [
       "0    188.06\n",
       "1    187.71\n",
       "2    185.15\n",
       "3    186.69\n",
       "4    186.49\n",
       "5    184.19\n",
       "Name: open, dtype: float64"
      ]
     },
     "execution_count": 46,
     "metadata": {},
     "output_type": "execute_result"
    }
   ],
   "source": [
    "# 单独取一列，然后索引排序\n",
    "data['open'].sort_index().head(6)"
   ]
  },
  {
   "cell_type": "code",
   "execution_count": null,
   "id": "24b0d2ff-6f46-4afa-920c-5de4b2308566",
   "metadata": {},
   "outputs": [],
   "source": []
  }
 ],
 "metadata": {
  "kernelspec": {
   "display_name": "Python 3 (ipykernel)",
   "language": "python",
   "name": "python3"
  },
  "language_info": {
   "codemirror_mode": {
    "name": "ipython",
    "version": 3
   },
   "file_extension": ".py",
   "mimetype": "text/x-python",
   "name": "python",
   "nbconvert_exporter": "python",
   "pygments_lexer": "ipython3",
   "version": "3.11.5"
  }
 },
 "nbformat": 4,
 "nbformat_minor": 5
}
