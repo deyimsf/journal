{
 "cells": [
  {
   "cell_type": "code",
   "execution_count": 1,
   "id": "ee886b81-eb7f-4c76-818a-d32a4408f83b",
   "metadata": {
    "tags": []
   },
   "outputs": [
    {
     "data": {
      "text/html": [
       "<div>\n",
       "<style scoped>\n",
       "    .dataframe tbody tr th:only-of-type {\n",
       "        vertical-align: middle;\n",
       "    }\n",
       "\n",
       "    .dataframe tbody tr th {\n",
       "        vertical-align: top;\n",
       "    }\n",
       "\n",
       "    .dataframe thead th {\n",
       "        text-align: right;\n",
       "    }\n",
       "</style>\n",
       "<table border=\"1\" class=\"dataframe\">\n",
       "  <thead>\n",
       "    <tr style=\"text-align: right;\">\n",
       "      <th></th>\n",
       "      <th>date</th>\n",
       "      <th>close</th>\n",
       "      <th>volume</th>\n",
       "      <th>open</th>\n",
       "      <th>high</th>\n",
       "      <th>low</th>\n",
       "    </tr>\n",
       "  </thead>\n",
       "  <tbody>\n",
       "    <tr>\n",
       "      <th>0</th>\n",
       "      <td>2019-04-15</td>\n",
       "      <td>183.07</td>\n",
       "      <td>14610190</td>\n",
       "      <td>188.06</td>\n",
       "      <td>188.17</td>\n",
       "      <td>182.56</td>\n",
       "    </tr>\n",
       "    <tr>\n",
       "      <th>1</th>\n",
       "      <td>2019-04-12</td>\n",
       "      <td>188.91</td>\n",
       "      <td>12561090</td>\n",
       "      <td>187.71</td>\n",
       "      <td>189.79</td>\n",
       "      <td>187.14</td>\n",
       "    </tr>\n",
       "    <tr>\n",
       "      <th>2</th>\n",
       "      <td>2019-04-11</td>\n",
       "      <td>184.98</td>\n",
       "      <td>8848863</td>\n",
       "      <td>185.15</td>\n",
       "      <td>186.06</td>\n",
       "      <td>183.75</td>\n",
       "    </tr>\n",
       "    <tr>\n",
       "      <th>3</th>\n",
       "      <td>2019-04-10</td>\n",
       "      <td>186.19</td>\n",
       "      <td>10650950</td>\n",
       "      <td>186.69</td>\n",
       "      <td>187.40</td>\n",
       "      <td>184.00</td>\n",
       "    </tr>\n",
       "    <tr>\n",
       "      <th>4</th>\n",
       "      <td>2019-04-09</td>\n",
       "      <td>187.19</td>\n",
       "      <td>11571350</td>\n",
       "      <td>186.49</td>\n",
       "      <td>187.89</td>\n",
       "      <td>186.16</td>\n",
       "    </tr>\n",
       "  </tbody>\n",
       "</table>\n",
       "</div>"
      ],
      "text/plain": [
       "         date   close    volume    open    high     low\n",
       "0  2019-04-15  183.07  14610190  188.06  188.17  182.56\n",
       "1  2019-04-12  188.91  12561090  187.71  189.79  187.14\n",
       "2  2019-04-11  184.98   8848863  185.15  186.06  183.75\n",
       "3  2019-04-10  186.19  10650950  186.69  187.40  184.00\n",
       "4  2019-04-09  187.19  11571350  186.49  187.89  186.16"
      ]
     },
     "execution_count": 1,
     "metadata": {},
     "output_type": "execute_result"
    }
   ],
   "source": [
    "import pandas as pd\n",
    "\n",
    "data = pd.read_csv('./data/stock_day.csv')\n",
    "data.head()"
   ]
  },
  {
   "cell_type": "markdown",
   "id": "17fad167-e425-456b-a70c-554fd9f23f04",
   "metadata": {},
   "source": [
    "# 1 算数运算"
   ]
  },
  {
   "cell_type": "code",
   "execution_count": 2,
   "id": "4e7bf4e9-7b5a-4204-94e8-98972d6f5c0c",
   "metadata": {
    "tags": []
   },
   "outputs": [
    {
     "data": {
      "text/plain": [
       "0    198.06\n",
       "1    197.71\n",
       "2    195.15\n",
       "3    196.69\n",
       "4    196.49\n",
       "Name: open, dtype: float64"
      ]
     },
     "execution_count": 2,
     "metadata": {},
     "output_type": "execute_result"
    }
   ],
   "source": [
    "data[\"open\"].add(10).head()"
   ]
  },
  {
   "cell_type": "markdown",
   "id": "1911e5ad-212b-4862-86db-0a9925fefa4b",
   "metadata": {},
   "source": [
    "# 2 逻辑运算\n",
    "## 2.1 逻辑运算"
   ]
  },
  {
   "cell_type": "code",
   "execution_count": 3,
   "id": "ea5cc109-99ad-4b11-a533-729902024a8f",
   "metadata": {
    "tags": []
   },
   "outputs": [
    {
     "data": {
      "text/plain": [
       "0      True\n",
       "1      True\n",
       "2      True\n",
       "3      True\n",
       "4      True\n",
       "       ... \n",
       "750    True\n",
       "751    True\n",
       "752    True\n",
       "753    True\n",
       "754    True\n",
       "Name: close, Length: 755, dtype: bool"
      ]
     },
     "execution_count": 3,
     "metadata": {},
     "output_type": "execute_result"
    }
   ],
   "source": [
    "data['close'] > 20"
   ]
  },
  {
   "cell_type": "code",
   "execution_count": 5,
   "id": "b4c39cf6-5f6d-454d-b71c-26c6b0214b5c",
   "metadata": {
    "tags": []
   },
   "outputs": [
    {
     "data": {
      "text/html": [
       "<div>\n",
       "<style scoped>\n",
       "    .dataframe tbody tr th:only-of-type {\n",
       "        vertical-align: middle;\n",
       "    }\n",
       "\n",
       "    .dataframe tbody tr th {\n",
       "        vertical-align: top;\n",
       "    }\n",
       "\n",
       "    .dataframe thead th {\n",
       "        text-align: right;\n",
       "    }\n",
       "</style>\n",
       "<table border=\"1\" class=\"dataframe\">\n",
       "  <thead>\n",
       "    <tr style=\"text-align: right;\">\n",
       "      <th></th>\n",
       "      <th>date</th>\n",
       "      <th>close</th>\n",
       "      <th>volume</th>\n",
       "      <th>open</th>\n",
       "      <th>high</th>\n",
       "      <th>low</th>\n",
       "    </tr>\n",
       "  </thead>\n",
       "  <tbody>\n",
       "    <tr>\n",
       "      <th>0</th>\n",
       "      <td>2019-04-15</td>\n",
       "      <td>183.07</td>\n",
       "      <td>14610190</td>\n",
       "      <td>188.06</td>\n",
       "      <td>188.17</td>\n",
       "      <td>182.56</td>\n",
       "    </tr>\n",
       "    <tr>\n",
       "      <th>1</th>\n",
       "      <td>2019-04-12</td>\n",
       "      <td>188.91</td>\n",
       "      <td>12561090</td>\n",
       "      <td>187.71</td>\n",
       "      <td>189.79</td>\n",
       "      <td>187.14</td>\n",
       "    </tr>\n",
       "    <tr>\n",
       "      <th>2</th>\n",
       "      <td>2019-04-11</td>\n",
       "      <td>184.98</td>\n",
       "      <td>8848863</td>\n",
       "      <td>185.15</td>\n",
       "      <td>186.06</td>\n",
       "      <td>183.75</td>\n",
       "    </tr>\n",
       "    <tr>\n",
       "      <th>3</th>\n",
       "      <td>2019-04-10</td>\n",
       "      <td>186.19</td>\n",
       "      <td>10650950</td>\n",
       "      <td>186.69</td>\n",
       "      <td>187.40</td>\n",
       "      <td>184.00</td>\n",
       "    </tr>\n",
       "    <tr>\n",
       "      <th>4</th>\n",
       "      <td>2019-04-09</td>\n",
       "      <td>187.19</td>\n",
       "      <td>11571350</td>\n",
       "      <td>186.49</td>\n",
       "      <td>187.89</td>\n",
       "      <td>186.16</td>\n",
       "    </tr>\n",
       "  </tbody>\n",
       "</table>\n",
       "</div>"
      ],
      "text/plain": [
       "         date   close    volume    open    high     low\n",
       "0  2019-04-15  183.07  14610190  188.06  188.17  182.56\n",
       "1  2019-04-12  188.91  12561090  187.71  189.79  187.14\n",
       "2  2019-04-11  184.98   8848863  185.15  186.06  183.75\n",
       "3  2019-04-10  186.19  10650950  186.69  187.40  184.00\n",
       "4  2019-04-09  187.19  11571350  186.49  187.89  186.16"
      ]
     },
     "execution_count": 5,
     "metadata": {},
     "output_type": "execute_result"
    }
   ],
   "source": [
    "data[data['open'] > 23].head()"
   ]
  },
  {
   "cell_type": "code",
   "execution_count": 8,
   "id": "d1a7633a-f3c5-48fe-917a-4d2c2f051c2e",
   "metadata": {
    "tags": []
   },
   "outputs": [
    {
     "data": {
      "text/html": [
       "<div>\n",
       "<style scoped>\n",
       "    .dataframe tbody tr th:only-of-type {\n",
       "        vertical-align: middle;\n",
       "    }\n",
       "\n",
       "    .dataframe tbody tr th {\n",
       "        vertical-align: top;\n",
       "    }\n",
       "\n",
       "    .dataframe thead th {\n",
       "        text-align: right;\n",
       "    }\n",
       "</style>\n",
       "<table border=\"1\" class=\"dataframe\">\n",
       "  <thead>\n",
       "    <tr style=\"text-align: right;\">\n",
       "      <th></th>\n",
       "      <th>date</th>\n",
       "      <th>close</th>\n",
       "      <th>volume</th>\n",
       "      <th>open</th>\n",
       "      <th>high</th>\n",
       "      <th>low</th>\n",
       "    </tr>\n",
       "  </thead>\n",
       "  <tbody>\n",
       "    <tr>\n",
       "      <th>695</th>\n",
       "      <td>2016-07-11</td>\n",
       "      <td>81.46</td>\n",
       "      <td>17367400</td>\n",
       "      <td>79.33</td>\n",
       "      <td>81.9000</td>\n",
       "      <td>79.24</td>\n",
       "    </tr>\n",
       "    <tr>\n",
       "      <th>696</th>\n",
       "      <td>2016-07-08</td>\n",
       "      <td>78.99</td>\n",
       "      <td>14011640</td>\n",
       "      <td>78.44</td>\n",
       "      <td>79.3500</td>\n",
       "      <td>77.80</td>\n",
       "    </tr>\n",
       "    <tr>\n",
       "      <th>697</th>\n",
       "      <td>2016-07-07</td>\n",
       "      <td>79.35</td>\n",
       "      <td>6808656</td>\n",
       "      <td>79.00</td>\n",
       "      <td>79.4899</td>\n",
       "      <td>78.71</td>\n",
       "    </tr>\n",
       "    <tr>\n",
       "      <th>698</th>\n",
       "      <td>2016-07-06</td>\n",
       "      <td>78.64</td>\n",
       "      <td>7737637</td>\n",
       "      <td>78.47</td>\n",
       "      <td>78.8200</td>\n",
       "      <td>77.68</td>\n",
       "    </tr>\n",
       "    <tr>\n",
       "      <th>699</th>\n",
       "      <td>2016-07-05</td>\n",
       "      <td>78.97</td>\n",
       "      <td>6837814</td>\n",
       "      <td>79.04</td>\n",
       "      <td>79.5500</td>\n",
       "      <td>78.37</td>\n",
       "    </tr>\n",
       "  </tbody>\n",
       "</table>\n",
       "</div>"
      ],
      "text/plain": [
       "           date  close    volume   open     high    low\n",
       "695  2016-07-11  81.46  17367400  79.33  81.9000  79.24\n",
       "696  2016-07-08  78.99  14011640  78.44  79.3500  77.80\n",
       "697  2016-07-07  79.35   6808656  79.00  79.4899  78.71\n",
       "698  2016-07-06  78.64   7737637  78.47  78.8200  77.68\n",
       "699  2016-07-05  78.97   6837814  79.04  79.5500  78.37"
      ]
     },
     "execution_count": 8,
     "metadata": {},
     "output_type": "execute_result"
    }
   ],
   "source": [
    "data[(data['open']>23) & (data['open']<80)].head()"
   ]
  },
  {
   "cell_type": "code",
   "execution_count": 9,
   "id": "266d9801-e55a-4850-99c1-97b55236a845",
   "metadata": {
    "tags": []
   },
   "outputs": [
    {
     "data": {
      "text/html": [
       "<div>\n",
       "<style scoped>\n",
       "    .dataframe tbody tr th:only-of-type {\n",
       "        vertical-align: middle;\n",
       "    }\n",
       "\n",
       "    .dataframe tbody tr th {\n",
       "        vertical-align: top;\n",
       "    }\n",
       "\n",
       "    .dataframe thead th {\n",
       "        text-align: right;\n",
       "    }\n",
       "</style>\n",
       "<table border=\"1\" class=\"dataframe\">\n",
       "  <thead>\n",
       "    <tr style=\"text-align: right;\">\n",
       "      <th></th>\n",
       "      <th>date</th>\n",
       "      <th>close</th>\n",
       "      <th>volume</th>\n",
       "      <th>open</th>\n",
       "      <th>high</th>\n",
       "      <th>low</th>\n",
       "    </tr>\n",
       "  </thead>\n",
       "  <tbody>\n",
       "    <tr>\n",
       "      <th>695</th>\n",
       "      <td>2016-07-11</td>\n",
       "      <td>81.46</td>\n",
       "      <td>17367400</td>\n",
       "      <td>79.33</td>\n",
       "      <td>81.9000</td>\n",
       "      <td>79.24</td>\n",
       "    </tr>\n",
       "    <tr>\n",
       "      <th>696</th>\n",
       "      <td>2016-07-08</td>\n",
       "      <td>78.99</td>\n",
       "      <td>14011640</td>\n",
       "      <td>78.44</td>\n",
       "      <td>79.3500</td>\n",
       "      <td>77.80</td>\n",
       "    </tr>\n",
       "    <tr>\n",
       "      <th>697</th>\n",
       "      <td>2016-07-07</td>\n",
       "      <td>79.35</td>\n",
       "      <td>6808656</td>\n",
       "      <td>79.00</td>\n",
       "      <td>79.4899</td>\n",
       "      <td>78.71</td>\n",
       "    </tr>\n",
       "    <tr>\n",
       "      <th>698</th>\n",
       "      <td>2016-07-06</td>\n",
       "      <td>78.64</td>\n",
       "      <td>7737637</td>\n",
       "      <td>78.47</td>\n",
       "      <td>78.8200</td>\n",
       "      <td>77.68</td>\n",
       "    </tr>\n",
       "    <tr>\n",
       "      <th>699</th>\n",
       "      <td>2016-07-05</td>\n",
       "      <td>78.97</td>\n",
       "      <td>6837814</td>\n",
       "      <td>79.04</td>\n",
       "      <td>79.5500</td>\n",
       "      <td>78.37</td>\n",
       "    </tr>\n",
       "  </tbody>\n",
       "</table>\n",
       "</div>"
      ],
      "text/plain": [
       "           date  close    volume   open     high    low\n",
       "695  2016-07-11  81.46  17367400  79.33  81.9000  79.24\n",
       "696  2016-07-08  78.99  14011640  78.44  79.3500  77.80\n",
       "697  2016-07-07  79.35   6808656  79.00  79.4899  78.71\n",
       "698  2016-07-06  78.64   7737637  78.47  78.8200  77.68\n",
       "699  2016-07-05  78.97   6837814  79.04  79.5500  78.37"
      ]
     },
     "execution_count": 9,
     "metadata": {},
     "output_type": "execute_result"
    }
   ],
   "source": [
    "data.query('open>23 & open<80').head()"
   ]
  },
  {
   "cell_type": "code",
   "execution_count": 11,
   "id": "6e4123ed-0518-4968-b6d7-747dffb2f2e6",
   "metadata": {
    "tags": []
   },
   "outputs": [
    {
     "data": {
      "text/plain": [
       "0      False\n",
       "1      False\n",
       "2      False\n",
       "3      False\n",
       "4      False\n",
       "       ...  \n",
       "750    False\n",
       "751    False\n",
       "752    False\n",
       "753    False\n",
       "754    False\n",
       "Name: open, Length: 755, dtype: bool"
      ]
     },
     "execution_count": 11,
     "metadata": {},
     "output_type": "execute_result"
    }
   ],
   "source": [
    "# 是否包含某值\n",
    "data['open'].isin([81.46,78.35,78.97])"
   ]
  },
  {
   "cell_type": "code",
   "execution_count": 14,
   "id": "4449ae91-8757-4415-bf97-639929ca2d7a",
   "metadata": {
    "tags": []
   },
   "outputs": [
    {
     "data": {
      "text/html": [
       "<div>\n",
       "<style scoped>\n",
       "    .dataframe tbody tr th:only-of-type {\n",
       "        vertical-align: middle;\n",
       "    }\n",
       "\n",
       "    .dataframe tbody tr th {\n",
       "        vertical-align: top;\n",
       "    }\n",
       "\n",
       "    .dataframe thead th {\n",
       "        text-align: right;\n",
       "    }\n",
       "</style>\n",
       "<table border=\"1\" class=\"dataframe\">\n",
       "  <thead>\n",
       "    <tr style=\"text-align: right;\">\n",
       "      <th></th>\n",
       "      <th>date</th>\n",
       "      <th>close</th>\n",
       "      <th>volume</th>\n",
       "      <th>open</th>\n",
       "      <th>high</th>\n",
       "      <th>low</th>\n",
       "    </tr>\n",
       "  </thead>\n",
       "  <tbody>\n",
       "    <tr>\n",
       "      <th>695</th>\n",
       "      <td>2016-07-11</td>\n",
       "      <td>81.46</td>\n",
       "      <td>17367400</td>\n",
       "      <td>79.33</td>\n",
       "      <td>81.90</td>\n",
       "      <td>79.24</td>\n",
       "    </tr>\n",
       "    <tr>\n",
       "      <th>696</th>\n",
       "      <td>2016-07-08</td>\n",
       "      <td>78.99</td>\n",
       "      <td>14011640</td>\n",
       "      <td>78.44</td>\n",
       "      <td>79.35</td>\n",
       "      <td>77.80</td>\n",
       "    </tr>\n",
       "    <tr>\n",
       "      <th>739</th>\n",
       "      <td>2016-05-06</td>\n",
       "      <td>79.20</td>\n",
       "      <td>12852580</td>\n",
       "      <td>78.35</td>\n",
       "      <td>79.72</td>\n",
       "      <td>78.25</td>\n",
       "    </tr>\n",
       "  </tbody>\n",
       "</table>\n",
       "</div>"
      ],
      "text/plain": [
       "           date  close    volume   open   high    low\n",
       "695  2016-07-11  81.46  17367400  79.33  81.90  79.24\n",
       "696  2016-07-08  78.99  14011640  78.44  79.35  77.80\n",
       "739  2016-05-06  79.20  12852580  78.35  79.72  78.25"
      ]
     },
     "execution_count": 14,
     "metadata": {},
     "output_type": "execute_result"
    }
   ],
   "source": [
    "# 取出包含的值\n",
    "data[data['open'].isin([79.33,78.35,78.44])]"
   ]
  },
  {
   "cell_type": "markdown",
   "id": "5060937d-eff6-4c7b-8e6c-14a517d37467",
   "metadata": {},
   "source": [
    "# 3 统计运算\n"
   ]
  },
  {
   "cell_type": "code",
   "execution_count": 15,
   "id": "09eb68a3-e8b8-4fb5-b081-ab2b885bbefa",
   "metadata": {
    "tags": []
   },
   "outputs": [
    {
     "data": {
      "text/html": [
       "<div>\n",
       "<style scoped>\n",
       "    .dataframe tbody tr th:only-of-type {\n",
       "        vertical-align: middle;\n",
       "    }\n",
       "\n",
       "    .dataframe tbody tr th {\n",
       "        vertical-align: top;\n",
       "    }\n",
       "\n",
       "    .dataframe thead th {\n",
       "        text-align: right;\n",
       "    }\n",
       "</style>\n",
       "<table border=\"1\" class=\"dataframe\">\n",
       "  <thead>\n",
       "    <tr style=\"text-align: right;\">\n",
       "      <th></th>\n",
       "      <th>close</th>\n",
       "      <th>volume</th>\n",
       "      <th>open</th>\n",
       "      <th>high</th>\n",
       "      <th>low</th>\n",
       "    </tr>\n",
       "  </thead>\n",
       "  <tbody>\n",
       "    <tr>\n",
       "      <th>count</th>\n",
       "      <td>755.000000</td>\n",
       "      <td>7.550000e+02</td>\n",
       "      <td>755.000000</td>\n",
       "      <td>755.000000</td>\n",
       "      <td>755.000000</td>\n",
       "    </tr>\n",
       "    <tr>\n",
       "      <th>mean</th>\n",
       "      <td>143.366954</td>\n",
       "      <td>1.680949e+07</td>\n",
       "      <td>143.458232</td>\n",
       "      <td>145.066835</td>\n",
       "      <td>141.609986</td>\n",
       "    </tr>\n",
       "    <tr>\n",
       "      <th>std</th>\n",
       "      <td>40.345464</td>\n",
       "      <td>9.577570e+06</td>\n",
       "      <td>40.422691</td>\n",
       "      <td>40.900065</td>\n",
       "      <td>39.785683</td>\n",
       "    </tr>\n",
       "    <tr>\n",
       "      <th>min</th>\n",
       "      <td>74.230000</td>\n",
       "      <td>4.113497e+06</td>\n",
       "      <td>75.250000</td>\n",
       "      <td>75.910000</td>\n",
       "      <td>73.300000</td>\n",
       "    </tr>\n",
       "    <tr>\n",
       "      <th>25%</th>\n",
       "      <td>102.925000</td>\n",
       "      <td>1.070033e+07</td>\n",
       "      <td>102.980000</td>\n",
       "      <td>103.995000</td>\n",
       "      <td>102.105000</td>\n",
       "    </tr>\n",
       "    <tr>\n",
       "      <th>50%</th>\n",
       "      <td>152.110000</td>\n",
       "      <td>1.467661e+07</td>\n",
       "      <td>152.770000</td>\n",
       "      <td>154.360000</td>\n",
       "      <td>150.520000</td>\n",
       "    </tr>\n",
       "    <tr>\n",
       "      <th>75%</th>\n",
       "      <td>179.155000</td>\n",
       "      <td>1.993638e+07</td>\n",
       "      <td>179.330000</td>\n",
       "      <td>180.840000</td>\n",
       "      <td>176.985000</td>\n",
       "    </tr>\n",
       "    <tr>\n",
       "      <th>max</th>\n",
       "      <td>210.860000</td>\n",
       "      <td>8.131719e+07</td>\n",
       "      <td>209.950000</td>\n",
       "      <td>211.700000</td>\n",
       "      <td>207.510000</td>\n",
       "    </tr>\n",
       "  </tbody>\n",
       "</table>\n",
       "</div>"
      ],
      "text/plain": [
       "            close        volume        open        high         low\n",
       "count  755.000000  7.550000e+02  755.000000  755.000000  755.000000\n",
       "mean   143.366954  1.680949e+07  143.458232  145.066835  141.609986\n",
       "std     40.345464  9.577570e+06   40.422691   40.900065   39.785683\n",
       "min     74.230000  4.113497e+06   75.250000   75.910000   73.300000\n",
       "25%    102.925000  1.070033e+07  102.980000  103.995000  102.105000\n",
       "50%    152.110000  1.467661e+07  152.770000  154.360000  150.520000\n",
       "75%    179.155000  1.993638e+07  179.330000  180.840000  176.985000\n",
       "max    210.860000  8.131719e+07  209.950000  211.700000  207.510000"
      ]
     },
     "execution_count": 15,
     "metadata": {},
     "output_type": "execute_result"
    }
   ],
   "source": [
    "data.describe()"
   ]
  },
  {
   "cell_type": "code",
   "execution_count": 17,
   "id": "e979929e-7fcd-4c12-8879-21efa5149f59",
   "metadata": {
    "tags": []
   },
   "outputs": [
    {
     "data": {
      "text/plain": [
       "date      2019-04-15\n",
       "close         210.86\n",
       "volume      81317190\n",
       "open          209.95\n",
       "high           211.7\n",
       "low           207.51\n",
       "dtype: object"
      ]
     },
     "execution_count": 17,
     "metadata": {},
     "output_type": "execute_result"
    }
   ],
   "source": [
    "# 取每列最大值\n",
    "data.max()"
   ]
  },
  {
   "cell_type": "code",
   "execution_count": 18,
   "id": "1c129197-c762-4566-8ff4-d625b3aae9b7",
   "metadata": {
    "tags": []
   },
   "outputs": [
    {
     "data": {
      "text/html": [
       "<div>\n",
       "<style scoped>\n",
       "    .dataframe tbody tr th:only-of-type {\n",
       "        vertical-align: middle;\n",
       "    }\n",
       "\n",
       "    .dataframe tbody tr th {\n",
       "        vertical-align: top;\n",
       "    }\n",
       "\n",
       "    .dataframe thead th {\n",
       "        text-align: right;\n",
       "    }\n",
       "</style>\n",
       "<table border=\"1\" class=\"dataframe\">\n",
       "  <thead>\n",
       "    <tr style=\"text-align: right;\">\n",
       "      <th></th>\n",
       "      <th>date</th>\n",
       "      <th>close</th>\n",
       "      <th>volume</th>\n",
       "      <th>open</th>\n",
       "      <th>high</th>\n",
       "      <th>low</th>\n",
       "    </tr>\n",
       "  </thead>\n",
       "  <tbody>\n",
       "    <tr>\n",
       "      <th>0</th>\n",
       "      <td>2019-04-15</td>\n",
       "      <td>183.07</td>\n",
       "      <td>14610190</td>\n",
       "      <td>188.06</td>\n",
       "      <td>188.170</td>\n",
       "      <td>182.56</td>\n",
       "    </tr>\n",
       "    <tr>\n",
       "      <th>1</th>\n",
       "      <td>2019-04-12</td>\n",
       "      <td>188.91</td>\n",
       "      <td>12561090</td>\n",
       "      <td>187.71</td>\n",
       "      <td>189.790</td>\n",
       "      <td>187.14</td>\n",
       "    </tr>\n",
       "    <tr>\n",
       "      <th>2</th>\n",
       "      <td>2019-04-11</td>\n",
       "      <td>184.98</td>\n",
       "      <td>8848863</td>\n",
       "      <td>185.15</td>\n",
       "      <td>186.060</td>\n",
       "      <td>183.75</td>\n",
       "    </tr>\n",
       "    <tr>\n",
       "      <th>3</th>\n",
       "      <td>2019-04-10</td>\n",
       "      <td>186.19</td>\n",
       "      <td>10650950</td>\n",
       "      <td>186.69</td>\n",
       "      <td>187.400</td>\n",
       "      <td>184.00</td>\n",
       "    </tr>\n",
       "    <tr>\n",
       "      <th>4</th>\n",
       "      <td>2019-04-09</td>\n",
       "      <td>187.19</td>\n",
       "      <td>11571350</td>\n",
       "      <td>186.49</td>\n",
       "      <td>187.890</td>\n",
       "      <td>186.16</td>\n",
       "    </tr>\n",
       "    <tr>\n",
       "      <th>...</th>\n",
       "      <td>...</td>\n",
       "      <td>...</td>\n",
       "      <td>...</td>\n",
       "      <td>...</td>\n",
       "      <td>...</td>\n",
       "      <td>...</td>\n",
       "    </tr>\n",
       "    <tr>\n",
       "      <th>750</th>\n",
       "      <td>2016-04-21</td>\n",
       "      <td>80.78</td>\n",
       "      <td>8812676</td>\n",
       "      <td>81.08</td>\n",
       "      <td>81.780</td>\n",
       "      <td>80.20</td>\n",
       "    </tr>\n",
       "    <tr>\n",
       "      <th>751</th>\n",
       "      <td>2016-04-20</td>\n",
       "      <td>81.21</td>\n",
       "      <td>14900920</td>\n",
       "      <td>79.00</td>\n",
       "      <td>81.735</td>\n",
       "      <td>78.99</td>\n",
       "    </tr>\n",
       "    <tr>\n",
       "      <th>752</th>\n",
       "      <td>2016-04-19</td>\n",
       "      <td>79.46</td>\n",
       "      <td>14727460</td>\n",
       "      <td>79.20</td>\n",
       "      <td>80.480</td>\n",
       "      <td>78.47</td>\n",
       "    </tr>\n",
       "    <tr>\n",
       "      <th>753</th>\n",
       "      <td>2016-04-18</td>\n",
       "      <td>79.01</td>\n",
       "      <td>7761672</td>\n",
       "      <td>78.52</td>\n",
       "      <td>79.120</td>\n",
       "      <td>77.71</td>\n",
       "    </tr>\n",
       "    <tr>\n",
       "      <th>754</th>\n",
       "      <td>2016-04-15</td>\n",
       "      <td>78.97</td>\n",
       "      <td>11696030</td>\n",
       "      <td>79.45</td>\n",
       "      <td>79.750</td>\n",
       "      <td>78.46</td>\n",
       "    </tr>\n",
       "  </tbody>\n",
       "</table>\n",
       "<p>755 rows × 6 columns</p>\n",
       "</div>"
      ],
      "text/plain": [
       "           date   close    volume    open     high     low\n",
       "0    2019-04-15  183.07  14610190  188.06  188.170  182.56\n",
       "1    2019-04-12  188.91  12561090  187.71  189.790  187.14\n",
       "2    2019-04-11  184.98   8848863  185.15  186.060  183.75\n",
       "3    2019-04-10  186.19  10650950  186.69  187.400  184.00\n",
       "4    2019-04-09  187.19  11571350  186.49  187.890  186.16\n",
       "..          ...     ...       ...     ...      ...     ...\n",
       "750  2016-04-21   80.78   8812676   81.08   81.780   80.20\n",
       "751  2016-04-20   81.21  14900920   79.00   81.735   78.99\n",
       "752  2016-04-19   79.46  14727460   79.20   80.480   78.47\n",
       "753  2016-04-18   79.01   7761672   78.52   79.120   77.71\n",
       "754  2016-04-15   78.97  11696030   79.45   79.750   78.46\n",
       "\n",
       "[755 rows x 6 columns]"
      ]
     },
     "execution_count": 18,
     "metadata": {},
     "output_type": "execute_result"
    }
   ],
   "source": [
    "data"
   ]
  },
  {
   "cell_type": "code",
   "execution_count": 23,
   "id": "aa610f6b-b227-4f86-87c4-622a9284c23c",
   "metadata": {
    "tags": []
   },
   "outputs": [
    {
     "data": {
      "text/html": [
       "<div>\n",
       "<style scoped>\n",
       "    .dataframe tbody tr th:only-of-type {\n",
       "        vertical-align: middle;\n",
       "    }\n",
       "\n",
       "    .dataframe tbody tr th {\n",
       "        vertical-align: top;\n",
       "    }\n",
       "\n",
       "    .dataframe thead th {\n",
       "        text-align: right;\n",
       "    }\n",
       "</style>\n",
       "<table border=\"1\" class=\"dataframe\">\n",
       "  <thead>\n",
       "    <tr style=\"text-align: right;\">\n",
       "      <th></th>\n",
       "      <th>date</th>\n",
       "      <th>close</th>\n",
       "      <th>volume</th>\n",
       "      <th>open</th>\n",
       "      <th>high</th>\n",
       "      <th>low</th>\n",
       "    </tr>\n",
       "  </thead>\n",
       "  <tbody>\n",
       "    <tr>\n",
       "      <th>754</th>\n",
       "      <td>2016-04-15</td>\n",
       "      <td>78.97</td>\n",
       "      <td>11696030</td>\n",
       "      <td>79.45</td>\n",
       "      <td>79.750</td>\n",
       "      <td>78.46</td>\n",
       "    </tr>\n",
       "    <tr>\n",
       "      <th>753</th>\n",
       "      <td>2016-04-18</td>\n",
       "      <td>79.01</td>\n",
       "      <td>7761672</td>\n",
       "      <td>78.52</td>\n",
       "      <td>79.120</td>\n",
       "      <td>77.71</td>\n",
       "    </tr>\n",
       "    <tr>\n",
       "      <th>752</th>\n",
       "      <td>2016-04-19</td>\n",
       "      <td>79.46</td>\n",
       "      <td>14727460</td>\n",
       "      <td>79.20</td>\n",
       "      <td>80.480</td>\n",
       "      <td>78.47</td>\n",
       "    </tr>\n",
       "    <tr>\n",
       "      <th>751</th>\n",
       "      <td>2016-04-20</td>\n",
       "      <td>81.21</td>\n",
       "      <td>14900920</td>\n",
       "      <td>79.00</td>\n",
       "      <td>81.735</td>\n",
       "      <td>78.99</td>\n",
       "    </tr>\n",
       "    <tr>\n",
       "      <th>750</th>\n",
       "      <td>2016-04-21</td>\n",
       "      <td>80.78</td>\n",
       "      <td>8812676</td>\n",
       "      <td>81.08</td>\n",
       "      <td>81.780</td>\n",
       "      <td>80.20</td>\n",
       "    </tr>\n",
       "  </tbody>\n",
       "</table>\n",
       "</div>"
      ],
      "text/plain": [
       "           date  close    volume   open    high    low\n",
       "754  2016-04-15  78.97  11696030  79.45  79.750  78.46\n",
       "753  2016-04-18  79.01   7761672  78.52  79.120  77.71\n",
       "752  2016-04-19  79.46  14727460  79.20  80.480  78.47\n",
       "751  2016-04-20  81.21  14900920  79.00  81.735  78.99\n",
       "750  2016-04-21  80.78   8812676  81.08  81.780  80.20"
      ]
     },
     "execution_count": 23,
     "metadata": {},
     "output_type": "execute_result"
    }
   ],
   "source": [
    "data = data.sort_values(['date'])\n",
    "data.head()"
   ]
  },
  {
   "cell_type": "code",
   "execution_count": 28,
   "id": "093b414c-40d9-452e-b19e-811dafb38298",
   "metadata": {
    "tags": []
   },
   "outputs": [
    {
     "data": {
      "text/plain": [
       "754     78.97\n",
       "753    157.98\n",
       "752    237.44\n",
       "751    318.65\n",
       "750    399.43\n",
       "Name: close, dtype: float64"
      ]
     },
     "execution_count": 28,
     "metadata": {},
     "output_type": "execute_result"
    }
   ],
   "source": [
    "# 对close列累计求和？\n",
    "stock_rise = data['close']\n",
    "stock_rise.cumsum()"
   ]
  },
  {
   "cell_type": "code",
   "execution_count": 29,
   "id": "8e525c46-8a87-4d05-ad63-3b770d3e8d20",
   "metadata": {
    "tags": []
   },
   "outputs": [
    {
     "data": {
      "image/png": "[encoded data removed]",
      "text/plain": [
       "<Figure size 640x480 with 1 Axes>"
      ]
     },
     "metadata": {},
     "output_type": "display_data"
    }
   ],
   "source": [
    "import matplotlib.pyplot as plt\n",
    "stock_rise.cumsum().plot()\n",
    "plt.show()"
   ]
  },
  {
   "cell_type": "code",
   "execution_count": null,
   "id": "def22102-891e-41dd-be69-d504e74b6cde",
   "metadata": {},
   "outputs": [],
   "source": []
  }
 ],
 "metadata": {
  "kernelspec": {
   "display_name": "Python 3 (ipykernel)",
   "language": "python",
   "name": "python3"
  },
  "language_info": {
   "codemirror_mode": {
    "name": "ipython",
    "version": 3
   },
   "file_extension": ".py",
   "mimetype": "text/x-python",
   "name": "python",
   "nbconvert_exporter": "python",
   "pygments_lexer": "ipython3",
   "version": "3.11.5"
  }
 },
 "nbformat": 4,
 "nbformat_minor": 5
}
