{
 "cells": [
  {
   "cell_type": "code",
   "execution_count": 1,
   "id": "8855e021-2c9d-49d2-a9e1-a816fea44fb2",
   "metadata": {
    "tags": []
   },
   "outputs": [],
   "source": [
    "import numpy as np\n"
   ]
  },
  {
   "cell_type": "markdown",
   "id": "e1502e4b-387a-418f-b090-2d5e6cca9416",
   "metadata": {},
   "source": [
    "# 1 逻辑运算"
   ]
  },
  {
   "cell_type": "code",
   "execution_count": 4,
   "id": "dbe50f8b-8354-4e72-8679-fd65858bc1e5",
   "metadata": {
    "tags": []
   },
   "outputs": [
    {
     "data": {
      "text/plain": [
       "array([[80, 86, 59, 68, 70],\n",
       "       [95, 85, 44, 69, 93],\n",
       "       [90, 68, 95, 84, 45],\n",
       "       [44, 74, 86, 70, 69],\n",
       "       [84, 71, 88, 80, 71],\n",
       "       [81, 83, 77, 74, 72],\n",
       "       [82, 74, 41, 79, 68],\n",
       "       [70, 70, 75, 75, 67],\n",
       "       [76, 85, 51, 96, 54],\n",
       "       [82, 72, 69, 50, 85]])"
      ]
     },
     "execution_count": 4,
     "metadata": {},
     "output_type": "execute_result"
    }
   ],
   "source": [
    "# 生成从40~100,10行5列的二维数组\n",
    "score = np.random.randint(40,100,(10,5))\n",
    "score"
   ]
  },
  {
   "cell_type": "code",
   "execution_count": 6,
   "id": "c84cace3-9bea-443d-bdca-0b39c54b3a65",
   "metadata": {
    "tags": []
   },
   "outputs": [
    {
     "data": {
      "text/plain": [
       "array([[82, 74, 41, 79, 68],\n",
       "       [70, 70, 75, 75, 67],\n",
       "       [76, 85, 51, 96, 54],\n",
       "       [82, 72, 69, 50, 85]])"
      ]
     },
     "execution_count": 6,
     "metadata": {},
     "output_type": "execute_result"
    }
   ],
   "source": [
    "# 取出后四名同学的数据，从第6行开始取\n",
    "test_score = score[6:,]\n",
    "test_score"
   ]
  },
  {
   "cell_type": "code",
   "execution_count": 7,
   "id": "19417cd3-cdf4-45ec-a547-56b27f07309d",
   "metadata": {
    "tags": []
   },
   "outputs": [
    {
     "data": {
      "text/plain": [
       "array([[ True,  True, False,  True,  True],\n",
       "       [ True,  True,  True,  True,  True],\n",
       "       [ True,  True, False,  True, False],\n",
       "       [ True,  True,  True, False,  True]])"
      ]
     },
     "execution_count": 7,
     "metadata": {},
     "output_type": "execute_result"
    }
   ],
   "source": [
    "# 查看大于60的数据\n",
    "test_score > 60 #大于60的位置设置为True,其它设置为False"
   ]
  },
  {
   "cell_type": "code",
   "execution_count": 9,
   "id": "781ffb3f-510f-4be7-9e64-2c8e2e2dc430",
   "metadata": {
    "tags": []
   },
   "outputs": [
    {
     "data": {
      "text/plain": [
       "array([[ 1,  1, 41,  1,  1],\n",
       "       [ 1,  1,  1,  1,  1],\n",
       "       [ 1,  1, 51,  1, 54],\n",
       "       [ 1,  1,  1, 50,  1]])"
      ]
     },
     "execution_count": 9,
     "metadata": {},
     "output_type": "execute_result"
    }
   ],
   "source": [
    "# 大于60的值设置为1\n",
    "test_score[test_score>60] = 1 \n",
    "test_score"
   ]
  },
  {
   "cell_type": "markdown",
   "id": "e579f0c2-c942-4a1d-9a1d-65c5e2b5eb3c",
   "metadata": {},
   "source": [
    "# 2 通用判断函数"
   ]
  },
  {
   "cell_type": "code",
   "execution_count": 10,
   "id": "15342966-3b52-4909-9283-91d6f4ae8a68",
   "metadata": {
    "tags": []
   },
   "outputs": [
    {
     "data": {
      "text/plain": [
       "False"
      ]
     },
     "execution_count": 10,
     "metadata": {},
     "output_type": "execute_result"
    }
   ],
   "source": [
    "# 判断前两行数据中的元素，是否全部大于60，如果大于返回True，否则返回False\n",
    "np.all(score[0:2,:] > 60)"
   ]
  },
  {
   "cell_type": "code",
   "execution_count": 11,
   "id": "c81fb938-2397-4d12-bb22-7fffd7c27a85",
   "metadata": {
    "tags": []
   },
   "outputs": [
    {
     "data": {
      "text/plain": [
       "True"
      ]
     },
     "execution_count": 11,
     "metadata": {},
     "output_type": "execute_result"
    }
   ],
   "source": [
    "# 判断前两行数据中的元素，是否有大于80的，有一个就算\n",
    "np.any(score[0:2,:] > 80)"
   ]
  },
  {
   "cell_type": "markdown",
   "id": "ace3e8ff-2d31-49d1-ba38-55c82e27ad04",
   "metadata": {},
   "source": [
    "# 3 np.where 三元运算符"
   ]
  },
  {
   "cell_type": "code",
   "execution_count": 14,
   "id": "db6491b6-8c9c-4774-8212-44463760c813",
   "metadata": {
    "tags": []
   },
   "outputs": [
    {
     "data": {
      "text/plain": [
       "array([[1, 1, 0, 1, 1],\n",
       "       [1, 1, 0, 1, 1],\n",
       "       [1, 1, 1, 1, 0],\n",
       "       [0, 1, 1, 1, 1]])"
      ]
     },
     "execution_count": 14,
     "metadata": {},
     "output_type": "execute_result"
    }
   ],
   "source": [
    "# 取前四行数据\n",
    "temp = score[:4,]\n",
    "temp\n",
    "\n",
    "# temp中的元素，如果大于60则设置为1，否则设置为0\n",
    "np.where(temp > 60,1,0)"
   ]
  },
  {
   "cell_type": "code",
   "execution_count": 17,
   "id": "e42b7437-f49f-418f-be62-d6d3ddaa06fd",
   "metadata": {
    "tags": []
   },
   "outputs": [
    {
     "data": {
      "text/plain": [
       "array([[1, 1, 0, 1, 1],\n",
       "       [0, 1, 0, 1, 0],\n",
       "       [0, 1, 0, 1, 0],\n",
       "       [0, 1, 1, 1, 1]])"
      ]
     },
     "execution_count": 17,
     "metadata": {},
     "output_type": "execute_result"
    }
   ],
   "source": [
    "#temp中的元素，如果大于60并且小于90，则设置为1，否则设置为0\n",
    "np.where(np.logical_and(temp>60,temp<90), 1,0)"
   ]
  },
  {
   "cell_type": "code",
   "execution_count": 20,
   "id": "16392861-1d91-4e5a-ba2d-ff69802ed101",
   "metadata": {
    "tags": []
   },
   "outputs": [
    {
     "data": {
      "text/plain": [
       "array([[0, 0, 1, 0, 0],\n",
       "       [1, 0, 1, 0, 1],\n",
       "       [0, 0, 1, 0, 1],\n",
       "       [1, 0, 0, 0, 0]])"
      ]
     },
     "execution_count": 20,
     "metadata": {},
     "output_type": "execute_result"
    }
   ],
   "source": [
    "#temp中的元素，如果小于60或者大于90，则设置为1，否则设置为0\n",
    "np.where(np.logical_or(temp<60,temp>90), 1,0)"
   ]
  },
  {
   "cell_type": "markdown",
   "id": "dca62ef0-f170-4740-a8a1-d3e43276486c",
   "metadata": {},
   "source": [
    "# 4 取最大值"
   ]
  },
  {
   "cell_type": "code",
   "execution_count": 22,
   "id": "cfa29b80-cde5-482c-ac71-95a2d25a4eee",
   "metadata": {
    "tags": []
   },
   "outputs": [
    {
     "data": {
      "text/plain": [
       "array([[80, 86, 59, 68, 70],\n",
       "       [95, 85, 44, 69, 93],\n",
       "       [90, 68, 95, 84, 45],\n",
       "       [44, 74, 86, 70, 69]])"
      ]
     },
     "execution_count": 22,
     "metadata": {},
     "output_type": "execute_result"
    }
   ],
   "source": [
    "# 取前四行数据\n",
    "temp = score[:4,]\n",
    "temp"
   ]
  },
  {
   "cell_type": "code",
   "execution_count": 23,
   "id": "32f9b850-c01f-48d6-bc84-48a0bc07936f",
   "metadata": {
    "tags": []
   },
   "outputs": [
    {
     "data": {
      "text/plain": [
       "95"
      ]
     },
     "execution_count": 23,
     "metadata": {},
     "output_type": "execute_result"
    }
   ],
   "source": [
    "# 取最大值\n",
    "np.max(temp)"
   ]
  },
  {
   "cell_type": "code",
   "execution_count": 24,
   "id": "bb8247a7-097e-4e4b-9bf5-425528d016e2",
   "metadata": {
    "tags": []
   },
   "outputs": [
    {
     "data": {
      "text/plain": [
       "73.7"
      ]
     },
     "execution_count": 24,
     "metadata": {},
     "output_type": "execute_result"
    }
   ],
   "source": [
    "# 取平均值\n",
    "np.mean(temp)"
   ]
  },
  {
   "cell_type": "code",
   "execution_count": 25,
   "id": "4ebb029f-533c-46a4-84c6-fe85d45a3f8f",
   "metadata": {
    "tags": []
   },
   "outputs": [
    {
     "data": {
      "text/plain": [
       "array([95, 86, 95, 84, 93])"
      ]
     },
     "execution_count": 25,
     "metadata": {},
     "output_type": "execute_result"
    }
   ],
   "source": [
    "# 按列就最大值\n",
    "np.max(temp,axis=0)"
   ]
  },
  {
   "cell_type": "code",
   "execution_count": 26,
   "id": "53c3c8f7-d8ea-4bd8-a9ce-0b4cfd135135",
   "metadata": {
    "tags": []
   },
   "outputs": [
    {
     "data": {
      "text/plain": [
       "array([86, 95, 95, 86])"
      ]
     },
     "execution_count": 26,
     "metadata": {},
     "output_type": "execute_result"
    }
   ],
   "source": [
    "# 按行取最大值\n",
    "np.max(temp,axis=1)"
   ]
  },
  {
   "cell_type": "code",
   "execution_count": 29,
   "id": "b644f59f-2c10-47ec-8bb5-3b12db5eebc4",
   "metadata": {
    "tags": []
   },
   "outputs": [
    {
     "data": {
      "text/plain": [
       "5"
      ]
     },
     "execution_count": 29,
     "metadata": {},
     "output_type": "execute_result"
    }
   ],
   "source": [
    "# 取最大值的下标，返回一个数字，是数组排成一行后从0开始数\n",
    "np.argmax(temp)"
   ]
  },
  {
   "cell_type": "code",
   "execution_count": 30,
   "id": "4ce1e0d1-6032-4acc-8f01-f10ac6aa5c11",
   "metadata": {
    "tags": []
   },
   "outputs": [
    {
     "data": {
      "text/plain": [
       "array([1, 0, 2, 2, 1])"
      ]
     },
     "execution_count": 30,
     "metadata": {},
     "output_type": "execute_result"
    }
   ],
   "source": [
    "# 按列求最大值的下标\n",
    "np.argmax(temp,axis=0)"
   ]
  },
  {
   "cell_type": "markdown",
   "id": "5d828fa3-b815-4c78-9b85-0911593cd5f4",
   "metadata": {},
   "source": [
    "# 5 数组间的运算"
   ]
  },
  {
   "cell_type": "code",
   "execution_count": 31,
   "id": "44705420-3730-43d0-af35-8ebcfafef64d",
   "metadata": {
    "tags": []
   },
   "outputs": [
    {
     "data": {
      "text/plain": [
       "array([[1, 2, 3],\n",
       "       [3, 4, 5]])"
      ]
     },
     "execution_count": 31,
     "metadata": {},
     "output_type": "execute_result"
    }
   ],
   "source": [
    "a = np.array([[1,2,3],[3,4,5]])\n",
    "a"
   ]
  },
  {
   "cell_type": "code",
   "execution_count": 32,
   "id": "16703054-d8db-4db8-a02d-d4f4e45ba1d5",
   "metadata": {
    "tags": []
   },
   "outputs": [
    {
     "data": {
      "text/plain": [
       "array([[ 3,  6,  9],\n",
       "       [ 9, 12, 15]])"
      ]
     },
     "execution_count": 32,
     "metadata": {},
     "output_type": "execute_result"
    }
   ],
   "source": [
    "a * 3"
   ]
  },
  {
   "cell_type": "code",
   "execution_count": 33,
   "id": "a9c60f9c-ac46-4678-9ef8-ca8221ed168e",
   "metadata": {
    "tags": []
   },
   "outputs": [
    {
     "data": {
      "text/plain": [
       "array([[0.5, 1. , 1.5],\n",
       "       [1.5, 2. , 2.5]])"
      ]
     },
     "execution_count": 33,
     "metadata": {},
     "output_type": "execute_result"
    }
   ],
   "source": [
    "a / 2"
   ]
  },
  {
   "cell_type": "code",
   "execution_count": 34,
   "id": "c70ce316-4ca8-4891-a465-36ef2d7c8f28",
   "metadata": {
    "tags": []
   },
   "outputs": [
    {
     "data": {
      "text/plain": [
       "[1, 2, 3, 1, 2, 3, 1, 2, 3]"
      ]
     },
     "execution_count": 34,
     "metadata": {},
     "output_type": "execute_result"
    }
   ],
   "source": [
    "# 如果是列表，则是扩展列表，不是运算里面的元素\n",
    "b = [1,2,3]\n",
    "b * 3"
   ]
  },
  {
   "cell_type": "code",
   "execution_count": 39,
   "id": "23b9b9d9-970f-405c-9642-31fbff706a4b",
   "metadata": {
    "tags": []
   },
   "outputs": [
    {
     "data": {
      "text/plain": [
       "(3,)"
      ]
     },
     "execution_count": 39,
     "metadata": {},
     "output_type": "execute_result"
    }
   ],
   "source": [
    "np.array([1,2,3]).shape #(3,) 表示一维数组，有3个元素 "
   ]
  },
  {
   "cell_type": "markdown",
   "id": "e8c70af9-d19f-44c3-9cc2-b4dd4423aadb",
   "metadata": {},
   "source": [
    "# 6 矩阵运算"
   ]
  },
  {
   "cell_type": "code",
   "execution_count": 44,
   "id": "0d3557f0-bb7e-4ac8-af52-c68aba442697",
   "metadata": {
    "tags": []
   },
   "outputs": [
    {
     "data": {
      "text/plain": [
       "array([[3.8],\n",
       "       [4.2],\n",
       "       [5. ],\n",
       "       [5.4],\n",
       "       [3.8],\n",
       "       [3.6]])"
      ]
     },
     "execution_count": 44,
     "metadata": {},
     "output_type": "execute_result"
    }
   ],
   "source": [
    "# 6X2 矩阵\n",
    "a = np.array([\n",
    "    [1,4],\n",
    "    [3,4],\n",
    "    [7,4],\n",
    "    [9,4],\n",
    "    [1,4],\n",
    "    [0,4]\n",
    "])\n",
    "\n",
    "# 2X1 矩阵\n",
    "b = np.array([\n",
    "    [0.2],\n",
    "    [0.9]\n",
    "])\n",
    "\n",
    "#矩阵点乘\n",
    "np.dot(a,b) #结果是 6X1"
   ]
  },
  {
   "cell_type": "code",
   "execution_count": 45,
   "id": "2d6a1bda-968a-4feb-813c-34b8b4c62758",
   "metadata": {
    "tags": []
   },
   "outputs": [
    {
     "data": {
      "text/plain": [
       "array([[3.8],\n",
       "       [4.2],\n",
       "       [5. ],\n",
       "       [5.4],\n",
       "       [3.8],\n",
       "       [3.6]])"
      ]
     },
     "execution_count": 45,
     "metadata": {},
     "output_type": "execute_result"
    }
   ],
   "source": [
    "# 矩阵专用乘法,此方法不支持矩阵和标量相乘\n",
    "np.matmul(a,b)"
   ]
  },
  {
   "cell_type": "code",
   "execution_count": null,
   "id": "e93b32c1-0665-4fa7-9b78-ed40af04a293",
   "metadata": {},
   "outputs": [],
   "source": []
  }
 ],
 "metadata": {
  "kernelspec": {
   "display_name": "Python 3 (ipykernel)",
   "language": "python",
   "name": "python3"
  },
  "language_info": {
   "codemirror_mode": {
    "name": "ipython",
    "version": 3
   },
   "file_extension": ".py",
   "mimetype": "text/x-python",
   "name": "python",
   "nbconvert_exporter": "python",
   "pygments_lexer": "ipython3",
   "version": "3.11.5"
  }
 },
 "nbformat": 4,
 "nbformat_minor": 5
}
