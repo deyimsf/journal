{
 "cells": [
  {
   "cell_type": "code",
   "execution_count": 1,
   "id": "f1fdd207-b97a-403a-8283-7ca64384290b",
   "metadata": {
    "tags": []
   },
   "outputs": [],
   "source": [
    "import numpy as np"
   ]
  },
  {
   "cell_type": "markdown",
   "id": "6e8ebddb-5e98-4660-a2b7-92e3bf9dea3b",
   "metadata": {},
   "source": [
    "# hello-numpy\n",
    "## 1.1 创建numpy"
   ]
  },
  {
   "cell_type": "code",
   "execution_count": 25,
   "id": "1509a7b5-77df-49bd-954e-39e8d2082e4c",
   "metadata": {
    "tags": []
   },
   "outputs": [
    {
     "data": {
      "text/plain": [
       "array([[ 1,  3,  4,  5],\n",
       "       [ 5,  6,  7,  8],\n",
       "       [44, 56, 23, 23]])"
      ]
     },
     "execution_count": 25,
     "metadata": {},
     "output_type": "execute_result"
    }
   ],
   "source": [
    "score = np.array([\n",
    "    [1,3,4,5],\n",
    "    [5,6,7,8],\n",
    "    [44,56,23,23]\n",
    "])\n",
    "\n",
    "score"
   ]
  },
  {
   "cell_type": "markdown",
   "id": "a0f8da88-214f-42a7-8ed7-bdf11dfff427",
   "metadata": {},
   "source": [
    "# 1.2 ndarray和原生Python效率对比"
   ]
  },
  {
   "cell_type": "code",
   "execution_count": 11,
   "id": "60aee98b-125b-478b-803c-58bec47e061c",
   "metadata": {
    "tags": []
   },
   "outputs": [
    {
     "name": "stdout",
     "output_type": "stream",
     "text": [
      "CPU times: user 822 µs, sys: 0 ns, total: 822 µs\n",
      "Wall time: 837 µs\n",
      "CPU times: user 994 µs, sys: 215 µs, total: 1.21 ms\n",
      "Wall time: 990 µs\n"
     ]
    }
   ],
   "source": [
    "import random\n",
    "import time\n",
    "import numpy as np\n",
    "\n",
    "a=[]\n",
    "for i in range(100000):\n",
    "    a.append(random.random())\n",
    "\n",
    "# %time魔法方法，可以查看当前代码运行一次花费时间\n",
    "%time sum1=sum(a)\n",
    "\n",
    "b = np.array(a) #转换成np数组\n",
    "%time sum2 = np.sum(b)\n"
   ]
  },
  {
   "cell_type": "markdown",
   "id": "f37f3809-022e-4a64-86e4-b9c7f6ac3582",
   "metadata": {},
   "source": [
    "# ndarray的使用\n",
    "## 数组的属性\n"
   ]
  },
  {
   "cell_type": "code",
   "execution_count": 14,
   "id": "a866ea19-3c40-4694-a71d-83aeaa4ebcab",
   "metadata": {
    "tags": []
   },
   "outputs": [
    {
     "data": {
      "text/plain": [
       "array([[ 1,  3,  4,  5],\n",
       "       [ 5,  6,  7,  8],\n",
       "       [44, 56, 23, 23]])"
      ]
     },
     "execution_count": 14,
     "metadata": {},
     "output_type": "execute_result"
    }
   ],
   "source": [
    "score"
   ]
  },
  {
   "cell_type": "code",
   "execution_count": 29,
   "id": "78c457e8-dcfb-4ecf-ba87-cca1039577b5",
   "metadata": {
    "tags": []
   },
   "outputs": [
    {
     "data": {
      "text/plain": [
       "(3, 4)"
      ]
     },
     "execution_count": 29,
     "metadata": {},
     "output_type": "execute_result"
    }
   ],
   "source": [
    "# 显示数组的形状，比如3行5列，3行2列等\n",
    "score.shape"
   ]
  },
  {
   "cell_type": "code",
   "execution_count": 17,
   "id": "7030687b-ec96-4fb9-80dc-1e151c86f7e0",
   "metadata": {
    "tags": []
   },
   "outputs": [
    {
     "data": {
      "text/plain": [
       "2"
      ]
     },
     "execution_count": 17,
     "metadata": {},
     "output_type": "execute_result"
    }
   ],
   "source": [
    "# 数组的维数，比如2维数组，3维数组等\n",
    "score.ndim"
   ]
  },
  {
   "cell_type": "code",
   "execution_count": 18,
   "id": "22cbf552-7eee-4baf-a7df-ad987e869217",
   "metadata": {
    "tags": []
   },
   "outputs": [
    {
     "data": {
      "text/plain": [
       "12"
      ]
     },
     "execution_count": 18,
     "metadata": {},
     "output_type": "execute_result"
    }
   ],
   "source": [
    "# 数组中元素的个数\n",
    "score.size"
   ]
  },
  {
   "cell_type": "code",
   "execution_count": 28,
   "id": "e2f36721-8244-4a3d-9eda-b684feac97f9",
   "metadata": {
    "tags": []
   },
   "outputs": [
    {
     "data": {
      "text/plain": [
       "8"
      ]
     },
     "execution_count": 28,
     "metadata": {},
     "output_type": "execute_result"
    }
   ],
   "source": [
    "# 数组中每个元素的字节长度\n",
    "score.itemsize"
   ]
  },
  {
   "cell_type": "code",
   "execution_count": 27,
   "id": "8f5680bf-8bb0-414d-be2b-68a2a595b508",
   "metadata": {
    "tags": []
   },
   "outputs": [
    {
     "data": {
      "text/plain": [
       "dtype('int64')"
      ]
     },
     "execution_count": 27,
     "metadata": {},
     "output_type": "execute_result"
    }
   ],
   "source": [
    "# 数组元素的类型\n",
    "score.dtype"
   ]
  },
  {
   "cell_type": "markdown",
   "id": "6f321649-81fb-4924-bef0-2c262b7a5790",
   "metadata": {},
   "source": [
    "## 2.2数组的形状"
   ]
  },
  {
   "cell_type": "code",
   "execution_count": 40,
   "id": "fa9bc41b-99fa-4189-b85c-383e41fcdb07",
   "metadata": {
    "tags": []
   },
   "outputs": [
    {
     "data": {
      "text/plain": [
       "(3,)"
      ]
     },
     "execution_count": 40,
     "metadata": {},
     "output_type": "execute_result"
    }
   ],
   "source": [
    "# 一维数组\n",
    "# 在这个一维数中有3个元素\n",
    "a = np.array([1,2,3])\n",
    "a\n",
    "a.shape"
   ]
  },
  {
   "cell_type": "code",
   "execution_count": 41,
   "id": "302511af-e80c-46d9-98c2-22fd4a5fb52f",
   "metadata": {
    "tags": []
   },
   "outputs": [
    {
     "data": {
      "text/plain": [
       "(4, 3)"
      ]
     },
     "execution_count": 41,
     "metadata": {},
     "output_type": "execute_result"
    }
   ],
   "source": [
    "# 二维数组\n",
    "# 在这个二维数组中，有4个一位数组；每个一位数组中有3个元素\n",
    "b = np.array([[1,2,3],[4,5,6],[4,5,6],[4,5,6]])\n",
    "b\n",
    "b.shape"
   ]
  },
  {
   "cell_type": "code",
   "execution_count": 42,
   "id": "7428ed32-c83d-4a51-8286-179647648020",
   "metadata": {
    "tags": []
   },
   "outputs": [
    {
     "data": {
      "text/plain": [
       "(5, 2, 3)"
      ]
     },
     "execution_count": 42,
     "metadata": {},
     "output_type": "execute_result"
    }
   ],
   "source": [
    "# 三维数组\n",
    "# 在这个三维数组里，有5个二维数组；每个二位数组中各有2个一位数组；每个一维数组中各有3个元素\n",
    "c = np.array([\n",
    "    [[1,2,3],[4,5,6]],\n",
    "    [[1,2,3],[4,5,6]],\n",
    "    [[1,2,3],[4,5,6]],\n",
    "    [[1,2,3],[4,5,6]],\n",
    "    [[1,2,3],[4,5,6]]\n",
    "])\n",
    "c\n",
    "c.shape"
   ]
  },
  {
   "cell_type": "markdown",
   "id": "e951806a-ad58-4361-ad97-a4fd1ee29c57",
   "metadata": {},
   "source": [
    "## 2.3 数组的类型"
   ]
  },
  {
   "cell_type": "code",
   "execution_count": 47,
   "id": "808a1d0d-9350-484a-83fa-54bdffdf5084",
   "metadata": {
    "tags": []
   },
   "outputs": [
    {
     "data": {
      "text/plain": [
       "array([[1., 2., 3.],\n",
       "       [4., 5., 6.],\n",
       "       [4., 5., 6.],\n",
       "       [4., 5., 6.]], dtype=float32)"
      ]
     },
     "execution_count": 47,
     "metadata": {},
     "output_type": "execute_result"
    }
   ],
   "source": [
    "# 指定数组中元素的 numpy类型为32位浮点数\n",
    "b = np.array([[1,2,3],[4,5,6],[4,5,6],[4,5,6]], dtype=np.float32)\n",
    "b"
   ]
  },
  {
   "cell_type": "code",
   "execution_count": 49,
   "id": "c8f0a309-3277-41c7-9cf1-196d7d4c7929",
   "metadata": {
    "tags": []
   },
   "outputs": [
    {
     "data": {
      "text/plain": [
       "array([b'fdsfd', b'hello'], dtype='|S5')"
      ]
     },
     "execution_count": 49,
     "metadata": {},
     "output_type": "execute_result"
    }
   ],
   "source": [
    "# 字符串类型数组\n",
    "c = np.array(['fdsfd', \"hello\"], dtype=np.string_)\n",
    "c"
   ]
  },
  {
   "cell_type": "code",
   "execution_count": null,
   "id": "39b0f824-7be2-4f15-8655-1a76fa0d3de3",
   "metadata": {},
   "outputs": [],
   "source": []
  }
 ],
 "metadata": {
  "kernelspec": {
   "display_name": "Python 3 (ipykernel)",
   "language": "python",
   "name": "python3"
  },
  "language_info": {
   "codemirror_mode": {
    "name": "ipython",
    "version": 3
   },
   "file_extension": ".py",
   "mimetype": "text/x-python",
   "name": "python",
   "nbconvert_exporter": "python",
   "pygments_lexer": "ipython3",
   "version": "3.11.5"
  }
 },
 "nbformat": 4,
 "nbformat_minor": 5
}
