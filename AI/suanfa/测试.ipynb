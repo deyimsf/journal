{
 "cells": [
  {
   "cell_type": "code",
   "execution_count": 3,
   "id": "b31cdae8-b10e-4012-b070-6cf29d78ff9a",
   "metadata": {
    "tags": []
   },
   "outputs": [
    {
     "name": "stdout",
     "output_type": "stream",
     "text": [
      "torch.Size([1, 3, 4])\n",
      "tensor([[[-1.0877, -1.1735, -0.5074, -1.4007],\n",
      "         [-0.6383, -1.3518,  0.3953,  0.2265],\n",
      "         [ 0.2643, -0.0876,  2.1618, -1.3398]]])\n"
     ]
    }
   ],
   "source": [
    "import torch\n",
    "\n",
    "x = torch.randn(1,3,4)\n",
    "print(x.shape)\n",
    "print(x)"
   ]
  },
  {
   "cell_type": "code",
   "execution_count": 4,
   "id": "9e8cd5ec-44de-4f94-9ccc-bf21d120e6db",
   "metadata": {
    "tags": []
   },
   "outputs": [
    {
     "data": {
      "text/plain": [
       "tensor([[[-1.0877],\n",
       "         [-1.1735],\n",
       "         [-0.5074],\n",
       "         [-1.4007]],\n",
       "\n",
       "        [[-0.6383],\n",
       "         [-1.3518],\n",
       "         [ 0.3953],\n",
       "         [ 0.2265]],\n",
       "\n",
       "        [[ 0.2643],\n",
       "         [-0.0876],\n",
       "         [ 2.1618],\n",
       "         [-1.3398]]])"
      ]
     },
     "execution_count": 4,
     "metadata": {},
     "output_type": "execute_result"
    }
   ],
   "source": [
    "x.reshape(3,4,1)"
   ]
  },
  {
   "cell_type": "code",
   "execution_count": 6,
   "id": "1920babf-15ce-4f30-aeca-3b41b2b8c26d",
   "metadata": {
    "tags": []
   },
   "outputs": [
    {
     "data": {
      "text/plain": [
       "tensor([[[-1.0877],\n",
       "         [-1.1735],\n",
       "         [-0.5074],\n",
       "         [-1.4007]],\n",
       "\n",
       "        [[-0.6383],\n",
       "         [-1.3518],\n",
       "         [ 0.3953],\n",
       "         [ 0.2265]],\n",
       "\n",
       "        [[ 0.2643],\n",
       "         [-0.0876],\n",
       "         [ 2.1618],\n",
       "         [-1.3398]]])"
      ]
     },
     "execution_count": 6,
     "metadata": {},
     "output_type": "execute_result"
    }
   ],
   "source": [
    "x.transpose(2,0).transpose(0,1)"
   ]
  },
  {
   "cell_type": "code",
   "execution_count": null,
   "id": "eb5c58dd-f235-4af8-8141-2d28fedf73a8",
   "metadata": {},
   "outputs": [],
   "source": []
  }
 ],
 "metadata": {
  "kernelspec": {
   "display_name": "Python 3 (ipykernel)",
   "language": "python",
   "name": "python3"
  },
  "language_info": {
   "codemirror_mode": {
    "name": "ipython",
    "version": 3
   },
   "file_extension": ".py",
   "mimetype": "text/x-python",
   "name": "python",
   "nbconvert_exporter": "python",
   "pygments_lexer": "ipython3",
   "version": "3.11.5"
  }
 },
 "nbformat": 4,
 "nbformat_minor": 5
}
