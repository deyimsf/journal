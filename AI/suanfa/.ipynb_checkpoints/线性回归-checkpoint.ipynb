{
 "cells": [
  {
   "cell_type": "code",
   "execution_count": 1,
   "id": "d694bcf6-2f2d-4b6a-93bb-0e84cb230f1b",
   "metadata": {
    "tags": []
   },
   "outputs": [],
   "source": [
    "import numpy as np"
   ]
  },
  {
   "cell_type": "markdown",
   "id": "b8d4067f-ffd6-4875-bc88-1f95dd4dfaae",
   "metadata": {},
   "source": [
    "# 1.二元一次方程，线性回归求解\n",
    "$ \\begin{cases}\n",
    "      x+y=14  \\\\\n",
    "      2x-y=10 \n",
    "    \\end{cases}\n",
    "$"
   ]
  },
  {
   "cell_type": "code",
   "execution_count": 8,
   "id": "e9b6e1f2-9b44-4a8f-bdd3-1f6736426b20",
   "metadata": {
    "tags": []
   },
   "outputs": [
    {
     "data": {
      "text/plain": [
       "array([[ 1,  1],\n",
       "       [ 2, -1]])"
      ]
     },
     "execution_count": 8,
     "metadata": {},
     "output_type": "execute_result"
    }
   ],
   "source": [
    "# 方程系数\n",
    "X = np.array([[1,1],[2,-1]])\n",
    "X"
   ]
  },
  {
   "cell_type": "code",
   "execution_count": 6,
   "id": "99822386-536c-47e6-bf1a-ab4c52ee429c",
   "metadata": {
    "tags": []
   },
   "outputs": [
    {
     "data": {
      "text/plain": [
       "array([14, 10])"
      ]
     },
     "execution_count": 6,
     "metadata": {},
     "output_type": "execute_result"
    }
   ],
   "source": [
    "# 方程右边的值\n",
    "y = np.array([14,10])\n",
    "y"
   ]
  },
  {
   "cell_type": "code",
   "execution_count": 20,
   "id": "ef5c2981-7133-4b1c-b04c-e867bbe90ed0",
   "metadata": {
    "tags": []
   },
   "outputs": [
    {
     "data": {
      "text/plain": [
       "array([8., 6.])"
      ]
     },
     "execution_count": 20,
     "metadata": {},
     "output_type": "execute_result"
    }
   ],
   "source": [
    "# 线性代数.计算线性回归的解\n",
    "np.linalg.solve(X,y)"
   ]
  },
  {
   "cell_type": "markdown",
   "id": "74f0f287-5027-4f17-a49d-871d3e7ca48c",
   "metadata": {},
   "source": [
    "# 2.二元一次方程\n",
    "$ \\begin{cases}\n",
    "      x+y=14  \\\\\n",
    "      2x-y=10 \n",
    "    \\end{cases}\n",
    "$ \n",
    "\n",
    "# 正规方程求解\n",
    "$ W = (X^TX)^{-1}X^Ty $\n"
   ]
  },
  {
   "cell_type": "markdown",
   "id": "61757706-08d8-4165-8db8-616f66e29a90",
   "metadata": {
    "tags": []
   },
   "source": [
    "X的转置乘X  \n",
    "$ (X^TX) $"
   ]
  },
  {
   "cell_type": "code",
   "execution_count": 25,
   "id": "c099c96e-aead-4108-96d9-e062743d107f",
   "metadata": {
    "tags": []
   },
   "outputs": [
    {
     "data": {
      "text/plain": [
       "array([[ 5, -1],\n",
       "       [-1,  2]])"
      ]
     },
     "execution_count": 25,
     "metadata": {},
     "output_type": "execute_result"
    }
   ],
   "source": [
    "# X的转置乘X\n",
    "A = X.T.dot(X)\n",
    "A"
   ]
  },
  {
   "cell_type": "markdown",
   "id": "050d2033-7784-41fb-a2b3-fa414506f5ba",
   "metadata": {},
   "source": [
    "求逆矩阵  \n",
    "$ (A)^{-1} $\n"
   ]
  },
  {
   "cell_type": "code",
   "execution_count": 26,
   "id": "16c3b54a-f7f1-4ddb-a4cf-9843d907caed",
   "metadata": {
    "tags": []
   },
   "outputs": [
    {
     "data": {
      "text/plain": [
       "array([[0.22222222, 0.11111111],\n",
       "       [0.11111111, 0.55555556]])"
      ]
     },
     "execution_count": 26,
     "metadata": {},
     "output_type": "execute_result"
    }
   ],
   "source": [
    "# 逆矩阵\n",
    "B = np.linalg.inv(A)\n",
    "B"
   ]
  },
  {
   "cell_type": "code",
   "execution_count": 23,
   "id": "ec0f02ff-83db-4ad6-9926-379e812ad263",
   "metadata": {
    "tags": []
   },
   "outputs": [
    {
     "data": {
      "text/plain": [
       "array([[ 0.33333333,  0.33333333],\n",
       "       [ 0.66666667, -0.33333333]])"
      ]
     },
     "execution_count": 23,
     "metadata": {},
     "output_type": "execute_result"
    }
   ],
   "source": [
    "# 再乘X的转置\n",
    "C = B.dot(X.T)\n",
    "C"
   ]
  },
  {
   "cell_type": "code",
   "execution_count": 24,
   "id": "b2751feb-d804-4c0e-8445-cbe197713816",
   "metadata": {
    "tags": []
   },
   "outputs": [
    {
     "data": {
      "text/plain": [
       "array([8., 6.])"
      ]
     },
     "execution_count": 24,
     "metadata": {},
     "output_type": "execute_result"
    }
   ],
   "source": [
    "# 算出的矩阵C再点乘y，得出x=8,y=6\n",
    "C.dot(y)"
   ]
  },
  {
   "cell_type": "markdown",
   "id": "8007c08c-37c7-4ece-855a-785f72e68501",
   "metadata": {},
   "source": [
    "# 3.三元一次方程\n",
    "$ \n",
    "    \\begin{cases}\n",
    "        x-y+z = 100 \\\\\n",
    "        2x+y-z = 80 \\\\\n",
    "        3x-2y+6z=256\n",
    "    \\end{cases}\n",
    "$"
   ]
  },
  {
   "cell_type": "markdown",
   "id": "35c62a7c-937a-4917-bc4f-d9be7a805452",
   "metadata": {},
   "source": [
    "## 正规方程求解\n",
    "$ W = (X^TX)^{-1}X^Ty $"
   ]
  },
  {
   "cell_type": "code",
   "execution_count": 28,
   "id": "099cb7a2-a609-436f-bf7f-93e07ce3f5da",
   "metadata": {
    "tags": []
   },
   "outputs": [
    {
     "data": {
      "text/plain": [
       "array([[ 1, -1,  1],\n",
       "       [ 2,  1, -1],\n",
       "       [ 3, -2,  6]])"
      ]
     },
     "execution_count": 28,
     "metadata": {},
     "output_type": "execute_result"
    }
   ],
   "source": [
    "X = np.array([\n",
    "    [1,-1,1],\n",
    "    [2,1,-1],\n",
    "    [3,-2,6]\n",
    "])\n",
    "X"
   ]
  },
  {
   "cell_type": "code",
   "execution_count": 29,
   "id": "14106071-7364-4346-a06f-854ec4c3dad6",
   "metadata": {
    "tags": []
   },
   "outputs": [
    {
     "data": {
      "text/plain": [
       "array([100,  80, 256])"
      ]
     },
     "execution_count": 29,
     "metadata": {},
     "output_type": "execute_result"
    }
   ],
   "source": [
    "y = np.array([100,80,256])\n",
    "y"
   ]
  },
  {
   "cell_type": "markdown",
   "id": "19db0db8-0504-41fe-a2d1-dd31fc7146e6",
   "metadata": {},
   "source": [
    "$ W = (X^TX)^{-1}X^Ty $"
   ]
  },
  {
   "cell_type": "code",
   "execution_count": 33,
   "id": "49bd6472-2db5-48cd-bd3c-6ab804f53ab5",
   "metadata": {
    "tags": []
   },
   "outputs": [
    {
     "data": {
      "text/plain": [
       "array([ 60., -41.,  -1.])"
      ]
     },
     "execution_count": 33,
     "metadata": {},
     "output_type": "execute_result"
    }
   ],
   "source": [
    "# 正规方程求解 \n",
    "w = np.linalg.inv(X.T.dot(X)).dot(X.T).dot(y)\n",
    "w"
   ]
  },
  {
   "cell_type": "markdown",
   "id": "3ef48c84-2b3f-4112-85e7-d2fed78a7f44",
   "metadata": {
    "tags": []
   },
   "source": [
    "# 4 使用sklearn库计算正规方程"
   ]
  },
  {
   "cell_type": "code",
   "execution_count": 38,
   "id": "6429a71f-a77d-4725-b929-f485fe69f041",
   "metadata": {
    "tags": []
   },
   "outputs": [],
   "source": [
    "# linear线性  model模型、算法\n",
    "# LinearRegression 线性回归\n",
    "\n",
    "from sklearn.linear_model import LinearRegression"
   ]
  },
  {
   "cell_type": "code",
   "execution_count": 47,
   "id": "c5db9998-a8d5-4d18-95d5-c92e66f049a8",
   "metadata": {
    "tags": []
   },
   "outputs": [
    {
     "data": {
      "text/plain": [
       "array([[ 1, -1,  1],\n",
       "       [ 2,  1, -1],\n",
       "       [ 3, -2,  6]])"
      ]
     },
     "metadata": {},
     "output_type": "display_data"
    },
    {
     "data": {
      "text/plain": [
       "array([100,  80, 256])"
      ]
     },
     "metadata": {},
     "output_type": "display_data"
    },
    {
     "data": {
      "text/plain": [
       "array([ 60., -41.,  -1.])"
      ]
     },
     "execution_count": 47,
     "metadata": {},
     "output_type": "execute_result"
    }
   ],
   "source": [
    "# fit_intercept=False 告诉模型，不要计算截距,默认是计算截距的;如果是True，则不会用正规方程求解\n",
    "model = LinearRegression(fit_intercept=False)\n",
    "\n",
    "# X是数据，y是目标值\n",
    "display(X,y)\n",
    "\n",
    "# 训练\n",
    "model.fit(X,y)\n",
    "\n",
    "# coef_ 求方程的解，也就是w\n",
    "model.coef_"
   ]
  },
  {
   "cell_type": "code",
   "execution_count": 46,
   "id": "afb3dcef-81e4-4500-955f-8c3b27bb9a2d",
   "metadata": {
    "tags": []
   },
   "outputs": [
    {
     "data": {
      "text/plain": [
       "0.0"
      ]
     },
     "execution_count": 46,
     "metadata": {},
     "output_type": "execute_result"
    }
   ],
   "source": [
    "# 截距\n",
    "model.intercept_"
   ]
  },
  {
   "cell_type": "code",
   "execution_count": null,
   "id": "9c0029a9-e27e-4f7d-8bc1-5457cee30f53",
   "metadata": {},
   "outputs": [],
   "source": []
  },
  {
   "cell_type": "code",
   "execution_count": 53,
   "id": "91090cd3-d7d4-4b46-a650-5567f5736a18",
   "metadata": {
    "tags": []
   },
   "outputs": [
    {
     "data": {
      "text/plain": [
       "array([[ 0.        ,  0.34482759,  0.68965517],\n",
       "       [ 1.03448276,  1.37931034,  1.72413793],\n",
       "       [ 2.06896552,  2.4137931 ,  2.75862069],\n",
       "       [ 3.10344828,  3.44827586,  3.79310345],\n",
       "       [ 4.13793103,  4.48275862,  4.82758621],\n",
       "       [ 5.17241379,  5.51724138,  5.86206897],\n",
       "       [ 6.20689655,  6.55172414,  6.89655172],\n",
       "       [ 7.24137931,  7.5862069 ,  7.93103448],\n",
       "       [ 8.27586207,  8.62068966,  8.96551724],\n",
       "       [ 9.31034483,  9.65517241, 10.        ]])"
      ]
     },
     "execution_count": 53,
     "metadata": {},
     "output_type": "execute_result"
    }
   ],
   "source": [
    "np.linspace(0,10,num=30).reshape(-1,3)"
   ]
  },
  {
   "cell_type": "code",
   "execution_count": 59,
   "id": "d2ec30de-80ff-4ca2-b7f3-b6f785b1a2e1",
   "metadata": {
    "tags": []
   },
   "outputs": [
    {
     "data": {
      "text/plain": [
       "array([[8],\n",
       "       [3],\n",
       "       [9],\n",
       "       [8],\n",
       "       [6],\n",
       "       [7],\n",
       "       [2],\n",
       "       [8]])"
      ]
     },
     "execution_count": 59,
     "metadata": {},
     "output_type": "execute_result"
    }
   ],
   "source": [
    "np.random.randint(1,10,size=(8,1))"
   ]
  },
  {
   "cell_type": "code",
   "execution_count": 60,
   "id": "05a4459f-8dce-4dd4-800b-2ca2aafa1f18",
   "metadata": {
    "tags": []
   },
   "outputs": [
    {
     "data": {
      "text/plain": [
       "array([[-0.10370605],\n",
       "       [ 1.06609423]])"
      ]
     },
     "execution_count": 60,
     "metadata": {},
     "output_type": "execute_result"
    }
   ],
   "source": [
    "np.random.randn(2,1)"
   ]
  },
  {
   "cell_type": "code",
   "execution_count": 64,
   "id": "e898e06d-5908-43a7-857b-0bb85e955308",
   "metadata": {
    "tags": []
   },
   "outputs": [
    {
     "data": {
      "text/plain": [
       "array([1, 2, 3, 4, 5, 6])"
      ]
     },
     "execution_count": 64,
     "metadata": {},
     "output_type": "execute_result"
    }
   ],
   "source": [
    "a = np.array([1,2])\n",
    "b = np.array([3,4])\n",
    "c = np.array([5,6])\n",
    "np.concatenate([a,b,c],axis=0)"
   ]
  },
  {
   "cell_type": "code",
   "execution_count": 111,
   "id": "e232fa55-2292-4c1f-9219-08b5cdb2d710",
   "metadata": {
    "tags": []
   },
   "outputs": [
    {
     "data": {
      "text/plain": [
       "array([-1.        , -0.87878788, -0.75757576, -0.63636364, -0.51515152,\n",
       "       -0.39393939, -0.27272727, -0.15151515, -0.03030303,  0.09090909,\n",
       "        0.21212121,  0.33333333,  0.45454545,  0.57575758,  0.6969697 ,\n",
       "        0.81818182,  0.93939394,  1.06060606,  1.18181818,  1.3030303 ,\n",
       "        1.42424242,  1.54545455,  1.66666667,  1.78787879,  1.90909091,\n",
       "        2.03030303,  2.15151515,  2.27272727,  2.39393939,  2.51515152,\n",
       "        2.63636364,  2.75757576,  2.87878788,  3.        ,  3.12121212,\n",
       "        3.24242424,  3.36363636,  3.48484848,  3.60606061,  3.72727273,\n",
       "        3.84848485,  3.96969697,  4.09090909,  4.21212121,  4.33333333,\n",
       "        4.45454545,  4.57575758,  4.6969697 ,  4.81818182,  4.93939394,\n",
       "        5.06060606,  5.18181818,  5.3030303 ,  5.42424242,  5.54545455,\n",
       "        5.66666667,  5.78787879,  5.90909091,  6.03030303,  6.15151515,\n",
       "        6.27272727,  6.39393939,  6.51515152,  6.63636364,  6.75757576,\n",
       "        6.87878788,  7.        ,  7.12121212,  7.24242424,  7.36363636,\n",
       "        7.48484848,  7.60606061,  7.72727273,  7.84848485,  7.96969697,\n",
       "        8.09090909,  8.21212121,  8.33333333,  8.45454545,  8.57575758,\n",
       "        8.6969697 ,  8.81818182,  8.93939394,  9.06060606,  9.18181818,\n",
       "        9.3030303 ,  9.42424242,  9.54545455,  9.66666667,  9.78787879,\n",
       "        9.90909091, 10.03030303, 10.15151515, 10.27272727, 10.39393939,\n",
       "       10.51515152, 10.63636364, 10.75757576, 10.87878788, 11.        ])"
      ]
     },
     "execution_count": 111,
     "metadata": {},
     "output_type": "execute_result"
    }
   ],
   "source": [
    "import matplotlib.pyplot as plt\n",
    "X = np.linspace(-1,11,num=100)\n",
    "X"
   ]
  },
  {
   "cell_type": "code",
   "execution_count": 123,
   "id": "07492b16-c161-49bc-8a8a-07bc4f916947",
   "metadata": {
    "tags": []
   },
   "outputs": [
    {
     "data": {
      "text/plain": [
       "<matplotlib.collections.PathCollection at 0x12b419490>"
      ]
     },
     "execution_count": 123,
     "metadata": {},
     "output_type": "execute_result"
    },
    {
     "data": {
      "image/png": "[encoded data removed]",
      "text/plain": [
       "<Figure size 640x480 with 1 Axes>"
      ]
     },
     "metadata": {},
     "output_type": "display_data"
    }
   ],
   "source": [
    "y = (X - 5)**3 + 3 * X- 12 + np.random.randn(100,1)\n",
    "# -1:自适应形状 1弄成一列\n",
    "X = X.reshape(-1,1)\n",
    "plt.scatter(X,y)\n"
   ]
  },
  {
   "cell_type": "code",
   "execution_count": 125,
   "id": "d702a667-928b-4901-9f92-1b88e0458fc5",
   "metadata": {
    "tags": []
   },
   "outputs": [
    {
     "data": {
      "text/plain": [
       "[<matplotlib.lines.Line2D at 0x12b4f0e10>]"
      ]
     },
     "execution_count": 125,
     "metadata": {},
     "output_type": "execute_result"
    },
    {
     "data": {
      "image/png": "[encoded data removed]",
      "text/plain": [
       "<Figure size 640x480 with 1 Axes>"
      ]
     },
     "metadata": {},
     "output_type": "display_data"
    }
   ],
   "source": [
    "from sklearn.linear_model import LinearRegression\n",
    "#使用线性回归预测\n",
    "model = LinearRegression()\n",
    "model.fit(X,y) #训练\n",
    "\n",
    "# 生成测试数据\n",
    "X_test = np.linspace(-2,12,300).reshape(-1,1)\n",
    "\n",
    "# 预测\n",
    "y_pred = model.predict(X_test)\n",
    "plt.scatter(X,y)\n",
    "\n",
    "plt.plot(X_test,y_pred, color='green')\n"
   ]
  },
  {
   "cell_type": "markdown",
   "id": "b6d6434d-0b72-4679-b315-79bed9971cf3",
   "metadata": {},
   "source": [
    "## 升维(直线可以变成曲线)"
   ]
  },
  {
   "cell_type": "code",
   "execution_count": 126,
   "id": "1aac0c2c-6291-4bcc-87e8-a96d65320843",
   "metadata": {
    "tags": []
   },
   "outputs": [
    {
     "data": {
      "text/plain": [
       "array([[ -1.        ,   1.        ],\n",
       "       [ -0.87878788,   0.77226814],\n",
       "       [ -0.75757576,   0.57392103],\n",
       "       [ -0.63636364,   0.40495868],\n",
       "       [ -0.51515152,   0.26538108],\n",
       "       [ -0.39393939,   0.15518825],\n",
       "       [ -0.27272727,   0.07438017],\n",
       "       [ -0.15151515,   0.02295684],\n",
       "       [ -0.03030303,   0.00091827],\n",
       "       [  0.09090909,   0.00826446],\n",
       "       [  0.21212121,   0.04499541],\n",
       "       [  0.33333333,   0.11111111],\n",
       "       [  0.45454545,   0.20661157],\n",
       "       [  0.57575758,   0.33149679],\n",
       "       [  0.6969697 ,   0.48576676],\n",
       "       [  0.81818182,   0.66942149],\n",
       "       [  0.93939394,   0.88246097],\n",
       "       [  1.06060606,   1.12488522],\n",
       "       [  1.18181818,   1.39669421],\n",
       "       [  1.3030303 ,   1.69788797],\n",
       "       [  1.42424242,   2.02846648],\n",
       "       [  1.54545455,   2.38842975],\n",
       "       [  1.66666667,   2.77777778],\n",
       "       [  1.78787879,   3.19651056],\n",
       "       [  1.90909091,   3.6446281 ],\n",
       "       [  2.03030303,   4.12213039],\n",
       "       [  2.15151515,   4.62901745],\n",
       "       [  2.27272727,   5.16528926],\n",
       "       [  2.39393939,   5.73094582],\n",
       "       [  2.51515152,   6.32598714],\n",
       "       [  2.63636364,   6.95041322],\n",
       "       [  2.75757576,   7.60422406],\n",
       "       [  2.87878788,   8.28741965],\n",
       "       [  3.        ,   9.        ],\n",
       "       [  3.12121212,   9.74196511],\n",
       "       [  3.24242424,  10.51331497],\n",
       "       [  3.36363636,  11.31404959],\n",
       "       [  3.48484848,  12.14416896],\n",
       "       [  3.60606061,  13.00367309],\n",
       "       [  3.72727273,  13.89256198],\n",
       "       [  3.84848485,  14.81083563],\n",
       "       [  3.96969697,  15.75849403],\n",
       "       [  4.09090909,  16.73553719],\n",
       "       [  4.21212121,  17.74196511],\n",
       "       [  4.33333333,  18.77777778],\n",
       "       [  4.45454545,  19.84297521],\n",
       "       [  4.57575758,  20.93755739],\n",
       "       [  4.6969697 ,  22.06152433],\n",
       "       [  4.81818182,  23.21487603],\n",
       "       [  4.93939394,  24.39761249],\n",
       "       [  5.06060606,  25.6097337 ],\n",
       "       [  5.18181818,  26.85123967],\n",
       "       [  5.3030303 ,  28.12213039],\n",
       "       [  5.42424242,  29.42240588],\n",
       "       [  5.54545455,  30.75206612],\n",
       "       [  5.66666667,  32.11111111],\n",
       "       [  5.78787879,  33.49954086],\n",
       "       [  5.90909091,  34.91735537],\n",
       "       [  6.03030303,  36.36455464],\n",
       "       [  6.15151515,  37.84113866],\n",
       "       [  6.27272727,  39.34710744],\n",
       "       [  6.39393939,  40.88246097],\n",
       "       [  6.51515152,  42.44719927],\n",
       "       [  6.63636364,  44.04132231],\n",
       "       [  6.75757576,  45.66483012],\n",
       "       [  6.87878788,  47.31772268],\n",
       "       [  7.        ,  49.        ],\n",
       "       [  7.12121212,  50.71166208],\n",
       "       [  7.24242424,  52.45270891],\n",
       "       [  7.36363636,  54.2231405 ],\n",
       "       [  7.48484848,  56.02295684],\n",
       "       [  7.60606061,  57.85215794],\n",
       "       [  7.72727273,  59.7107438 ],\n",
       "       [  7.84848485,  61.59871442],\n",
       "       [  7.96969697,  63.51606979],\n",
       "       [  8.09090909,  65.46280992],\n",
       "       [  8.21212121,  67.4389348 ],\n",
       "       [  8.33333333,  69.44444444],\n",
       "       [  8.45454545,  71.47933884],\n",
       "       [  8.57575758,  73.543618  ],\n",
       "       [  8.6969697 ,  75.63728191],\n",
       "       [  8.81818182,  77.76033058],\n",
       "       [  8.93939394,  79.912764  ],\n",
       "       [  9.06060606,  82.09458219],\n",
       "       [  9.18181818,  84.30578512],\n",
       "       [  9.3030303 ,  86.54637282],\n",
       "       [  9.42424242,  88.81634527],\n",
       "       [  9.54545455,  91.11570248],\n",
       "       [  9.66666667,  93.44444444],\n",
       "       [  9.78787879,  95.80257117],\n",
       "       [  9.90909091,  98.19008264],\n",
       "       [ 10.03030303, 100.60697888],\n",
       "       [ 10.15151515, 103.05325987],\n",
       "       [ 10.27272727, 105.52892562],\n",
       "       [ 10.39393939, 108.03397612],\n",
       "       [ 10.51515152, 110.56841139],\n",
       "       [ 10.63636364, 113.1322314 ],\n",
       "       [ 10.75757576, 115.72543618],\n",
       "       [ 10.87878788, 118.34802571],\n",
       "       [ 11.        , 121.        ]])"
      ]
     },
     "execution_count": 126,
     "metadata": {},
     "output_type": "execute_result"
    }
   ],
   "source": [
    "np.set_printoptions(suppress=True)\n",
    "np.concatenate([X,X**2], axis=1)"
   ]
  },
  {
   "cell_type": "code",
   "execution_count": null,
   "id": "5670fdb2-9b70-486d-963e-d7849996c441",
   "metadata": {},
   "outputs": [],
   "source": []
  }
 ],
 "metadata": {
  "kernelspec": {
   "display_name": "Python 3 (ipykernel)",
   "language": "python",
   "name": "python3"
  },
  "language_info": {
   "codemirror_mode": {
    "name": "ipython",
    "version": 3
   },
   "file_extension": ".py",
   "mimetype": "text/x-python",
   "name": "python",
   "nbconvert_exporter": "python",
   "pygments_lexer": "ipython3",
   "version": "3.11.5"
  }
 },
 "nbformat": 4,
 "nbformat_minor": 5
}
