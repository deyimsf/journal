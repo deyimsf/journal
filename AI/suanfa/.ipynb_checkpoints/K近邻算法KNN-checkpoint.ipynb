{
 "cells": [
  {
   "cell_type": "code",
   "execution_count": 1,
   "id": "d0f3e9d6-d508-4c8a-982e-19b2ee03ea0c",
   "metadata": {
    "tags": []
   },
   "outputs": [],
   "source": [
    "from sklearn.neighbors import KNeighborsClassifier"
   ]
  },
  {
   "cell_type": "code",
   "execution_count": 2,
   "id": "db334518-6fbd-4c94-89b6-70d8ee2c52c3",
   "metadata": {
    "tags": []
   },
   "outputs": [
    {
     "name": "stdout",
     "output_type": "stream",
     "text": [
      "[0]\n",
      "[1]\n"
     ]
    }
   ],
   "source": [
    "# 构造数据\n",
    "x = [[1],[2],[10],[20]]\n",
    "y = [0,0,1,1]\n",
    "\n",
    "# 训练模型\n",
    "# 实例化一个估计起对象\n",
    "estimator = KNeighborsClassifier(n_neighbors=1)\n",
    "\n",
    "# 调用fit方法进行训练\n",
    "estimator.fit(x,y)\n",
    "\n",
    "# 预测\n",
    "ret = estimator.predict([[0]])\n",
    "print(ret)\n",
    "\n",
    "ret1 = estimator.predict([[100]])\n",
    "print(ret1)"
   ]
  },
  {
   "cell_type": "markdown",
   "id": "f6120c5f-dc62-41f9-9637-02fcd271e94d",
   "metadata": {},
   "source": [
    "# 距离度量"
   ]
  },
  {
   "cell_type": "markdown",
   "id": "6f90307e-d627-4148-9dc7-6b9f9b303b55",
   "metadata": {
    "tags": []
   },
   "source": [
    "## 2 常见距离公式\n",
    "### 2.1 欧式距离  \n",
    "各个维度相减的平方和再求根号\n"
   ]
  },
  {
   "cell_type": "markdown",
   "id": "2c0734dd-672f-4c95-9b4e-e3ca2df304e6",
   "metadata": {},
   "source": [
    "* 二维空间两个点$(x_1,y_1) (x_2,y_2)$距离是:  \n",
    "    $$ dist =\\sqrt{(x_1-x_2)^{2} + (y_1-y_2)^{2}}$$"
   ]
  },
  {
   "cell_type": "markdown",
   "id": "f7d39a0f-07e8-4fda-a673-33f8c48d88e5",
   "metadata": {},
   "source": [
    "* 三维空间两个点$(x_1,y_1,z_1) (x_2,y_2,z_2)$距离是:  \n",
    "    $$ dist = \\sqrt{(x_1-x_2)^{2} + (y_1-y_2)^{2} + (z_1-z_2)^{2}}$$"
   ]
  },
  {
   "cell_type": "markdown",
   "id": "8bffecb9-9024-4ff9-994c-0638f66bbc49",
   "metadata": {},
   "source": [
    "* 多维空间两个点$(x_{1},x_{2},...,x_{n}) (y_1,y_2,...,y_n)$ 距离是\n",
    "    $$ dist= \\sqrt{  \\sum_{k=1}^n  (x_k-y_k)^{2}   } $$"
   ]
  },
  {
   "cell_type": "markdown",
   "id": "ede7d7ba-f6e5-407c-938b-ea34d9c20bf4",
   "metadata": {},
   "source": [
    "* 举例   \n",
    "    x = [[1,1], [2,2], [3,3], [4,4]]  \n",
    "   各个点之间的距离是  \n",
    "   d = 1.4142 2.8284 4.2626 2.8284 1.4142"
   ]
  },
  {
   "cell_type": "markdown",
   "id": "d945d875-4e56-40aa-8378-5effaa170beb",
   "metadata": {},
   "source": [
    "## 2.2 曼哈顿距离  \n",
    " 各个维度相减的绝对值之和"
   ]
  },
  {
   "cell_type": "markdown",
   "id": "b21c2fc8-6799-4d8b-b142-c6e22d6cb82b",
   "metadata": {
    "tags": []
   },
   "source": [
    "* 二维空间两个点$(x_1,y_1) (x_2,y_2)$ 距离是  \n",
    "    $$ dist = |x_1-x_2| + |y_1-y_2| $$"
   ]
  },
  {
   "cell_type": "markdown",
   "id": "c46447f2-db74-4a56-8308-c6d5e2552c89",
   "metadata": {},
   "source": [
    "* 多维空间两个点$(x_1,y_1,z_1) (x_2,y_2,z_2)$ 距离是  \n",
    "    $$ dist = |x_1-x_2| + |y_1-y_2| + |z_1-z_2|$$"
   ]
  },
  {
   "cell_type": "markdown",
   "id": "b76760e6-bc69-40e5-ac03-8d89c61cde1e",
   "metadata": {},
   "source": [
    "## 2.3 切比雪夫距离  \n",
    " 各个维度中距离最大的值"
   ]
  },
  {
   "cell_type": "markdown",
   "id": "b659ddbd-8afc-430d-95de-abc14da15781",
   "metadata": {},
   "source": [
    "* 二维两个点$(x_1,y_1)(x_2,y_2)$ 距离是  \n",
    "    $$ dist = max(|x_1-x_2|,|y_1-y_2|)  $$"
   ]
  },
  {
   "cell_type": "markdown",
   "id": "4572d108-2888-4d0a-8a53-1017a2b6d4e4",
   "metadata": {},
   "source": [
    "* 多维空间两个点$(x_1,y_1,z_1) (x_2,y_2,z_2)$ 距离是  \n",
    "    $$ dist = max(|x_1-x_2|,|y_1-y_2|,|z_1-z_2|)  $$"
   ]
  },
  {
   "cell_type": "markdown",
   "id": "3cceefa6-40e0-4451-a8c2-3f70e5e82a5c",
   "metadata": {},
   "source": [
    "## 2.4 闵可夫斯基距离  \n",
    "他其实不是一种距离，而是对一组距离的泛化描述"
   ]
  },
  {
   "cell_type": "markdown",
   "id": "c048a521-78a0-4558-be86-c6cc32ddfa2c",
   "metadata": {},
   "source": [
    "* 多维空间两个点$(x_{1},x_{2},...,x_{n}) (y_1,y_2,...,y_n)$ 用闵可夫斯基距离定义为\n",
    "    $$ dist= \\sqrt[p]{  \\sum_{k=1}^n  |x_k-y_k|^{p}   } $$\n",
    "    * 其中p是一个可变参数  \n",
    "    * p=1时，是曼哈顿距离\n",
    "    * p=2时，是欧式距离\n",
    "    * p $\\rightarrow \\infty$时，是切比雪夫距离"
   ]
  },
  {
   "cell_type": "code",
   "execution_count": null,
   "id": "d46ea09a-0283-44b0-8a4e-1097a4c8e7a3",
   "metadata": {},
   "outputs": [],
   "source": []
  }
 ],
 "metadata": {
  "kernelspec": {
   "display_name": "Python 3 (ipykernel)",
   "language": "python",
   "name": "python3"
  },
  "language_info": {
   "codemirror_mode": {
    "name": "ipython",
    "version": 3
   },
   "file_extension": ".py",
   "mimetype": "text/x-python",
   "name": "python",
   "nbconvert_exporter": "python",
   "pygments_lexer": "ipython3",
   "version": "3.11.5"
  }
 },
 "nbformat": 4,
 "nbformat_minor": 5
}
