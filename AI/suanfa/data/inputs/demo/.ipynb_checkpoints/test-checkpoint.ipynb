{
 "cells": [
  {
   "cell_type": "code",
   "execution_count": 18,
   "id": "a629b8bf-72f2-4c8c-b239-5f62ba505211",
   "metadata": {
    "tags": []
   },
   "outputs": [
    {
     "name": "stdout",
     "output_type": "stream",
     "text": [
      "torch.Size([2, 3])\n",
      "data\n",
      "  tensor([[-0.4175,  0.2751,  1.6215],\n",
      "        [-0.2590,  0.6221, -0.9838]])\n",
      "torch.Size([2])\n",
      "data \n",
      "  tensor([[ 1.6215],\n",
      "        [-0.9838]])\n"
     ]
    }
   ],
   "source": [
    "import torch\n",
    "\n",
    "x = torch.randn(2,3)\n",
    "print(x.shape)\n",
    "print('data\\n ',x)\n",
    "\n",
    "x = x[:,-1]\n",
    "print(x.shape)\n",
    "print('data \\n ',x)\n",
    "print('data \\n ',x.unsqueeze(-1))"
   ]
  },
  {
   "cell_type": "code",
   "execution_count": null,
   "id": "d1b42c9e-cfa2-4a46-896e-5145ab368c4a",
   "metadata": {},
   "outputs": [],
   "source": []
  }
 ],
 "metadata": {
  "kernelspec": {
   "display_name": "Python 3 (ipykernel)",
   "language": "python",
   "name": "python3"
  },
  "language_info": {
   "codemirror_mode": {
    "name": "ipython",
    "version": 3
   },
   "file_extension": ".py",
   "mimetype": "text/x-python",
   "name": "python",
   "nbconvert_exporter": "python",
   "pygments_lexer": "ipython3",
   "version": "3.11.5"
  }
 },
 "nbformat": 4,
 "nbformat_minor": 5
}
