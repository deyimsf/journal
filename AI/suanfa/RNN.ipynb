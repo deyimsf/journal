{
 "cells": [
  {
   "cell_type": "markdown",
   "id": "8d6ba2a7-fa5d-4fcc-80a1-0718e01c7da5",
   "metadata": {},
   "source": [
    "# RNN"
   ]
  },
  {
   "cell_type": "markdown",
   "id": "b487c239-5a02-45f0-b621-1340441c6586",
   "metadata": {},
   "source": [
    "\n",
    "#### 这里演示每个cell都有预测值\n",
    "$ S^{t} = tanh(U\\cdot X_t + W\\cdot S^{t-1} + b_s) $  \n",
    "$ O^{t} = softmax(V\\cdot S^{t} + b_o) $\n",
    "\n",
    "\n",
    "$ S^{t} $ : 当前时刻的隐层输出 \n",
    "$ O^{t} $ : 当前时刻预测值，或者叫输出值  \n",
    "$ X_t $ : 当前时刻的输入值.   \n",
    "$ S^{t-1} $: 上一个时刻的隐藏输出  \n",
    "$ b_s $: 隐层输出的偏置项  \n",
    "$ b_o $: 预测输出的偏置项  \n"
   ]
  },
  {
   "cell_type": "code",
   "execution_count": 5,
   "id": "272ca462-a7a1-46cd-abdc-2dc0e3f47126",
   "metadata": {
    "tags": []
   },
   "outputs": [],
   "source": [
    "import numpy as np\n",
    "import torch\n",
    "\n",
    "# 单个cell的向前传播\n",
    "# s_prev: 上一个时刻的隐藏输出\n",
    "def rnn_cell_forward(x_t, s_prev, parameters):\n",
    "    # 取出参数\n",
    "    U = parameters['U']\n",
    "    W = parameters['W']\n",
    "    V = parameters['V']\n",
    "    b_s = parameters['b_s']\n",
    "    b_o = parameters['b_o']\n",
    "\n",
    "    # 写公式\n",
    "    S_t = np.tanh(np.dot(U,X_t) + np.dot(W, S_prev) +b_s)\n",
    "    O_t = softmax(np.dot(V, S_t) + b_o)\n",
    "    \n",
    "    # 记录每时刻值，用于反向传播\n",
    "    cache = (S_t,S_prev,X_t, parameters)\n",
    "    return S_t, O_t, cache\n",
    "\n",
    "\n",
    "def softmax(x):\n",
    "    \"\"\"\n",
    "    x: 一个n维向量\n",
    "    \"\"\"\n",
    "    exp_x = np.exp(x)\n",
    "    softmax_x = exp_x / np.sum(exp_x)\n",
    "    return softmax_x"
   ]
  },
  {
   "cell_type": "markdown",
   "id": "b8662f5b-67f8-4bf6-951c-7b879b24c7a1",
   "metadata": {},
   "source": [
    "### 测试单个cell"
   ]
  },
  {
   "cell_type": "code",
   "execution_count": 6,
   "id": "acf6f554-aaa2-424e-9f59-605fa420709b",
   "metadata": {
    "tags": []
   },
   "outputs": [
    {
     "name": "stdout",
     "output_type": "stream",
     "text": [
      "S_t =  [[ 0.84923863]\n",
      " [-0.9847439 ]\n",
      " [-0.10344664]\n",
      " [-0.32890503]\n",
      " [ 0.7684728 ]]\n",
      "S_t.shape =  (5, 1)\n",
      "O_t =  [[0.00953388]\n",
      " [0.20849545]\n",
      " [0.78197068]]\n",
      "O_t.shape =  (3, 1)\n"
     ]
    }
   ],
   "source": [
    "############ 测试单个cell\n",
    "if __name__ == '__main__':\n",
    "    # 定义输入 这里定义输入词向量的维度是3， S_t的维度指定为 (5,1)\n",
    "    X_t = np.random.randn(3,1)\n",
    "    S_prev = np.random.randn(5,1)\n",
    "    \n",
    "    # 定义参数\n",
    "    U = np.random.randn(5,3)\n",
    "    W = np.random.randn(5,5)\n",
    "\n",
    "    # 定义输出维度，和中间状态维度\n",
    "    # 这里表示输出维度和输入的词向量维度相同都是3，可以改成不同的值\n",
    "    # 比如，如果是大语言模型，输入词向量的维度是3维的，但要预测的是在整个词表(比如3万个词)中应该输出词的概率,那就可以改成3万\n",
    "    #      如果是情感分析，比如喜、怒，那就是改成2\n",
    "    #      如果是10分类就改成10\n",
    "    m_o = 3 #表示输出维度\n",
    "    V = np.random.randn(m_o,5) \n",
    "    \n",
    "    b_s = np.random.randn(5,1)\n",
    "    b_o = np.random.randn(m_o,1)\n",
    "\n",
    "    parameters = {'U':U, 'W':W, 'V':V, 'b_s':b_s, 'b_o':b_o}\n",
    "    \n",
    "    S_t, O_t, cache = rnn_cell_forward(X_t, S_prev, parameters)\n",
    "    print('S_t = ', S_t)\n",
    "    print('S_t.shape = ', S_t.shape)\n",
    "    print('O_t = ', O_t)\n",
    "    print('O_t.shape = ', O_t.shape)"
   ]
  },
  {
   "cell_type": "markdown",
   "id": "4d91463d-13f1-40ae-8ff9-318f55a2959e",
   "metadata": {},
   "source": [
    "### 测试多个cell"
   ]
  },
  {
   "cell_type": "code",
   "execution_count": 22,
   "id": "0332c716-062b-4ad5-b21d-590bc766cf74",
   "metadata": {
    "tags": []
   },
   "outputs": [
    {
     "name": "stdout",
     "output_type": "stream",
     "text": [
      "S =  [[[-0.74129897 -0.74129897 -0.74129897 -0.74129897]]\n",
      "\n",
      " [[ 0.99392395  0.99392395  0.99392395  0.99392395]]\n",
      "\n",
      " [[ 0.44604313  0.44604313  0.44604313  0.44604313]]\n",
      "\n",
      " [[-0.39941614 -0.39941614 -0.39941614 -0.39941614]]\n",
      "\n",
      " [[-0.96116777 -0.96116777 -0.96116777 -0.96116777]]]\n",
      "S.shape =  (5, 1, 4)\n",
      "Y =  [[[0.02374666 0.02374666 0.02374666 0.02374666]]\n",
      "\n",
      " [[0.06400777 0.06400777 0.06400777 0.06400777]]\n",
      "\n",
      " [[0.05730302 0.05730302 0.05730302 0.05730302]]\n",
      "\n",
      " [[0.83136845 0.83136845 0.83136845 0.83136845]]\n",
      "\n",
      " [[0.0235741  0.0235741  0.0235741  0.0235741 ]]]\n",
      "Y.shape =  (5, 1, 4)\n"
     ]
    }
   ],
   "source": [
    "# rnn前向传播，多个cell,也就是可以接收多个单词序列\n",
    "# x: 输入值，形状是(m,1 ,T) 其中(m,1)是输入的词向量形状; T是输入的单词个数(或序列长度、时刻长度)\n",
    "# s0: 初始隐藏输入\n",
    "# parameters:  共享的U,W,V,b_s,b_o\n",
    "def rnn_forward(x, s0, parameters):\n",
    "    # 获取词向量维度、单词个数\n",
    "    m,_,T = x.shape\n",
    "    \n",
    "    # 获取 预测值的输出维度，和隐层中间状态大小(这个是自定义的数字)\n",
    "    m_o,n = parameters['V'].shape\n",
    "    \n",
    "    # 初始状态值\n",
    "    S_prev = s0\n",
    "    \n",
    "    # 保留所有cell在每个时刻的隐层状态和预测输出, 用S、Y保留\n",
    "    S = np.zeros((n,1, T))\n",
    "    Y = np.zeros((m_o,1, T)) #注意，这里(m_o,1)是定义预测值的输出维度\n",
    "    \n",
    "    # 存放所有缓存的列表\n",
    "    caches = []\n",
    "    \n",
    "    # 循环每个cell进行前向传播计算\n",
    "    for t in range(T):\n",
    "        # t表示第几个单词\n",
    "        S_t, O_t, cache = rnn_cell_forward(x[:,:,t], S_prev, parameters)\n",
    "    \n",
    "        S[:,:, t] = S_t #放入第t个时刻的隐层状态\n",
    "        Y[:,:, t] = O_t #让如第t个时刻的预测结果\n",
    "    \n",
    "        # 放入缓存到列表\n",
    "        caches.append(cache)\n",
    "        \n",
    "    return S, Y, caches \n",
    "\n",
    "############ 测试多个cell\n",
    "if __name__ == '__main__':\n",
    "    # 定义输入 \n",
    "    # 假设输入是 4个单词，每个词向量是3个维度\n",
    "    # 则 = (m,1, T) -> (3,1, 4)\n",
    "    X = np.random.randn(3,1, 4)\n",
    "    # 中间状态n=5\n",
    "    S_0 = np.random.randn(5,1)\n",
    "    \n",
    "    # 定义参数\n",
    "    U = np.random.randn(5,3)\n",
    "    W = np.random.randn(5,5)\n",
    "\n",
    "    # 定义输出维度，和中间状态维度\n",
    "    # 这里表示输出维度和输入的词向量维度相同都是3，可以改成不同的值\n",
    "    # 比如，如果是大语言模型，输入词向量的维度是3维的，但要预测的是在整个词表(比如3万个词)中应该输出词的概率,那就可以改成3万\n",
    "    #      如果是情感分析，比如喜、怒，那就是改成2\n",
    "    #      如果是10分类就改成10\n",
    "    m_o = 5 #表示输出维度\n",
    "    V = np.random.randn(m_o,5) \n",
    "    \n",
    "    b_s = np.random.randn(5,1)\n",
    "    b_o = np.random.randn(m_o,1)\n",
    "\n",
    "    parameters = {'U':U, 'W':W, 'V':V, 'b_s':b_s, 'b_o':b_o}\n",
    "    \n",
    "    S, Y, caches = rnn_forward(X, S_0, parameters)\n",
    "    print('S = ', S)\n",
    "    print('S.shape = ', S.shape)\n",
    "    print('Y = ', Y)\n",
    "    print('Y.shape = ', Y.shape)"
   ]
  },
  {
   "cell_type": "code",
   "execution_count": null,
   "id": "679cc923-4e69-4c33-8c91-31b0c5a51e29",
   "metadata": {},
   "outputs": [],
   "source": []
  }
 ],
 "metadata": {
  "kernelspec": {
   "display_name": "Python 3 (ipykernel)",
   "language": "python",
   "name": "python3"
  },
  "language_info": {
   "codemirror_mode": {
    "name": "ipython",
    "version": 3
   },
   "file_extension": ".py",
   "mimetype": "text/x-python",
   "name": "python",
   "nbconvert_exporter": "python",
   "pygments_lexer": "ipython3",
   "version": "3.11.5"
  }
 },
 "nbformat": 4,
 "nbformat_minor": 5
}
