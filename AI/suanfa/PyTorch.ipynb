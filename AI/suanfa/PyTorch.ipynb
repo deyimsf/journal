{
 "cells": [
  {
   "cell_type": "code",
   "execution_count": 1,
   "id": "45b88be3-69ac-42b8-ae6b-3a834e6b2a07",
   "metadata": {
    "collapsed": true,
    "jupyter": {
     "outputs_hidden": true
    },
    "tags": []
   },
   "outputs": [
    {
     "data": {
      "text/plain": [
       "False"
      ]
     },
     "execution_count": 1,
     "metadata": {},
     "output_type": "execute_result"
    }
   ],
   "source": [
    "import torch\n",
    "\n",
    "torch.cuda.is_available()"
   ]
  },
  {
   "cell_type": "code",
   "execution_count": 4,
   "id": "5f57483a-cf7c-4a3a-a9f6-7205198bcffd",
   "metadata": {
    "collapsed": true,
    "jupyter": {
     "outputs_hidden": true
    },
    "tags": []
   },
   "outputs": [
    {
     "data": {
      "text/plain": [
       "['__add__',\n",
       " '__class__',\n",
       " '__contains__',\n",
       " '__delattr__',\n",
       " '__dir__',\n",
       " '__doc__',\n",
       " '__eq__',\n",
       " '__format__',\n",
       " '__ge__',\n",
       " '__getattribute__',\n",
       " '__getitem__',\n",
       " '__getnewargs__',\n",
       " '__getstate__',\n",
       " '__gt__',\n",
       " '__hash__',\n",
       " '__init__',\n",
       " '__init_subclass__',\n",
       " '__iter__',\n",
       " '__le__',\n",
       " '__len__',\n",
       " '__lt__',\n",
       " '__mod__',\n",
       " '__mul__',\n",
       " '__ne__',\n",
       " '__new__',\n",
       " '__reduce__',\n",
       " '__reduce_ex__',\n",
       " '__repr__',\n",
       " '__rmod__',\n",
       " '__rmul__',\n",
       " '__setattr__',\n",
       " '__sizeof__',\n",
       " '__str__',\n",
       " '__subclasshook__',\n",
       " 'capitalize',\n",
       " 'casefold',\n",
       " 'center',\n",
       " 'count',\n",
       " 'encode',\n",
       " 'endswith',\n",
       " 'expandtabs',\n",
       " 'find',\n",
       " 'format',\n",
       " 'format_map',\n",
       " 'index',\n",
       " 'isalnum',\n",
       " 'isalpha',\n",
       " 'isascii',\n",
       " 'isdecimal',\n",
       " 'isdigit',\n",
       " 'isidentifier',\n",
       " 'islower',\n",
       " 'isnumeric',\n",
       " 'isprintable',\n",
       " 'isspace',\n",
       " 'istitle',\n",
       " 'isupper',\n",
       " 'join',\n",
       " 'ljust',\n",
       " 'lower',\n",
       " 'lstrip',\n",
       " 'maketrans',\n",
       " 'partition',\n",
       " 'removeprefix',\n",
       " 'removesuffix',\n",
       " 'replace',\n",
       " 'rfind',\n",
       " 'rindex',\n",
       " 'rjust',\n",
       " 'rpartition',\n",
       " 'rsplit',\n",
       " 'rstrip',\n",
       " 'split',\n",
       " 'splitlines',\n",
       " 'startswith',\n",
       " 'strip',\n",
       " 'swapcase',\n",
       " 'title',\n",
       " 'translate',\n",
       " 'upper',\n",
       " 'zfill']"
      ]
     },
     "execution_count": 4,
     "metadata": {},
     "output_type": "execute_result"
    }
   ],
   "source": [
    "dir(torch)"
   ]
  },
  {
   "cell_type": "code",
   "execution_count": 6,
   "id": "44376563-9228-466d-9d09-3cfa74d42b81",
   "metadata": {
    "collapsed": true,
    "jupyter": {
     "outputs_hidden": true
    },
    "tags": []
   },
   "outputs": [
    {
     "data": {
      "text/plain": [
       "['__annotations__',\n",
       " '__builtins__',\n",
       " '__call__',\n",
       " '__class__',\n",
       " '__closure__',\n",
       " '__code__',\n",
       " '__defaults__',\n",
       " '__delattr__',\n",
       " '__dict__',\n",
       " '__dir__',\n",
       " '__doc__',\n",
       " '__eq__',\n",
       " '__format__',\n",
       " '__ge__',\n",
       " '__get__',\n",
       " '__getattribute__',\n",
       " '__getstate__',\n",
       " '__globals__',\n",
       " '__gt__',\n",
       " '__hash__',\n",
       " '__init__',\n",
       " '__init_subclass__',\n",
       " '__kwdefaults__',\n",
       " '__le__',\n",
       " '__lt__',\n",
       " '__module__',\n",
       " '__name__',\n",
       " '__ne__',\n",
       " '__new__',\n",
       " '__qualname__',\n",
       " '__reduce__',\n",
       " '__reduce_ex__',\n",
       " '__repr__',\n",
       " '__setattr__',\n",
       " '__sizeof__',\n",
       " '__str__',\n",
       " '__subclasshook__']"
      ]
     },
     "execution_count": 6,
     "metadata": {},
     "output_type": "execute_result"
    }
   ],
   "source": [
    "dir(torch.cuda.is_available)"
   ]
  },
  {
   "cell_type": "code",
   "execution_count": 7,
   "id": "108dee5f-47e7-4ebc-a2f7-66f2210ea7df",
   "metadata": {
    "collapsed": true,
    "jupyter": {
     "outputs_hidden": true
    },
    "tags": []
   },
   "outputs": [
    {
     "name": "stdout",
     "output_type": "stream",
     "text": [
      "Help on function is_available in module torch.cuda:\n",
      "\n",
      "is_available() -> bool\n",
      "    Return a bool indicating if CUDA is currently available.\n",
      "\n"
     ]
    }
   ],
   "source": [
    "help(torch.cuda.is_available)"
   ]
  },
  {
   "cell_type": "markdown",
   "id": "af1e09f0-0b56-492c-bcb6-aeea81899500",
   "metadata": {
    "tags": []
   },
   "source": [
    "# Dateset类代码实战"
   ]
  },
  {
   "cell_type": "code",
   "execution_count": 3,
   "id": "020b74b0-ca1f-4810-a19c-aa554471c108",
   "metadata": {
    "tags": []
   },
   "outputs": [],
   "source": [
    "from PIL import Image\n",
    "# image = Image.open('/Users/mashunfeng/Desktop/dataset/train/ants/0013035.jpg',mode='r')\n",
    "# image.show()\n",
    "from torch.utils.data import Dataset\n",
    "import os"
   ]
  },
  {
   "cell_type": "code",
   "execution_count": 8,
   "id": "7f489ed1-2a16-4624-b273-0ed429eb26bd",
   "metadata": {
    "tags": []
   },
   "outputs": [
    {
     "data": {
      "text/plain": [
       "'957233405_25c1d1187b.jpg'"
      ]
     },
     "execution_count": 8,
     "metadata": {},
     "output_type": "execute_result"
    }
   ],
   "source": [
    "images_path = os.listdir('/Users/mashunfeng/Desktop/dataset/train/ants')\n",
    "images_path[0]"
   ]
  },
  {
   "cell_type": "code",
   "execution_count": null,
   "id": "821a8dc6-b0d9-4d49-85c4-d3bb388d2453",
   "metadata": {},
   "outputs": [],
   "source": [
    "class MyData(Dataset):\n",
    "    # root_dir = '/Users/mashunfeng/Desktop/dataset/train'\n",
    "    # label_dir = 'ants'\n",
    "    def __init__(self, root_dir, label_dir):\n",
    "        self.root_dir = root_dir\n",
    "        self.label_dir = label_dir\n",
    "        self.path = os.path.join(self.root_dir, self.lable_dir)\n",
    "        self.images_path = os.listdir(self.path)\n",
    "        \n",
    "    def __getitem__(self, idx):\n",
    "        \n",
    "        "
   ]
  },
  {
   "cell_type": "code",
   "execution_count": 14,
   "id": "596fee25-003f-4ef0-9886-bd4c534f983b",
   "metadata": {
    "tags": []
   },
   "outputs": [
    {
     "data": {
      "text/plain": [
       "tensor([ 0.5122, -0.5804], grad_fn=<ViewBackward0>)"
      ]
     },
     "execution_count": 14,
     "metadata": {},
     "output_type": "execute_result"
    }
   ],
   "source": [
    "\n",
    "from torch import nn\n",
    "import torch\n",
    "\n",
    "# 3个特征输入，1个特征输出  \n",
    "# 第一个数字可以理解为一个神经元可以接收多少个参数\n",
    "# 第二个参数可以理解为有多少个神经元；如果有5个神经元表示，1个样本的输入传递给了5个神经元\n",
    "model = nn.Linear(3,1) \n",
    "x = torch.Tensor([1,2,3])\n",
    "model(x)\n",
    "\n"
   ]
  },
  {
   "cell_type": "code",
   "execution_count": null,
   "id": "6fa24faf-b181-42dd-9e82-60afefd9ec59",
   "metadata": {},
   "outputs": [],
   "source": []
  },
  {
   "cell_type": "code",
   "execution_count": 21,
   "id": "bb91dd6b-a407-4f25-a0ee-0b9ddfb7918a",
   "metadata": {
    "tags": []
   },
   "outputs": [
    {
     "data": {
      "text/plain": [
       "array([1., 1., 1., 1., 1.], dtype=float32)"
      ]
     },
     "execution_count": 21,
     "metadata": {},
     "output_type": "execute_result"
    }
   ],
   "source": [
    "a = torch.ones(5)\n",
    "# 转成numpy数据\n",
    "a.numpy()"
   ]
  },
  {
   "cell_type": "code",
   "execution_count": 24,
   "id": "34d142f5-03bb-4f28-a472-517989354a17",
   "metadata": {
    "tags": []
   },
   "outputs": [
    {
     "data": {
      "text/plain": [
       "tensor([1., 1., 1., 1., 1.], dtype=torch.float64)"
      ]
     },
     "execution_count": 24,
     "metadata": {},
     "output_type": "execute_result"
    }
   ],
   "source": [
    "import numpy as np\n",
    "# 从numpy转成tensor\n",
    "a = np.ones(5)\n",
    "a\n",
    "\n",
    "b = torch.from_numpy(a)\n",
    "b"
   ]
  },
  {
   "cell_type": "code",
   "execution_count": 25,
   "id": "06c0e0a7-e46b-4547-815d-f17c6af9b170",
   "metadata": {
    "tags": []
   },
   "outputs": [
    {
     "data": {
      "text/plain": [
       "tensor([[-1.0007, -0.0971,  0.3774,  1.2817],\n",
       "        [-1.1217, -0.7383,  1.6382, -1.1052],\n",
       "        [-1.6938, -0.4323, -0.9746,  1.4888]], requires_grad=True)"
      ]
     },
     "execution_count": 25,
     "metadata": {},
     "output_type": "execute_result"
    }
   ],
   "source": [
    "#### 可以被求导\n",
    "x = torch.randn(3,4,requires_grad=True)\n",
    "x\n"
   ]
  },
  {
   "cell_type": "code",
   "execution_count": 27,
   "id": "8aa88679-c037-426a-860f-4c9ddbb033b0",
   "metadata": {
    "tags": []
   },
   "outputs": [
    {
     "data": {
      "text/plain": [
       "tensor([[ 1.0866, -0.9554, -0.4295, -0.1604],\n",
       "        [-0.2112,  0.3983, -1.0323, -1.5828],\n",
       "        [-1.0046, -0.7961, -1.3934,  0.3186]], requires_grad=True)"
      ]
     },
     "execution_count": 27,
     "metadata": {},
     "output_type": "execute_result"
    }
   ],
   "source": [
    "x = torch.randn(3,4)\n",
    "x.requires_grad = True\n",
    "x"
   ]
  },
  {
   "cell_type": "code",
   "execution_count": 28,
   "id": "02e1d30b-e733-4df6-9431-ca2f2070cf33",
   "metadata": {
    "tags": []
   },
   "outputs": [
    {
     "data": {
      "text/plain": [
       "tensor(-2.2948, grad_fn=<SumBackward0>)"
      ]
     },
     "execution_count": 28,
     "metadata": {},
     "output_type": "execute_result"
    }
   ],
   "source": [
    "b = torch.randn(3,4,requires_grad=True)\n",
    "t = x + b\n",
    "y = t.sum()\n",
    "y"
   ]
  },
  {
   "cell_type": "code",
   "execution_count": 29,
   "id": "7e6b1240-76a6-4db2-812e-4794d2e44d9f",
   "metadata": {
    "tags": []
   },
   "outputs": [],
   "source": [
    "# 求导，反向传播，求梯度\n",
    "y.backward()"
   ]
  },
  {
   "cell_type": "code",
   "execution_count": 33,
   "id": "fb8c0f2c-c90e-4870-ad32-bbbb829c6a19",
   "metadata": {
    "tags": []
   },
   "outputs": [
    {
     "data": {
      "text/plain": [
       "tensor([[1., 1., 1., 1.],\n",
       "        [1., 1., 1., 1.],\n",
       "        [1., 1., 1., 1.]])"
      ]
     },
     "execution_count": 33,
     "metadata": {},
     "output_type": "execute_result"
    }
   ],
   "source": [
    "b.grad\n"
   ]
  },
  {
   "cell_type": "code",
   "execution_count": 32,
   "id": "798ed31c-d82f-49a3-85d7-ab7b42a79227",
   "metadata": {
    "tags": []
   },
   "outputs": [
    {
     "data": {
      "text/plain": [
       "tensor([[1., 1., 1., 1.],\n",
       "        [1., 1., 1., 1.],\n",
       "        [1., 1., 1., 1.]])"
      ]
     },
     "execution_count": 32,
     "metadata": {},
     "output_type": "execute_result"
    }
   ],
   "source": [
    "x.grad"
   ]
  },
  {
   "cell_type": "code",
   "execution_count": 34,
   "id": "e2129e98-0d9d-4224-b6af-df66425d2d95",
   "metadata": {
    "tags": []
   },
   "outputs": [
    {
     "data": {
      "text/plain": [
       "(True, True, True)"
      ]
     },
     "execution_count": 34,
     "metadata": {},
     "output_type": "execute_result"
    }
   ],
   "source": [
    "#\n",
    "x.requires_grad,t.requires_grad,b.requires_grad"
   ]
  },
  {
   "cell_type": "code",
   "execution_count": 36,
   "id": "1e2bc07f-1407-445f-b7b7-687a91fd1f0b",
   "metadata": {
    "tags": []
   },
   "outputs": [
    {
     "name": "stderr",
     "output_type": "stream",
     "text": [
      "/var/folders/h6/d6w_x4k97m5d1zdjxsr25p4h0000gn/T/ipykernel_4464/152863213.py:1: UserWarning: The .grad attribute of a Tensor that is not a leaf Tensor is being accessed. Its .grad attribute won't be populated during autograd.backward(). If you indeed want the .grad field to be populated for a non-leaf Tensor, use .retain_grad() on the non-leaf Tensor. If you access the non-leaf Tensor by mistake, make sure you access the leaf Tensor instead. See github.com/pytorch/pytorch/pull/30531 for more informations. (Triggered internally at /Users/runner/work/pytorch/pytorch/pytorch/build/aten/src/ATen/core/TensorBody.h:494.)\n",
      "  t.grad\n"
     ]
    }
   ],
   "source": [
    "t.grad"
   ]
  },
  {
   "cell_type": "markdown",
   "id": "8c61e909-d87d-4219-b476-69ac0ed3005c",
   "metadata": {
    "tags": []
   },
   "source": [
    "# 线性回归"
   ]
  },
  {
   "cell_type": "code",
   "execution_count": 42,
   "id": "712707e4-0982-479a-8bfb-051c16e99753",
   "metadata": {
    "tags": []
   },
   "outputs": [
    {
     "data": {
      "text/plain": [
       "array([[ 0.],\n",
       "       [ 1.],\n",
       "       [ 2.],\n",
       "       [ 3.],\n",
       "       [ 4.],\n",
       "       [ 5.],\n",
       "       [ 6.],\n",
       "       [ 7.],\n",
       "       [ 8.],\n",
       "       [ 9.],\n",
       "       [10.]], dtype=float32)"
      ]
     },
     "execution_count": 42,
     "metadata": {},
     "output_type": "execute_result"
    }
   ],
   "source": [
    "# 构造训练数据\n",
    "x_values = [i for i in range(11)]\n",
    "x_train = np.array(x_values, dtype=np.float32)\n",
    "x_train = x_train.reshape(-1,1) # 弄成 nX1 的矩阵\n",
    "x_train"
   ]
  },
  {
   "cell_type": "code",
   "execution_count": 65,
   "id": "f6697017-9a10-475d-b9a6-7314aabc75be",
   "metadata": {
    "tags": []
   },
   "outputs": [
    {
     "data": {
      "text/plain": [
       "array([[ 3.],\n",
       "       [ 5.],\n",
       "       [ 7.],\n",
       "       [ 9.],\n",
       "       [11.],\n",
       "       [13.],\n",
       "       [15.],\n",
       "       [17.],\n",
       "       [19.],\n",
       "       [21.],\n",
       "       [23.]], dtype=float32)"
      ]
     },
     "execution_count": 65,
     "metadata": {},
     "output_type": "execute_result"
    }
   ],
   "source": [
    "# 目标值  y = 2x + 3\n",
    "y_values = [2*i+3 for i in x_values]\n",
    "y_train = np.array(y_values, dtype=np.float32)\n",
    "y_train = y_train.reshape(-1,1) # 弄成 nX1 的矩阵\n",
    "y_train"
   ]
  },
  {
   "cell_type": "code",
   "execution_count": 84,
   "id": "f31ab065-5ad4-4522-a8ab-2586d73e24da",
   "metadata": {
    "tags": []
   },
   "outputs": [],
   "source": [
    "## 用torch训练\n",
    "\n",
    "import torch\n",
    "import torch.nn as nn\n",
    "\n",
    "#定义一个线性回归模型\n",
    "class LinearRegressionModel(nn.Module):\n",
    "    def __init__(self, input_dim, output_dim):\n",
    "        super(LinearRegressionModel, self).__init__()\n",
    "        # 搞个全连接层，也就是一个线性层\n",
    "        self.linear = nn.Linear(input_dim,output_dim)\n",
    "        \n",
    "    def forward(self, x):\n",
    "        ## 前向传播\n",
    "        out = self.linear(x)\n",
    "        return out\n",
    "    \n",
    "# 实例模型\n",
    "input_dim = 1\n",
    "output_dim = 1\n",
    "model = LinearRegressionModel(input_dim,output_dim)\n",
    "\n",
    "# 指定是否使用GPU\n",
    "device = torch.device('cuda:0' if torch.cuda.is_available() else 'cpu')\n",
    "model.to(device)\n",
    "\n",
    "# 损失函数 均方误差\n",
    "loss_fun = nn.MSELoss()\n",
    "\n",
    "# 优化器 随机梯度\n",
    "optim = torch.optim.SGD(model.parameters(), lr=0.01)\n"
   ]
  },
  {
   "cell_type": "code",
   "execution_count": 85,
   "id": "c413bda4-4bad-47fc-8d0d-6ec6919ae7aa",
   "metadata": {
    "tags": []
   },
   "outputs": [
    {
     "data": {
      "text/plain": [
       "LinearRegressionModel(\n",
       "  (linear): Linear(in_features=1, out_features=1, bias=True)\n",
       ")"
      ]
     },
     "execution_count": 85,
     "metadata": {},
     "output_type": "execute_result"
    }
   ],
   "source": [
    "model"
   ]
  },
  {
   "cell_type": "code",
   "execution_count": 236,
   "id": "dd8dfbf5-4ed4-478d-b4f4-d2fdfe13ec76",
   "metadata": {
    "tags": []
   },
   "outputs": [
    {
     "name": "stdout",
     "output_type": "stream",
     "text": [
      "torch.float32\n"
     ]
    },
    {
     "ename": "AttributeError",
     "evalue": "module 'torch.optim' has no attribute 'step'",
     "output_type": "error",
     "traceback": [
      "\u001b[0;31m---------------------------------------------------------------------------\u001b[0m",
      "\u001b[0;31mAttributeError\u001b[0m                            Traceback (most recent call last)",
      "Cell \u001b[0;32mIn[236], line 19\u001b[0m\n\u001b[1;32m     16\u001b[0m loss\u001b[38;5;241m.\u001b[39mbackward()\n\u001b[1;32m     18\u001b[0m \u001b[38;5;66;03m# 更新参数\u001b[39;00m\n\u001b[0;32m---> 19\u001b[0m optim\u001b[38;5;241m.\u001b[39mstep()\n\u001b[1;32m     21\u001b[0m \u001b[38;5;66;03m# 梯度清零\u001b[39;00m\n\u001b[1;32m     22\u001b[0m optim\u001b[38;5;241m.\u001b[39mzero_grad()\n",
      "\u001b[0;31mAttributeError\u001b[0m: module 'torch.optim' has no attribute 'step'"
     ]
    }
   ],
   "source": [
    "## 开始训练\n",
    "for epoch in range(1000):   \n",
    "    #np数据转成tensor数据\n",
    "    inputs = torch.from_numpy(x_train).to(device)\n",
    "    labels = torch.from_numpy(y_train).to(device)\n",
    "     \n",
    "    print(inputs.dtype)    \n",
    "    \n",
    "    # 前向传播\n",
    "    outputs = model(inputs)\n",
    "    \n",
    "    # 计算损失 \n",
    "    loss = loss_fun(outputs, labels)\n",
    "\n",
    "    # 求梯度，反向传播\n",
    "    loss.backward()\n",
    "    \n",
    "    # 更新参数\n",
    "    optim.step()\n",
    "    \n",
    "    # 梯度清零\n",
    "    optim.zero_grad()\n",
    "    \n",
    "    if epoch % 100 == 0:\n",
    "        print('epoch{}, loss{}'.format(epoch, loss.item()))"
   ]
  },
  {
   "cell_type": "code",
   "execution_count": 88,
   "id": "f4412562-d077-4cb6-b62d-8d55f1eb3104",
   "metadata": {
    "tags": []
   },
   "outputs": [
    {
     "name": "stdout",
     "output_type": "stream",
     "text": [
      "训练的参数: linear.weight  参数值: Parameter containing:\n",
      "tensor([[2.0013]], requires_grad=True)\n",
      "训练的参数: linear.bias  参数值: Parameter containing:\n",
      "tensor([2.9907], requires_grad=True)\n"
     ]
    }
   ],
   "source": [
    "# 输出训练好的参数\n",
    "for name,param in model.named_parameters():\n",
    "    print(\"训练的参数:\",name,\" 参数值:\",param)"
   ]
  },
  {
   "cell_type": "code",
   "execution_count": null,
   "id": "ab0823cb-7dc6-48dd-a68c-829509c9db48",
   "metadata": {},
   "outputs": [],
   "source": []
  },
  {
   "cell_type": "code",
   "execution_count": 81,
   "id": "ab7e260c-3979-4ccc-9c16-eea5d3c24978",
   "metadata": {
    "tags": []
   },
   "outputs": [],
   "source": [
    "# 保存模型\n",
    "torch.save(model.state_dict(), 'model.pkl')"
   ]
  },
  {
   "cell_type": "code",
   "execution_count": 83,
   "id": "d8ecfca0-5dbe-482e-abe1-0d0855d3c095",
   "metadata": {
    "tags": []
   },
   "outputs": [
    {
     "data": {
      "text/plain": [
       "<All keys matched successfully>"
      ]
     },
     "execution_count": 83,
     "metadata": {},
     "output_type": "execute_result"
    }
   ],
   "source": [
    "# 读模型\n",
    "model.load_state_dict(torch.load('model.pkl'))"
   ]
  },
  {
   "cell_type": "markdown",
   "id": "cfc0764f-fe68-4c82-938c-e3badce08e22",
   "metadata": {
    "tags": []
   },
   "source": [
    "# 线性回归2"
   ]
  },
  {
   "cell_type": "code",
   "execution_count": 444,
   "id": "107f81c9-c3e1-498a-b976-c6321af6294a",
   "metadata": {
    "tags": []
   },
   "outputs": [
    {
     "data": {
      "image/png": "[encoded data removed]",
      "text/plain": [
       "<Figure size 640x480 with 1 Axes>"
      ]
     },
     "metadata": {},
     "output_type": "display_data"
    }
   ],
   "source": [
    "import numpy as np\n",
    "import matplotlib.pyplot as plt\n",
    "from torch import nn, optim\n",
    "import torch\n",
    "from torch.autograd import Variable\n",
    "\n",
    "x_data = np.random.rand(100)\n",
    "noise = np.random.normal(0,0.01, x_data.shape)\n",
    "y_data = x_data*0.1 + 0.2 + noise\n",
    "\n",
    "# 散点图 \n",
    "plt.scatter(x_data,y_data)\n",
    "plt.show()"
   ]
  },
  {
   "cell_type": "code",
   "execution_count": 449,
   "id": "df749f9b-d3e3-4046-901f-22f1e1a873a8",
   "metadata": {
    "tags": []
   },
   "outputs": [
    {
     "name": "stdout",
     "output_type": "stream",
     "text": [
      "权重数据类型： torch.float32\n",
      "偏执数据类型： torch.float32\n",
      "epoch:0 loss:1.163570761680603\n",
      "    fc.weight tensor([[-0.6669]])\n",
      "    fc.bias tensor([-0.3634])\n",
      "epoch:400 loss:0.00022233113122638315\n",
      "    fc.weight tensor([[0.0627]])\n",
      "    fc.bias tensor([0.2194])\n",
      "epoch:800 loss:9.538840822642669e-05\n",
      "    fc.weight tensor([[0.0962]])\n",
      "    fc.bias tensor([0.2016])\n",
      "fc.weight tensor([[0.0988]])\n",
      "fc.bias tensor([0.2002])\n"
     ]
    },
    {
     "data": {
      "image/png": "[encoded data removed]",
      "text/plain": [
       "<Figure size 640x480 with 1 Axes>"
      ]
     },
     "metadata": {},
     "output_type": "display_data"
    }
   ],
   "source": [
    "# 转换成二维数据，并转成tensor类型\n",
    "x_data = x_data.reshape(-1,1)\n",
    "y_data = y_data.reshape(-1,1)\n",
    "\n",
    "#FloatTensor是32位float, 默认是64位float DoubleTensor\n",
    "inputs = torch.FloatTensor(x_data)\n",
    "target = torch.FloatTensor(y_data)\n",
    "\n",
    "class MyLinear(nn.Module):\n",
    "    def __init__(self):\n",
    "        super(MyLinear, self).__init__()\n",
    "        #定义一个线性层\n",
    "        self.fc = nn.Linear(1,1)\n",
    "        \n",
    "        # 修改权重数据类型\n",
    "        self.fc.weight.data = self.fc.weight.data.to(torch.float32)\n",
    "        print('权重数据类型：',self.fc.weight.dtype)\n",
    "        print('偏执数据类型：',self.fc.bias.dtype)\n",
    "           \n",
    "    def forward(self, inputs):\n",
    "        out = self.fc(inputs)\n",
    "        return out\n",
    "\n",
    "model = MyLinear()\n",
    "\n",
    "#损失函数\n",
    "loss_fun = nn.MSELoss()\n",
    "#优化器\n",
    "optimizer = torch.optim.SGD(model.parameters(),lr=0.04)\n",
    "\n",
    "torch.set_printoptions(precision=4,sci_mode=False)\n",
    "\n",
    "#训练\n",
    "for epoch in range(1000):\n",
    "    y_hat = model(inputs) \n",
    "    #算损失\n",
    "    loss = loss_fun(y_hat, target)\n",
    "    #计算梯度\n",
    "    loss.backward()\n",
    "    #梯度更新\n",
    "    optimizer.step()\n",
    "    #梯度清零\n",
    "    optimizer.zero_grad()\n",
    "    \n",
    "    if epoch % 400 == 0:\n",
    "        print('epoch:{} loss:{}'.format(epoch,loss))\n",
    "        for name,param in model.named_parameters():\n",
    "            print('   ',name,param.data)\n",
    "\n",
    "for name,param in model.named_parameters():\n",
    "    print(name,param.data)\n",
    "    \n",
    "y_pred = model(inputs)\n",
    "plt.scatter(x_data,y_data)\n",
    "plt.plot(x_data,y_pred.data,'r-')\n",
    "plt.scatter(x_data,y_pred.data)\n",
    "plt.show()"
   ]
  },
  {
   "cell_type": "markdown",
   "id": "5c0fd70e-9cba-4bd9-8647-f9f4bb7f9e4e",
   "metadata": {
    "tags": []
   },
   "source": [
    "# 非线性回归"
   ]
  },
  {
   "cell_type": "code",
   "execution_count": 531,
   "id": "ba2675fa-c4c7-4345-8ad1-9615104aaccf",
   "metadata": {
    "tags": []
   },
   "outputs": [
    {
     "data": {
      "image/png": "[encoded data removed]",
      "text/plain": [
       "<Figure size 640x480 with 1 Axes>"
      ]
     },
     "metadata": {},
     "output_type": "display_data"
    }
   ],
   "source": [
    "import numpy as np\n",
    "import matplotlib.pyplot as plt\n",
    "from torch import nn, optim\n",
    "import torch\n",
    "from torch.autograd import Variable\n",
    "\n",
    "x_data = np.linspace(-2,2,100)[:,np.newaxis]\n",
    "noise = np.random.normal(0,0.2, x_data.shape)\n",
    "y_data = np.square(x_data) + noise\n",
    "\n",
    "# 散点图 \n",
    "plt.scatter(x_data,y_data)\n",
    "plt.show()\n",
    "\n",
    "# 转换成二维数据，并转成tensor类型\n",
    "x_data = x_data.reshape(-1,1)\n",
    "y_data = y_data.reshape(-1,1)\n",
    "\n",
    "\n",
    "class MyLinear(nn.Module):\n",
    "    def __init__(self):\n",
    "        super(MyLinear, self).__init__()\n",
    "        #定义一个线性层\n",
    "        self.fc1 = nn.Linear(1,10)\n",
    "        self.fc2 = nn.Linear(10,1)\n",
    "           \n",
    "    def forward(self, inputs):\n",
    "        x = self.fc1(inputs)\n",
    "        # print('x====',x)\n",
    "        x = relu(x);#nn.ReLU()(x)\n",
    "        x = self.fc2(x)\n",
    "        return x\n",
    "\n",
    "model = MyLinear()"
   ]
  },
  {
   "cell_type": "code",
   "execution_count": 533,
   "id": "16e66767-a184-42fb-9033-4c59e26afbc5",
   "metadata": {
    "tags": []
   },
   "outputs": [
    {
     "name": "stdout",
     "output_type": "stream",
     "text": [
      "epoch:0 loss:1.318466067314148\n",
      "epoch:400 loss:0.041462238878011703\n",
      "epoch:800 loss:0.03997135907411575\n",
      "fc1.weight Parameter containing:\n",
      "tensor([[ 0.4689],\n",
      "        [ 0.7921],\n",
      "        [ 1.2826],\n",
      "        [ 1.0988],\n",
      "        [ 0.4677],\n",
      "        [ 0.1393],\n",
      "        [-0.4726],\n",
      "        [ 0.1163],\n",
      "        [-0.5546],\n",
      "        [-1.3416]], requires_grad=True)\n",
      "fc1.bias Parameter containing:\n",
      "tensor([-0.1605,  0.0479, -0.4374, -1.0222,  0.2362, -0.3558,  0.6514,  0.6868,\n",
      "         0.7710, -1.0004], requires_grad=True)\n",
      "fc2.weight Parameter containing:\n",
      "tensor([[ 0.2941,  0.4154,  1.0880,  1.2788,  0.0840,  0.0930,  0.4641, -0.2155,\n",
      "          0.5925,  1.5473]], requires_grad=True)\n",
      "fc2.bias Parameter containing:\n",
      "tensor([-0.6318], requires_grad=True)\n"
     ]
    },
    {
     "data": {
      "image/png": "[encoded data removed]",
      "text/plain": [
       "<Figure size 640x480 with 1 Axes>"
      ]
     },
     "metadata": {},
     "output_type": "display_data"
    }
   ],
   "source": [
    "def relu(x):\n",
    "    #x[x <= 0] = 0\n",
    "    return torch.where(x>0, x,torch.zeros_like(x))\n",
    "\n",
    "#损失函数\n",
    "loss_fun = nn.MSELoss()\n",
    "#优化器\n",
    "optimizer = torch.optim.SGD(model.parameters(),lr=0.1)\n",
    "torch.set_printoptions(precision=4,sci_mode=False)\n",
    "\n",
    "#训练数据\n",
    "inputs = torch.FloatTensor(x_data) #FloatTensor是32位float, 默认是64位float DoubleTensor\n",
    "target = torch.FloatTensor(y_data)\n",
    "\n",
    "# print(x_data)\n",
    "# print(inputs)\n",
    "\n",
    "#训练\n",
    "for epoch in range(1000):\n",
    "    y_hat = model(inputs) \n",
    "    # print(inputs)\n",
    "\n",
    "    #算损失\n",
    "    loss = loss_fun(y_hat, target)\n",
    "    #计算梯度\n",
    "    loss.backward()\n",
    "    #梯度更新\n",
    "    optimizer.step()\n",
    "    #梯度清零\n",
    "    optimizer.zero_grad()\n",
    "    \n",
    "    if epoch % 400 == 0:\n",
    "        print('epoch:{} loss:{}'.format(epoch,loss))\n",
    "        # for name,param in model.named_parameters():\n",
    "        #     print('   ',name,param.data)\n",
    "\n",
    "for name,param in model.named_parameters():\n",
    "    print(name,param)\n",
    "    \n",
    "y_pred = model(inputs)\n",
    "plt.scatter(x_data,y_data)\n",
    "plt.plot(x_data,y_pred.data.numpy(),'r-')\n",
    "plt.show()\n",
    "\n",
    "# print(y_pred)"
   ]
  },
  {
   "cell_type": "markdown",
   "id": "ec33779f-4efb-4d8f-b87a-b3a343d82655",
   "metadata": {
    "tags": []
   },
   "source": [
    "# MINST手写数字识别-最小二乘法"
   ]
  },
  {
   "cell_type": "code",
   "execution_count": 570,
   "id": "e7c5e00f-7976-4ba9-b13a-f17d2977e5b3",
   "metadata": {
    "tags": []
   },
   "outputs": [],
   "source": [
    "import numpy as np\n",
    "import matplotlib.pyplot as plt\n",
    "from torch import nn, optim\n",
    "import torch\n",
    "from torchvision import datasets,transforms\n",
    "from torch.utils.data import DataLoader"
   ]
  },
  {
   "cell_type": "code",
   "execution_count": 571,
   "id": "4b896fd9-cc3a-4e03-8ebd-dfdddf273250",
   "metadata": {
    "tags": []
   },
   "outputs": [],
   "source": [
    "# 下载训练集\n",
    "train_dataset = datasets.MNIST(root='/Users/mashunfeng/Desktop/dataset', #下载到的目录\n",
    "                              train=True, #下载训练数据\n",
    "                              transform = transforms.ToTensor(), #数据转成tensor类型\n",
    "                              download=True) #下载 True表示下载\n",
    "# 下载测试集\n",
    "test_dataset = datasets.MNIST(root='/Users/mashunfeng/Desktop/dataset', #下载到的目录\n",
    "                              train=False, #False表示下载测试数据\n",
    "                              transform = transforms.ToTensor(), #数据转成tensor类型\n",
    "                              download=True) #下载"
   ]
  },
  {
   "cell_type": "code",
   "execution_count": 572,
   "id": "b5545870-c5e2-4b30-a661-9577ee4638f0",
   "metadata": {
    "tags": []
   },
   "outputs": [],
   "source": [
    "#批次大小\n",
    "batch_size = 64\n",
    "\n",
    "# 加载训练数据\n",
    "train_loader = DataLoader(dataset=train_dataset,\n",
    "                          batch_size=batch_size,\n",
    "                          shuffle=True)\n",
    "\n",
    "# 加载测试数据\n",
    "test_loader = DataLoader(dataset=test_dataset,\n",
    "                          batch_size=batch_size,\n",
    "                          shuffle=True)\n"
   ]
  },
  {
   "cell_type": "code",
   "execution_count": 573,
   "id": "69b750c9-56bf-410d-a1fd-717f94eec7a6",
   "metadata": {
    "tags": []
   },
   "outputs": [
    {
     "name": "stdout",
     "output_type": "stream",
     "text": [
      "torch.Size([64, 1, 28, 28])\n",
      "torch.Size([64])\n"
     ]
    }
   ],
   "source": [
    "# 查看加载数据的形状\n",
    "for i,data in enumerate(train_loader):\n",
    "    inputs, lables = data\n",
    "    print(inputs.shape) #[64, 1, 28, 28] 64条数据，1个通道，28X28\n",
    "    print(lables.shape)\n",
    "    break"
   ]
  },
  {
   "cell_type": "code",
   "execution_count": 561,
   "id": "7157f01e-e216-4be9-a14d-df4c82cb6592",
   "metadata": {
    "tags": []
   },
   "outputs": [
    {
     "data": {
      "text/plain": [
       "157"
      ]
     },
     "execution_count": 561,
     "metadata": {},
     "output_type": "execute_result"
    }
   ],
   "source": [
    "len(test_loader) #长度，总共有多少批次"
   ]
  },
  {
   "cell_type": "code",
   "execution_count": 574,
   "id": "be1cabcf-e874-497b-869c-04472b0e9767",
   "metadata": {
    "tags": []
   },
   "outputs": [],
   "source": [
    "# 定义模型结构\n",
    "class Net(nn.Module):\n",
    "    def __init__(self):\n",
    "        super(Net, self).__init__()\n",
    "        #简单点，就用一个全连接层\n",
    "        self.fc = nn.Linear(28*28*1, 10) #接收单通道，28*28大小的图, 输出10个分类\n",
    "    \n",
    "    def forward(self, x):\n",
    "        # 每次x是一个64个样本的数据，torch.Size([64, 1, 28, 28])\n",
    "        # 转成矩阵 [64, 1, 28, 28] --> [64, 1*28*28]\n",
    "        x = x.view(x.size()[0], -1) # x.size()[0]是64; -1表示自动\n",
    "        x = self.fc(x)\n",
    "        x = nn.Softmax()(x) #输出分类转成概率\n",
    "        return x   "
   ]
  },
  {
   "cell_type": "code",
   "execution_count": 575,
   "id": "fef88ac3-4c51-41e8-98c4-5bc98a26b734",
   "metadata": {
    "tags": []
   },
   "outputs": [],
   "source": [
    "#实例模型\n",
    "model = Net()\n",
    "#定义损失函数，这里用最小二乘不是太合适，分类问题应该用交叉熵\n",
    "#loss_fun = nn.CrossEntropyLoss\n",
    "loss_fun = nn.MSELoss()\n",
    "#优化器\n",
    "optimizer = optim.SGD(model.parameters(), lr=0.5)"
   ]
  },
  {
   "cell_type": "code",
   "execution_count": 576,
   "id": "a3d7a0ae-0c19-4f03-87b8-88709b5bb40d",
   "metadata": {
    "tags": []
   },
   "outputs": [],
   "source": [
    "# 训练方法\n",
    "def train():\n",
    "    for i,data in enumerate(train_loader):\n",
    "        # 取一个批次的样本数据和标签数据\n",
    "        inputs,labels = data\n",
    "        # 计算预测结果,形状是(64,10)\n",
    "        out = model(inputs)\n",
    "        \n",
    "        #标签有(64) -> (64,1)\n",
    "        labels = labels.reshape(-1,1)\n",
    "        \n",
    "        #目前标签和预测结果的形状不匹配，需要把标签做转换，把标签弄成one-hot编码\n",
    "        one_hot = torch.zeros(inputs.shape[0],10).scatter(1,labels,1)\n",
    "        \n",
    "        # 计算损失\n",
    "        # 这里是计算两个向量(预测的输出向量，和标签对应的one_hot向量)的方差\n",
    "        # 比如 out     =   (0.01, 0.01 ,0.01, 0.91, 0.01, 0.01, 0.01, 0.01, 0.01, 0.01)\n",
    "        #     one_hot =   (0   , 0    ,0   , 1   , 0   , 0   , 0   , 0   , 0   , 0)\n",
    "        # 两个向量相减的方差就是损失, 理论上只有one_hot中位置为1的，和out中对应分类的概率越大，方差就越小，所以可行\n",
    "        loss = loss_fun(out, one_hot)\n",
    "        \n",
    "        #反向传播\n",
    "        loss.backward()\n",
    "        #更新参数\n",
    "        optimizer.step()\n",
    "        \n",
    "        #梯度清零\n",
    "        optimizer.zero_grad()\n",
    "\n",
    "#测试\n",
    "def test():\n",
    "    correct = 0\n",
    "    \n",
    "    for i,data in enumerate(test_loader):\n",
    "        inputs,labels = data\n",
    "        #获得预测结果 (64,10)\n",
    "        out = model(inputs)\n",
    "        #获取最大值以及最大值位置\n",
    "        #1表示用out[0][1]中的第二个维度获取, 意思就是out的第二维的所有坐标都固定起来，比如out[i][0],out[i][1],out[i][2]...out[i][9]\n",
    "        # max_data是对应的最大概率，max_data_index对应最大概率只对应的坐标,也就是预测值\n",
    "        # 比如 (0.01, 0.01 ,0.01, 0.91, 0.01, 0.01, 0.01, 0.01, 0.01, 0.01) ,最大值是0.91,对应的坐标是3，也就是数字3\n",
    "        max_data,max_data_index = torch.max(out,1)\n",
    "        # max_data_index就是预测值\n",
    "        predicted = max_data_index\n",
    "        \n",
    "        #计算正确的个数\n",
    "        correct += (predicted == labels).sum()\n",
    "    #准确率\n",
    "    print(\"Test acc:{}\".format(correct.item()/len(test_dataset)))"
   ]
  },
  {
   "cell_type": "code",
   "execution_count": 578,
   "id": "cb4f8113-f4c7-4d86-8a04-503571a18eaa",
   "metadata": {
    "tags": []
   },
   "outputs": [
    {
     "name": "stdout",
     "output_type": "stream",
     "text": [
      "epoch: 0\n",
      "Test acc:0.89\n",
      "epoch: 1\n",
      "Test acc:0.9018\n",
      "epoch: 2\n",
      "Test acc:0.9077\n",
      "epoch: 3\n",
      "Test acc:0.9106\n",
      "epoch: 4\n",
      "Test acc:0.912\n",
      "epoch: 5\n",
      "Test acc:0.9158\n",
      "epoch: 6\n",
      "Test acc:0.9178\n",
      "epoch: 7\n",
      "Test acc:0.9185\n",
      "epoch: 8\n",
      "Test acc:0.9195\n",
      "epoch: 9\n",
      "Test acc:0.9203\n"
     ]
    }
   ],
   "source": [
    "# 训练\n",
    "for epoch in range(10):\n",
    "    print(\"epoch:\", epoch)\n",
    "    train()\n",
    "    test()"
   ]
  },
  {
   "cell_type": "markdown",
   "id": "c26fa64f-a771-4558-bc4a-205cb7cc5d2e",
   "metadata": {
    "tags": []
   },
   "source": [
    "# MINST手写数字识别-交叉熵\n"
   ]
  },
  {
   "cell_type": "code",
   "execution_count": 579,
   "id": "32f7bdaf-c13d-432b-9756-8db49507329b",
   "metadata": {
    "tags": []
   },
   "outputs": [
    {
     "name": "stdout",
     "output_type": "stream",
     "text": [
      "torch.Size([64, 1, 28, 28])\n",
      "torch.Size([64])\n",
      "epoch: 0\n"
     ]
    },
    {
     "name": "stderr",
     "output_type": "stream",
     "text": [
      "/Users/mashunfeng/anaconda3/lib/python3.11/site-packages/torch/nn/modules/module.py:1511: UserWarning: Implicit dimension choice for softmax has been deprecated. Change the call to include dim=X as an argument.\n",
      "  return self._call_impl(*args, **kwargs)\n"
     ]
    },
    {
     "name": "stdout",
     "output_type": "stream",
     "text": [
      "Test acc:0.9052\n",
      "epoch: 1\n",
      "Test acc:0.9137\n",
      "epoch: 2\n",
      "Test acc:0.9167\n",
      "epoch: 3\n",
      "Test acc:0.9204\n",
      "epoch: 4\n",
      "Test acc:0.9198\n",
      "epoch: 5\n",
      "Test acc:0.9242\n",
      "epoch: 6\n",
      "Test acc:0.9228\n",
      "epoch: 7\n",
      "Test acc:0.9248\n",
      "epoch: 8\n",
      "Test acc:0.9227\n",
      "epoch: 9\n",
      "Test acc:0.9244\n"
     ]
    }
   ],
   "source": [
    "import numpy as np\n",
    "import matplotlib.pyplot as plt\n",
    "from torch import nn, optim\n",
    "import torch\n",
    "from torchvision import datasets,transforms\n",
    "from torch.utils.data import DataLoader\n",
    "\n",
    "# 下载训练集\n",
    "train_dataset = datasets.MNIST(root='/Users/mashunfeng/Desktop/dataset', #下载到的目录\n",
    "                              train=True, #下载训练数据\n",
    "                              transform = transforms.ToTensor(), #数据转成tensor类型\n",
    "                              download=True) #下载 True表示下载\n",
    "# 下载测试集\n",
    "test_dataset = datasets.MNIST(root='/Users/mashunfeng/Desktop/dataset', #下载到的目录\n",
    "                              train=False, #False表示下载测试数据\n",
    "                              transform = transforms.ToTensor(), #数据转成tensor类型\n",
    "                              download=True) #下载\n",
    "\n",
    "#批次大小\n",
    "batch_size = 64\n",
    "\n",
    "# 加载训练数据\n",
    "train_loader = DataLoader(dataset=train_dataset,\n",
    "                          batch_size=batch_size,\n",
    "                          shuffle=True)\n",
    "\n",
    "# 加载测试数据\n",
    "test_loader = DataLoader(dataset=test_dataset,\n",
    "                          batch_size=batch_size,\n",
    "                          shuffle=True)\n",
    "\n",
    "# 查看加载数据的形状\n",
    "for i,data in enumerate(train_loader):\n",
    "    inputs, lables = data\n",
    "    print(inputs.shape) #[64, 1, 28, 28] 64条数据，1个通道，28X28\n",
    "    print(lables.shape)\n",
    "    break\n",
    "\n",
    "    # 定义模型结构\n",
    "class Net(nn.Module):\n",
    "    def __init__(self):\n",
    "        super(Net, self).__init__()\n",
    "        #简单点，就用一个全连接层\n",
    "        self.fc = nn.Linear(28*28*1, 10) #接收单通道，28*28大小的图, 输出10个分类\n",
    "    \n",
    "    def forward(self, x):\n",
    "        # 每次x是一个64个样本的数据，torch.Size([64, 1, 28, 28])\n",
    "        # 转成矩阵 [64, 1, 28, 28] --> [64, 1*28*28]\n",
    "        x = x.view(x.size()[0], -1) # x.size()[0]是64; -1表示自动\n",
    "        x = self.fc(x)\n",
    "        x = nn.Softmax()(x) #输出分类转成概率\n",
    "        return x   \n",
    "\n",
    "#实例模型\n",
    "model = Net()\n",
    "#定义损失函数，分类问题应该用交叉熵\n",
    "loss_fun = nn.CrossEntropyLoss()\n",
    "\n",
    "#优化器\n",
    "optimizer = optim.SGD(model.parameters(), lr=0.5)\n",
    "\n",
    "\n",
    "# 训练方法\n",
    "def train():\n",
    "    for i,data in enumerate(train_loader):\n",
    "        # 取一个批次的样本数据和标签数据\n",
    "        inputs,labels = data\n",
    "        # 计算预测结果,形状是(64,10)\n",
    "        out = model(inputs)\n",
    "        \n",
    "        #这里out形状是(64,10)   lables是(64),不需要转成(64,1),因为交叉熵函数会自己转\n",
    "        loss = loss_fun(out, labels)\n",
    "        \n",
    "        #反向传播\n",
    "        loss.backward()\n",
    "        #更新参数\n",
    "        optimizer.step()\n",
    "        \n",
    "        #梯度清零\n",
    "        optimizer.zero_grad()\n",
    "\n",
    "#测试\n",
    "def test():\n",
    "    correct = 0\n",
    "    \n",
    "    for i,data in enumerate(test_loader):\n",
    "        inputs,labels = data\n",
    "        #获得预测结果 (64,10)\n",
    "        out = model(inputs)\n",
    "        #获取最大值以及最大值位置\n",
    "        #1表示用out[0][1]中的第二个维度获取, 意思就是out的第二维的所有坐标都固定起来，比如out[i][0],out[i][1],out[i][2]...out[i][9]\n",
    "        # max_data是对应的最大概率，max_data_index对应最大概率只对应的坐标,也就是预测值\n",
    "        # 比如 (0.01, 0.01 ,0.01, 0.91, 0.01, 0.01, 0.01, 0.01, 0.01, 0.01) ,最大值是0.91,对应的坐标是3，也就是数字3\n",
    "        max_data,max_data_index = torch.max(out,1)\n",
    "        # max_data_index就是预测值\n",
    "        predicted = max_data_index\n",
    "        \n",
    "        #计算正确的个数\n",
    "        correct += (predicted == labels).sum()\n",
    "    #准确率\n",
    "    print(\"Test acc:{}\".format(correct.item()/len(test_dataset)))\n",
    "    \n",
    "\n",
    "################# 训练  ###############\n",
    "#######################################\n",
    "for epoch in range(10):\n",
    "    print(\"epoch:\", epoch)\n",
    "    train()\n",
    "    test()"
   ]
  },
  {
   "cell_type": "markdown",
   "id": "ada53d88-ef23-4c07-ab8f-1a0c04e1c545",
   "metadata": {
    "tags": []
   },
   "source": [
    "# MINST手写数字识别-Dropout"
   ]
  },
  {
   "cell_type": "code",
   "execution_count": 580,
   "id": "7e7a2655-47af-4751-9d73-5fc7824ef826",
   "metadata": {
    "tags": []
   },
   "outputs": [
    {
     "name": "stdout",
     "output_type": "stream",
     "text": [
      "torch.Size([64, 1, 28, 28])\n",
      "torch.Size([64])\n",
      "epoch: 0\n",
      "Test acc:0.9177\n",
      "Train acc:0.914\n",
      "epoch: 1\n",
      "Test acc:0.9292\n",
      "Train acc:0.9266\n",
      "epoch: 2\n",
      "Test acc:0.9411\n",
      "Train acc:0.94075\n",
      "epoch: 3\n",
      "Test acc:0.9431\n",
      "Train acc:0.9455166666666667\n",
      "epoch: 4\n",
      "Test acc:0.9469\n",
      "Train acc:0.9477833333333333\n",
      "epoch: 5\n",
      "Test acc:0.946\n",
      "Train acc:0.9506833333333333\n",
      "epoch: 6\n",
      "Test acc:0.9513\n",
      "Train acc:0.9559666666666666\n",
      "epoch: 7\n",
      "Test acc:0.9537\n",
      "Train acc:0.9594\n",
      "epoch: 8\n",
      "Test acc:0.9581\n",
      "Train acc:0.9624666666666667\n",
      "epoch: 9\n",
      "Test acc:0.9571\n",
      "Train acc:0.9634166666666667\n"
     ]
    }
   ],
   "source": [
    "import numpy as np\n",
    "import matplotlib.pyplot as plt\n",
    "from torch import nn, optim\n",
    "import torch\n",
    "from torchvision import datasets,transforms\n",
    "from torch.utils.data import DataLoader\n",
    "\n",
    "# 下载训练集\n",
    "train_dataset = datasets.MNIST(root='/Users/mashunfeng/Desktop/dataset', #下载到的目录\n",
    "                              train=True, #下载训练数据\n",
    "                              transform = transforms.ToTensor(), #数据转成tensor类型\n",
    "                              download=True) #下载 True表示下载\n",
    "# 下载测试集\n",
    "test_dataset = datasets.MNIST(root='/Users/mashunfeng/Desktop/dataset', #下载到的目录\n",
    "                              train=False, #False表示下载测试数据\n",
    "                              transform = transforms.ToTensor(), #数据转成tensor类型\n",
    "                              download=True) #下载\n",
    "\n",
    "#批次大小\n",
    "batch_size = 64\n",
    "\n",
    "# 加载训练数据\n",
    "train_loader = DataLoader(dataset=train_dataset,\n",
    "                          batch_size=batch_size,\n",
    "                          shuffle=True)\n",
    "\n",
    "# 加载测试数据\n",
    "test_loader = DataLoader(dataset=test_dataset,\n",
    "                          batch_size=batch_size,\n",
    "                          shuffle=True)\n",
    "\n",
    "# 查看加载数据的形状\n",
    "for i,data in enumerate(train_loader):\n",
    "    inputs, lables = data\n",
    "    print(inputs.shape) #[64, 1, 28, 28] 64条数据，1个通道，28X28\n",
    "    print(lables.shape)\n",
    "    break\n",
    "\n",
    "# 定义模型结构\n",
    "class Net(nn.Module):\n",
    "    def __init__(self):\n",
    "        super(Net, self).__init__()\n",
    "        self.layer1 = nn.Sequential(nn.Linear(28*28*1,500),\n",
    "                                    nn.Dropout(p=0.5), #对输出的500个神经元进行dropout,丢弃率是50%\n",
    "                                    nn.Tanh())\n",
    "        self.layer2 = nn.Sequential(nn.Linear(500,300),\n",
    "                                    nn.Dropout(p=0.5), #对输出的300个神经元进行dropout,丢弃率是50%\n",
    "                                    nn.Tanh())\n",
    "        self.layer3 = nn.Sequential(nn.Linear(300,10),\n",
    "                                    nn.Softmax(dim=1))\n",
    "    \n",
    "    def forward(self, x):\n",
    "        # 每次x是一个64个样本的数据，torch.Size([64, 1, 28, 28])\n",
    "        # 转成矩阵 [64, 1, 28, 28] --> [64, 1*28*28]\n",
    "        x = x.view(x.size()[0], -1) # x.size()[0]是64; -1表示自动\n",
    "        x = self.layer1(x)\n",
    "        x = self.layer2(x)\n",
    "        x = self.layer3(x)\n",
    "        \n",
    "        return x   \n",
    "\n",
    "#实例模型\n",
    "model = Net()\n",
    "#定义损失函数，分类问题应该用交叉熵\n",
    "loss_fun = nn.CrossEntropyLoss()\n",
    "\n",
    "#优化器\n",
    "optimizer = optim.Adam(model.parameters(), lr=0.5)\n",
    "\n",
    "\n",
    "########## 训练方法\n",
    "def train():\n",
    "    # 这是训练模式, 此时dropout起作用\n",
    "    model.train()\n",
    "    \n",
    "    for i,data in enumerate(train_loader):\n",
    "        # 取一个批次的样本数据和标签数据\n",
    "        inputs,labels = data\n",
    "        # 计算预测结果,形状是(64,10)\n",
    "        out = model(inputs)\n",
    "        \n",
    "        #这里out形状是(64,10)   lables是(64),不需要转成(64,1),因为交叉熵函数会自己转\n",
    "        loss = loss_fun(out, labels)\n",
    "        \n",
    "        #反向传播\n",
    "        loss.backward()\n",
    "        #更新参数\n",
    "        optimizer.step()\n",
    "        \n",
    "        #梯度清零\n",
    "        optimizer.zero_grad()\n",
    "\n",
    "#############测试\n",
    "def test():\n",
    "    # 这是预测状态，此时dropout不起作用\n",
    "    model.eval()\n",
    "    \n",
    "    #############计算测试的准确率\n",
    "    correct = 0\n",
    "    for i,data in enumerate(test_loader):\n",
    "        inputs,labels = data\n",
    "        #获得预测结果 (64,10)\n",
    "        out = model(inputs)\n",
    "        #获取最大值以及最大值位置\n",
    "        #1表示用out[0][1]中的第二个维度获取, 意思就是out的第二维的所有坐标都固定起来，比如out[i][0],out[i][1],out[i][2]...out[i][9]\n",
    "        # max_data是对应的最大概率，max_data_index对应最大概率只对应的坐标,也就是预测值\n",
    "        # 比如 (0.01, 0.01 ,0.01, 0.91, 0.01, 0.01, 0.01, 0.01, 0.01, 0.01) ,最大值是0.91,对应的坐标是3，也就是数字3\n",
    "        max_data,max_data_index = torch.max(out,1)\n",
    "        # max_data_index就是预测值\n",
    "        predicted = max_data_index\n",
    "        \n",
    "        #计算正确的个数\n",
    "        correct += (predicted == labels).sum()\n",
    "    #准确率\n",
    "    print(\"Test acc:{}\".format(correct.item()/len(test_dataset)))\n",
    "    \n",
    "    \n",
    "    #########计算训练时的准确率\n",
    "    correct = 0\n",
    "    for i,data in enumerate(train_loader):\n",
    "        inputs,labels = data\n",
    "        #获得预测结果 (64,10)\n",
    "        out = model(inputs)\n",
    "        max_data,max_data_index = torch.max(out,1)\n",
    "        # max_data_index就是预测值\n",
    "        predicted = max_data_index\n",
    "        \n",
    "        #计算正确的个数\n",
    "        correct += (predicted == labels).sum()\n",
    "    #准确率\n",
    "    print(\"Train acc:{}\".format(correct.item()/len(train_dataset)))\n",
    "\n",
    "################# 训练  ###############\n",
    "#######################################\n",
    "for epoch in range(10):\n",
    "    print(\"epoch:\", epoch)\n",
    "    train()\n",
    "    test()"
   ]
  },
  {
   "cell_type": "markdown",
   "id": "0da17052-9d20-4d8b-a7fb-dca0619965a5",
   "metadata": {},
   "source": [
    "# MNIST手写数字识别--卷积神经网络CNN"
   ]
  },
  {
   "cell_type": "code",
   "execution_count": 1,
   "id": "d8c5108c-c447-4b5c-9e5d-13afb00070f2",
   "metadata": {
    "tags": []
   },
   "outputs": [
    {
     "name": "stdout",
     "output_type": "stream",
     "text": [
      "torch.Size([64, 1, 28, 28])\n",
      "torch.Size([64])\n"
     ]
    }
   ],
   "source": [
    "import numpy as np\n",
    "import matplotlib.pyplot as plt\n",
    "from torch import nn, optim\n",
    "import torch\n",
    "from torchvision import datasets,transforms\n",
    "from torch.utils.data import DataLoader\n",
    "\n",
    "# 下载训练集\n",
    "train_dataset = datasets.MNIST(root='/Users/mashunfeng/Desktop/dataset', #下载到的目录\n",
    "                              train=True, #下载训练数据\n",
    "                              transform = transforms.ToTensor(), #数据转成tensor类型\n",
    "                              download=True) #下载 True表示下载\n",
    "# 下载测试集\n",
    "test_dataset = datasets.MNIST(root='/Users/mashunfeng/Desktop/dataset', #下载到的目录\n",
    "                              train=False, #False表示下载测试数据\n",
    "                              transform = transforms.ToTensor(), #数据转成tensor类型\n",
    "                              download=True) #下载\n",
    "\n",
    "#批次大小\n",
    "batch_size = 64\n",
    "\n",
    "# 加载训练数据\n",
    "train_loader = DataLoader(dataset=train_dataset,\n",
    "                          batch_size=batch_size,\n",
    "                          shuffle=True)\n",
    "\n",
    "# 加载测试数据\n",
    "test_loader = DataLoader(dataset=test_dataset,\n",
    "                          batch_size=batch_size,\n",
    "                          shuffle=True)\n",
    "\n",
    "# 查看加载数据的形状\n",
    "for i,data in enumerate(train_loader):\n",
    "    inputs, lables = data\n",
    "    print(inputs.shape) #[64, 1, 28, 28] 64条数据，1个通道，28X28\n",
    "    print(lables.shape)\n",
    "    break"
   ]
  },
  {
   "cell_type": "code",
   "execution_count": 2,
   "id": "bd3cc769-d124-4918-8a09-b1bcaeb0f496",
   "metadata": {
    "tags": []
   },
   "outputs": [
    {
     "name": "stdout",
     "output_type": "stream",
     "text": [
      "epoch: 0\n",
      "Test acc:0.9749\n",
      "Train acc:0.9741\n",
      "epoch: 1\n",
      "Test acc:0.9773\n",
      "Train acc:0.9796166666666667\n",
      "epoch: 2\n",
      "Test acc:0.9858\n",
      "Train acc:0.9863\n",
      "epoch: 3\n",
      "Test acc:0.9875\n",
      "Train acc:0.9875666666666667\n",
      "epoch: 4\n",
      "Test acc:0.9893\n",
      "Train acc:0.9913166666666666\n",
      "epoch: 5\n",
      "Test acc:0.9891\n",
      "Train acc:0.9909666666666667\n",
      "epoch: 6\n",
      "Test acc:0.9906\n",
      "Train acc:0.9923666666666666\n",
      "epoch: 7\n",
      "Test acc:0.9917\n",
      "Train acc:0.99375\n",
      "epoch: 8\n",
      "Test acc:0.9907\n",
      "Train acc:0.9933833333333333\n",
      "epoch: 9\n",
      "Test acc:0.9925\n",
      "Train acc:0.9956666666666667\n"
     ]
    }
   ],
   "source": [
    "# 定义模型结构\n",
    "class Net(nn.Module):\n",
    "    def __init__(self):\n",
    "        super(Net, self).__init__()\n",
    "        # 定义卷积层                # 卷积后图像大小没变(28,28) -> (28,28)\n",
    "        self.conv1 = nn.Sequential(nn.Conv2d(in_channels=1,out_channels=32,kernel_size=5,stride=1,padding=2),\n",
    "                                   nn.ReLU(),\n",
    "                                   # 池化后后图像大小改变(28,28) -> (14,14)\n",
    "                                   nn.MaxPool2d(kernel_size=2,stride=2))\n",
    "                                    \n",
    "        self.conv2 = nn.Sequential(nn.Conv2d(32,64,5,1,2),  # 卷积后图像大小没变(14,14) -> (14,14)\n",
    "                                   nn.ReLU(),\n",
    "                                   nn.MaxPool2d(2,2)) # 池化后后图像大小改变(14,14) -> (7,7)\n",
    "       \n",
    "        # 全连接\n",
    "        self.fc1 = nn.Sequential(nn.Linear(64*7*7,1000),\n",
    "                                 nn.Dropout(p=0.5),\n",
    "                                 nn.ReLU())\n",
    "        \n",
    "        self.fc2 = nn.Sequential(nn.Linear(1000,10),\n",
    "                                 nn.Softmax(dim=1))\n",
    "    \n",
    "    def forward(self, x):\n",
    "        # 每次x是一个64个样本的数据，torch.Size([64, 1, 28, 28])\n",
    "        x = self.conv1(x)\n",
    "        x = self.conv2(x)\n",
    "        \n",
    "        # [64, 64, 7, 7] -> [64,7*7*64]\n",
    "        x = x.view(x.size()[0],-1)\n",
    "        x = self.fc1(x)\n",
    "        x = self.fc2(x)\n",
    "        return x   \n",
    "\n",
    "#实例模型\n",
    "model = Net()\n",
    "#定义损失函数，分类问题应该用交叉熵\n",
    "loss_fun = nn.CrossEntropyLoss()\n",
    "\n",
    "#学习率\n",
    "LR=0.0003\n",
    "#优化器\n",
    "optimizer = optim.Adam(model.parameters(), LR)\n",
    "\n",
    "\n",
    "########## 训练方法\n",
    "def train():\n",
    "    # 这是训练模式, 此时dropout起作用\n",
    "    model.train()\n",
    "    \n",
    "    for i,data in enumerate(train_loader):\n",
    "        # 取一个批次的样本数据和标签数据\n",
    "        inputs,labels = data\n",
    "        # 计算预测结果,形状是(64,10)\n",
    "        out = model(inputs)\n",
    "        \n",
    "        #这里out形状是(64,10)   lables是(64),不需要转成(64,1),因为交叉熵函数会自己转\n",
    "        loss = loss_fun(out, labels)\n",
    "        \n",
    "        #反向传播\n",
    "        loss.backward()\n",
    "        #更新参数\n",
    "        optimizer.step()\n",
    "        \n",
    "        #梯度清零\n",
    "        optimizer.zero_grad()\n",
    "\n",
    "#############测试\n",
    "def test():\n",
    "    # 这是预测状态，此时dropout不起作用\n",
    "    model.eval()\n",
    "    \n",
    "    #############计算测试的准确率\n",
    "    correct = 0\n",
    "    for i,data in enumerate(test_loader):\n",
    "        inputs,labels = data\n",
    "        #获得预测结果 (64,10)\n",
    "        out = model(inputs)\n",
    "        #获取最大值以及最大值位置\n",
    "        #1表示用out[0][1]中的第二个维度获取, 意思就是out的第二维的所有坐标都固定起来，比如out[i][0],out[i][1],out[i][2]...out[i][9]\n",
    "        # max_data是对应的最大概率，max_data_index对应最大概率只对应的坐标,也就是预测值\n",
    "        # 比如 (0.01, 0.01 ,0.01, 0.91, 0.01, 0.01, 0.01, 0.01, 0.01, 0.01) ,最大值是0.91,对应的坐标是3，也就是数字3\n",
    "        max_data,max_data_index = torch.max(out,1)\n",
    "        # max_data_index就是预测值\n",
    "        predicted = max_data_index\n",
    "        \n",
    "        #计算正确的个数\n",
    "        correct += (predicted == labels).sum()\n",
    "    #准确率\n",
    "    print(\"Test acc:{}\".format(correct.item()/len(test_dataset)))\n",
    "    \n",
    "    \n",
    "    #########计算训练时的准确率\n",
    "    correct = 0\n",
    "    for i,data in enumerate(train_loader):\n",
    "        inputs,labels = data\n",
    "        #获得预测结果 (64,10)\n",
    "        out = model(inputs)\n",
    "        max_data,max_data_index = torch.max(out,1)\n",
    "        # max_data_index就是预测值\n",
    "        predicted = max_data_index\n",
    "        \n",
    "        #计算正确的个数\n",
    "        correct += (predicted == labels).sum()\n",
    "    #准确率\n",
    "    print(\"Train acc:{}\".format(correct.item()/len(train_dataset)))\n",
    "\n",
    "################# 训练  ###############\n",
    "#######################################\n",
    "for epoch in range(10):\n",
    "    print(\"epoch:\", epoch)\n",
    "    train()\n",
    "    test()"
   ]
  },
  {
   "cell_type": "code",
   "execution_count": 8,
   "id": "ae18301a-b27f-4f70-98e4-4fb1eaec6d00",
   "metadata": {
    "tags": []
   },
   "outputs": [
    {
     "name": "stderr",
     "output_type": "stream",
     "text": [
      "/Users/mashunfeng/anaconda3/lib/python3.11/site-packages/torchvision/models/_utils.py:208: UserWarning: The parameter 'pretrained' is deprecated since 0.13 and may be removed in the future, please use 'weights' instead.\n",
      "  warnings.warn(\n",
      "/Users/mashunfeng/anaconda3/lib/python3.11/site-packages/torchvision/models/_utils.py:223: UserWarning: Arguments other than a weight enum or `None` for 'weights' are deprecated since 0.13 and may be removed in the future. The current behavior is equivalent to passing `weights=VGG16_Weights.IMAGENET1K_V1`. You can also use `weights=VGG16_Weights.DEFAULT` to get the most up-to-date weights.\n",
      "  warnings.warn(msg)\n",
      "Downloading: \"https://download.pytorch.org/models/vgg16-397923af.pth\" to /Users/mashunfeng/.cache/torch/hub/checkpoints/vgg16-397923af.pth\n",
      "  7%|████▉                                                               | 38.0M/528M [00:44<09:35, 892kB/s]\n"
     ]
    },
    {
     "ename": "KeyboardInterrupt",
     "evalue": "",
     "output_type": "error",
     "traceback": [
      "\u001b[0;31m---------------------------------------------------------------------------\u001b[0m",
      "\u001b[0;31mKeyboardInterrupt\u001b[0m                         Traceback (most recent call last)",
      "Cell \u001b[0;32mIn[8], line 3\u001b[0m\n\u001b[1;32m      1\u001b[0m \u001b[38;5;28;01mfrom\u001b[39;00m \u001b[38;5;21;01mtorchvision\u001b[39;00m \u001b[38;5;28;01mimport\u001b[39;00m models\n\u001b[0;32m----> 3\u001b[0m vgg_model \u001b[38;5;241m=\u001b[39m models\u001b[38;5;241m.\u001b[39mvgg16(pretrained\u001b[38;5;241m=\u001b[39m\u001b[38;5;28;01mTrue\u001b[39;00m)\n\u001b[1;32m      4\u001b[0m \u001b[38;5;28mprint\u001b[39m(vgg_model)\n",
      "File \u001b[0;32m~/anaconda3/lib/python3.11/site-packages/torchvision/models/_utils.py:142\u001b[0m, in \u001b[0;36mkwonly_to_pos_or_kw.<locals>.wrapper\u001b[0;34m(*args, **kwargs)\u001b[0m\n\u001b[1;32m    135\u001b[0m     warnings\u001b[38;5;241m.\u001b[39mwarn(\n\u001b[1;32m    136\u001b[0m         \u001b[38;5;124mf\u001b[39m\u001b[38;5;124m\"\u001b[39m\u001b[38;5;124mUsing \u001b[39m\u001b[38;5;132;01m{\u001b[39;00msequence_to_str(\u001b[38;5;28mtuple\u001b[39m(keyword_only_kwargs\u001b[38;5;241m.\u001b[39mkeys()),\u001b[38;5;250m \u001b[39mseparate_last\u001b[38;5;241m=\u001b[39m\u001b[38;5;124m'\u001b[39m\u001b[38;5;124mand \u001b[39m\u001b[38;5;124m'\u001b[39m)\u001b[38;5;132;01m}\u001b[39;00m\u001b[38;5;124m as positional \u001b[39m\u001b[38;5;124m\"\u001b[39m\n\u001b[1;32m    137\u001b[0m         \u001b[38;5;124mf\u001b[39m\u001b[38;5;124m\"\u001b[39m\u001b[38;5;124mparameter(s) is deprecated since 0.13 and may be removed in the future. Please use keyword parameter(s) \u001b[39m\u001b[38;5;124m\"\u001b[39m\n\u001b[1;32m    138\u001b[0m         \u001b[38;5;124mf\u001b[39m\u001b[38;5;124m\"\u001b[39m\u001b[38;5;124minstead.\u001b[39m\u001b[38;5;124m\"\u001b[39m\n\u001b[1;32m    139\u001b[0m     )\n\u001b[1;32m    140\u001b[0m     kwargs\u001b[38;5;241m.\u001b[39mupdate(keyword_only_kwargs)\n\u001b[0;32m--> 142\u001b[0m \u001b[38;5;28;01mreturn\u001b[39;00m fn(\u001b[38;5;241m*\u001b[39margs, \u001b[38;5;241m*\u001b[39m\u001b[38;5;241m*\u001b[39mkwargs)\n",
      "File \u001b[0;32m~/anaconda3/lib/python3.11/site-packages/torchvision/models/_utils.py:228\u001b[0m, in \u001b[0;36mhandle_legacy_interface.<locals>.outer_wrapper.<locals>.inner_wrapper\u001b[0;34m(*args, **kwargs)\u001b[0m\n\u001b[1;32m    225\u001b[0m     \u001b[38;5;28;01mdel\u001b[39;00m kwargs[pretrained_param]\n\u001b[1;32m    226\u001b[0m     kwargs[weights_param] \u001b[38;5;241m=\u001b[39m default_weights_arg\n\u001b[0;32m--> 228\u001b[0m \u001b[38;5;28;01mreturn\u001b[39;00m builder(\u001b[38;5;241m*\u001b[39margs, \u001b[38;5;241m*\u001b[39m\u001b[38;5;241m*\u001b[39mkwargs)\n",
      "File \u001b[0;32m~/anaconda3/lib/python3.11/site-packages/torchvision/models/vgg.py:433\u001b[0m, in \u001b[0;36mvgg16\u001b[0;34m(weights, progress, **kwargs)\u001b[0m\n\u001b[1;32m    413\u001b[0m \u001b[38;5;250m\u001b[39m\u001b[38;5;124;03m\"\"\"VGG-16 from `Very Deep Convolutional Networks for Large-Scale Image Recognition <https://arxiv.org/abs/1409.1556>`__.\u001b[39;00m\n\u001b[1;32m    414\u001b[0m \n\u001b[1;32m    415\u001b[0m \u001b[38;5;124;03mArgs:\u001b[39;00m\n\u001b[0;32m   (...)\u001b[0m\n\u001b[1;32m    429\u001b[0m \u001b[38;5;124;03m    :members:\u001b[39;00m\n\u001b[1;32m    430\u001b[0m \u001b[38;5;124;03m\"\"\"\u001b[39;00m\n\u001b[1;32m    431\u001b[0m weights \u001b[38;5;241m=\u001b[39m VGG16_Weights\u001b[38;5;241m.\u001b[39mverify(weights)\n\u001b[0;32m--> 433\u001b[0m \u001b[38;5;28;01mreturn\u001b[39;00m _vgg(\u001b[38;5;124m\"\u001b[39m\u001b[38;5;124mD\u001b[39m\u001b[38;5;124m\"\u001b[39m, \u001b[38;5;28;01mFalse\u001b[39;00m, weights, progress, \u001b[38;5;241m*\u001b[39m\u001b[38;5;241m*\u001b[39mkwargs)\n",
      "File \u001b[0;32m~/anaconda3/lib/python3.11/site-packages/torchvision/models/vgg.py:105\u001b[0m, in \u001b[0;36m_vgg\u001b[0;34m(cfg, batch_norm, weights, progress, **kwargs)\u001b[0m\n\u001b[1;32m    103\u001b[0m model \u001b[38;5;241m=\u001b[39m VGG(make_layers(cfgs[cfg], batch_norm\u001b[38;5;241m=\u001b[39mbatch_norm), \u001b[38;5;241m*\u001b[39m\u001b[38;5;241m*\u001b[39mkwargs)\n\u001b[1;32m    104\u001b[0m \u001b[38;5;28;01mif\u001b[39;00m weights \u001b[38;5;129;01mis\u001b[39;00m \u001b[38;5;129;01mnot\u001b[39;00m \u001b[38;5;28;01mNone\u001b[39;00m:\n\u001b[0;32m--> 105\u001b[0m     model\u001b[38;5;241m.\u001b[39mload_state_dict(weights\u001b[38;5;241m.\u001b[39mget_state_dict(progress\u001b[38;5;241m=\u001b[39mprogress, check_hash\u001b[38;5;241m=\u001b[39m\u001b[38;5;28;01mTrue\u001b[39;00m))\n\u001b[1;32m    106\u001b[0m \u001b[38;5;28;01mreturn\u001b[39;00m model\n",
      "File \u001b[0;32m~/anaconda3/lib/python3.11/site-packages/torchvision/models/_api.py:90\u001b[0m, in \u001b[0;36mWeightsEnum.get_state_dict\u001b[0;34m(self, *args, **kwargs)\u001b[0m\n\u001b[1;32m     89\u001b[0m \u001b[38;5;28;01mdef\u001b[39;00m \u001b[38;5;21mget_state_dict\u001b[39m(\u001b[38;5;28mself\u001b[39m, \u001b[38;5;241m*\u001b[39margs: Any, \u001b[38;5;241m*\u001b[39m\u001b[38;5;241m*\u001b[39mkwargs: Any) \u001b[38;5;241m-\u001b[39m\u001b[38;5;241m>\u001b[39m Mapping[\u001b[38;5;28mstr\u001b[39m, Any]:\n\u001b[0;32m---> 90\u001b[0m     \u001b[38;5;28;01mreturn\u001b[39;00m load_state_dict_from_url(\u001b[38;5;28mself\u001b[39m\u001b[38;5;241m.\u001b[39murl, \u001b[38;5;241m*\u001b[39margs, \u001b[38;5;241m*\u001b[39m\u001b[38;5;241m*\u001b[39mkwargs)\n",
      "File \u001b[0;32m~/anaconda3/lib/python3.11/site-packages/torch/hub.py:766\u001b[0m, in \u001b[0;36mload_state_dict_from_url\u001b[0;34m(url, model_dir, map_location, progress, check_hash, file_name, weights_only)\u001b[0m\n\u001b[1;32m    764\u001b[0m         r \u001b[38;5;241m=\u001b[39m HASH_REGEX\u001b[38;5;241m.\u001b[39msearch(filename)  \u001b[38;5;66;03m# r is Optional[Match[str]]\u001b[39;00m\n\u001b[1;32m    765\u001b[0m         hash_prefix \u001b[38;5;241m=\u001b[39m r\u001b[38;5;241m.\u001b[39mgroup(\u001b[38;5;241m1\u001b[39m) \u001b[38;5;28;01mif\u001b[39;00m r \u001b[38;5;28;01melse\u001b[39;00m \u001b[38;5;28;01mNone\u001b[39;00m\n\u001b[0;32m--> 766\u001b[0m     download_url_to_file(url, cached_file, hash_prefix, progress\u001b[38;5;241m=\u001b[39mprogress)\n\u001b[1;32m    768\u001b[0m \u001b[38;5;28;01mif\u001b[39;00m _is_legacy_zip_format(cached_file):\n\u001b[1;32m    769\u001b[0m     \u001b[38;5;28;01mreturn\u001b[39;00m _legacy_zip_load(cached_file, model_dir, map_location, weights_only)\n",
      "File \u001b[0;32m~/anaconda3/lib/python3.11/site-packages/torch/hub.py:651\u001b[0m, in \u001b[0;36mdownload_url_to_file\u001b[0;34m(url, dst, hash_prefix, progress)\u001b[0m\n\u001b[1;32m    648\u001b[0m \u001b[38;5;28;01mwith\u001b[39;00m tqdm(total\u001b[38;5;241m=\u001b[39mfile_size, disable\u001b[38;5;241m=\u001b[39m\u001b[38;5;129;01mnot\u001b[39;00m progress,\n\u001b[1;32m    649\u001b[0m           unit\u001b[38;5;241m=\u001b[39m\u001b[38;5;124m'\u001b[39m\u001b[38;5;124mB\u001b[39m\u001b[38;5;124m'\u001b[39m, unit_scale\u001b[38;5;241m=\u001b[39m\u001b[38;5;28;01mTrue\u001b[39;00m, unit_divisor\u001b[38;5;241m=\u001b[39m\u001b[38;5;241m1024\u001b[39m) \u001b[38;5;28;01mas\u001b[39;00m pbar:\n\u001b[1;32m    650\u001b[0m     \u001b[38;5;28;01mwhile\u001b[39;00m \u001b[38;5;28;01mTrue\u001b[39;00m:\n\u001b[0;32m--> 651\u001b[0m         buffer \u001b[38;5;241m=\u001b[39m u\u001b[38;5;241m.\u001b[39mread(\u001b[38;5;241m8192\u001b[39m)\n\u001b[1;32m    652\u001b[0m         \u001b[38;5;28;01mif\u001b[39;00m \u001b[38;5;28mlen\u001b[39m(buffer) \u001b[38;5;241m==\u001b[39m \u001b[38;5;241m0\u001b[39m:\n\u001b[1;32m    653\u001b[0m             \u001b[38;5;28;01mbreak\u001b[39;00m\n",
      "File \u001b[0;32m~/anaconda3/lib/python3.11/http/client.py:466\u001b[0m, in \u001b[0;36mHTTPResponse.read\u001b[0;34m(self, amt)\u001b[0m\n\u001b[1;32m    463\u001b[0m \u001b[38;5;28;01mif\u001b[39;00m \u001b[38;5;28mself\u001b[39m\u001b[38;5;241m.\u001b[39mlength \u001b[38;5;129;01mis\u001b[39;00m \u001b[38;5;129;01mnot\u001b[39;00m \u001b[38;5;28;01mNone\u001b[39;00m \u001b[38;5;129;01mand\u001b[39;00m amt \u001b[38;5;241m>\u001b[39m \u001b[38;5;28mself\u001b[39m\u001b[38;5;241m.\u001b[39mlength:\n\u001b[1;32m    464\u001b[0m     \u001b[38;5;66;03m# clip the read to the \"end of response\"\u001b[39;00m\n\u001b[1;32m    465\u001b[0m     amt \u001b[38;5;241m=\u001b[39m \u001b[38;5;28mself\u001b[39m\u001b[38;5;241m.\u001b[39mlength\n\u001b[0;32m--> 466\u001b[0m s \u001b[38;5;241m=\u001b[39m \u001b[38;5;28mself\u001b[39m\u001b[38;5;241m.\u001b[39mfp\u001b[38;5;241m.\u001b[39mread(amt)\n\u001b[1;32m    467\u001b[0m \u001b[38;5;28;01mif\u001b[39;00m \u001b[38;5;129;01mnot\u001b[39;00m s \u001b[38;5;129;01mand\u001b[39;00m amt:\n\u001b[1;32m    468\u001b[0m     \u001b[38;5;66;03m# Ideally, we would raise IncompleteRead if the content-length\u001b[39;00m\n\u001b[1;32m    469\u001b[0m     \u001b[38;5;66;03m# wasn't satisfied, but it might break compatibility.\u001b[39;00m\n\u001b[1;32m    470\u001b[0m     \u001b[38;5;28mself\u001b[39m\u001b[38;5;241m.\u001b[39m_close_conn()\n",
      "File \u001b[0;32m~/anaconda3/lib/python3.11/socket.py:706\u001b[0m, in \u001b[0;36mSocketIO.readinto\u001b[0;34m(self, b)\u001b[0m\n\u001b[1;32m    704\u001b[0m \u001b[38;5;28;01mwhile\u001b[39;00m \u001b[38;5;28;01mTrue\u001b[39;00m:\n\u001b[1;32m    705\u001b[0m     \u001b[38;5;28;01mtry\u001b[39;00m:\n\u001b[0;32m--> 706\u001b[0m         \u001b[38;5;28;01mreturn\u001b[39;00m \u001b[38;5;28mself\u001b[39m\u001b[38;5;241m.\u001b[39m_sock\u001b[38;5;241m.\u001b[39mrecv_into(b)\n\u001b[1;32m    707\u001b[0m     \u001b[38;5;28;01mexcept\u001b[39;00m timeout:\n\u001b[1;32m    708\u001b[0m         \u001b[38;5;28mself\u001b[39m\u001b[38;5;241m.\u001b[39m_timeout_occurred \u001b[38;5;241m=\u001b[39m \u001b[38;5;28;01mTrue\u001b[39;00m\n",
      "File \u001b[0;32m~/anaconda3/lib/python3.11/ssl.py:1311\u001b[0m, in \u001b[0;36mSSLSocket.recv_into\u001b[0;34m(self, buffer, nbytes, flags)\u001b[0m\n\u001b[1;32m   1307\u001b[0m     \u001b[38;5;28;01mif\u001b[39;00m flags \u001b[38;5;241m!=\u001b[39m \u001b[38;5;241m0\u001b[39m:\n\u001b[1;32m   1308\u001b[0m         \u001b[38;5;28;01mraise\u001b[39;00m \u001b[38;5;167;01mValueError\u001b[39;00m(\n\u001b[1;32m   1309\u001b[0m           \u001b[38;5;124m\"\u001b[39m\u001b[38;5;124mnon-zero flags not allowed in calls to recv_into() on \u001b[39m\u001b[38;5;132;01m%s\u001b[39;00m\u001b[38;5;124m\"\u001b[39m \u001b[38;5;241m%\u001b[39m\n\u001b[1;32m   1310\u001b[0m           \u001b[38;5;28mself\u001b[39m\u001b[38;5;241m.\u001b[39m\u001b[38;5;18m__class__\u001b[39m)\n\u001b[0;32m-> 1311\u001b[0m     \u001b[38;5;28;01mreturn\u001b[39;00m \u001b[38;5;28mself\u001b[39m\u001b[38;5;241m.\u001b[39mread(nbytes, buffer)\n\u001b[1;32m   1312\u001b[0m \u001b[38;5;28;01melse\u001b[39;00m:\n\u001b[1;32m   1313\u001b[0m     \u001b[38;5;28;01mreturn\u001b[39;00m \u001b[38;5;28msuper\u001b[39m()\u001b[38;5;241m.\u001b[39mrecv_into(buffer, nbytes, flags)\n",
      "File \u001b[0;32m~/anaconda3/lib/python3.11/ssl.py:1167\u001b[0m, in \u001b[0;36mSSLSocket.read\u001b[0;34m(self, len, buffer)\u001b[0m\n\u001b[1;32m   1165\u001b[0m \u001b[38;5;28;01mtry\u001b[39;00m:\n\u001b[1;32m   1166\u001b[0m     \u001b[38;5;28;01mif\u001b[39;00m buffer \u001b[38;5;129;01mis\u001b[39;00m \u001b[38;5;129;01mnot\u001b[39;00m \u001b[38;5;28;01mNone\u001b[39;00m:\n\u001b[0;32m-> 1167\u001b[0m         \u001b[38;5;28;01mreturn\u001b[39;00m \u001b[38;5;28mself\u001b[39m\u001b[38;5;241m.\u001b[39m_sslobj\u001b[38;5;241m.\u001b[39mread(\u001b[38;5;28mlen\u001b[39m, buffer)\n\u001b[1;32m   1168\u001b[0m     \u001b[38;5;28;01melse\u001b[39;00m:\n\u001b[1;32m   1169\u001b[0m         \u001b[38;5;28;01mreturn\u001b[39;00m \u001b[38;5;28mself\u001b[39m\u001b[38;5;241m.\u001b[39m_sslobj\u001b[38;5;241m.\u001b[39mread(\u001b[38;5;28mlen\u001b[39m)\n",
      "\u001b[0;31mKeyboardInterrupt\u001b[0m: "
     ]
    }
   ],
   "source": [
    "from torchvision import models\n",
    "\n",
    "vgg_model = models.vgg16(pretrained=True)\n",
    "print(vgg_model)"
   ]
  },
  {
   "cell_type": "markdown",
   "id": "1126e857-1053-4d40-ab78-00c90e920821",
   "metadata": {},
   "source": [
    "# PyTorch基本学习"
   ]
  },
  {
   "cell_type": "code",
   "execution_count": 18,
   "id": "1affa41c-3846-411f-a509-274dddc6cd2e",
   "metadata": {},
   "outputs": [
    {
     "name": "stdout",
     "output_type": "stream",
     "text": [
      "tensor([[ 0.3069,  0.6139, -0.3548],\n",
      "        [ 2.6311,  0.8008, -0.2450]])\n",
      "18\n"
     ]
    }
   ],
   "source": [
    "# 创建随机张量\n",
    "data =  torch.randn(2,3)\n",
    "print(data)\n",
    "\n",
    "# 查看随机数种子\n",
    "print(torch.random.initial_seed())"
   ]
  },
  {
   "cell_type": "code",
   "execution_count": 19,
   "id": "e08520f1-6335-497e-978f-b5d4f0191002",
   "metadata": {
    "tags": []
   },
   "outputs": [
    {
     "name": "stdout",
     "output_type": "stream",
     "text": [
      "tensor([[ 0.5941, -0.1271, -0.7287],\n",
      "        [ 0.7212, -0.5660,  0.5781]])\n"
     ]
    }
   ],
   "source": [
    "# 固定随机数\n",
    "torch.random.manual_seed(18)\n",
    "data =  torch.randn(2,3)\n",
    "print(data)"
   ]
  },
  {
   "cell_type": "code",
   "execution_count": 26,
   "id": "49050091-3af2-43d6-8e6f-f3f52e61b6c4",
   "metadata": {
    "tags": []
   },
   "outputs": [
    {
     "name": "stdout",
     "output_type": "stream",
     "text": [
      "tensor([1, 3, 5, 7, 9])\n",
      "tensor([ 1.0000,  2.1250,  3.2500,  4.3750,  5.5000,  6.6250,  7.7500,  8.8750,\n",
      "        10.0000])\n"
     ]
    }
   ],
   "source": [
    "# 线性张量\n",
    "data = torch.arange(1,10,2) # 1->10 步长2\n",
    "print(data)\n",
    "\n",
    "data = torch.linspace(1,10,9) # 1->10 选9个数，步长平均\n",
    "print(data)"
   ]
  },
  {
   "cell_type": "code",
   "execution_count": 28,
   "id": "1acbce33-c785-44fc-9c75-ab2a0e0cf30e",
   "metadata": {
    "tags": []
   },
   "outputs": [
    {
     "data": {
      "text/plain": [
       "tensor([[0., 0., 0.],\n",
       "        [0., 0., 0.]])"
      ]
     },
     "execution_count": 28,
     "metadata": {},
     "output_type": "execute_result"
    }
   ],
   "source": [
    "#\n",
    "torch.zeros(2,3)"
   ]
  },
  {
   "cell_type": "code",
   "execution_count": 29,
   "id": "6b4cdd48-ba70-4b45-8c71-bd0d3c9ee222",
   "metadata": {
    "tags": []
   },
   "outputs": [
    {
     "data": {
      "text/plain": [
       "tensor([[1., 1.],\n",
       "        [1., 1.],\n",
       "        [1., 1.]])"
      ]
     },
     "execution_count": 29,
     "metadata": {},
     "output_type": "execute_result"
    }
   ],
   "source": [
    "#\n",
    "torch.ones(3,2)"
   ]
  },
  {
   "cell_type": "code",
   "execution_count": 36,
   "id": "335edcf9-77f6-4af3-bd0b-b4128db50e27",
   "metadata": {
    "tags": []
   },
   "outputs": [
    {
     "name": "stdout",
     "output_type": "stream",
     "text": [
      "tensor([[8, 8],\n",
      "        [8, 8],\n",
      "        [8, 8]])\n",
      "tensor([[100, 100],\n",
      "        [100, 100],\n",
      "        [100, 100]])\n"
     ]
    }
   ],
   "source": [
    "# 创建值全部是 8 的张量\n",
    "data = torch.full((3,2), 8)\n",
    "print(data)\n",
    "\n",
    "data = torch.full_like(data, 100)\n",
    "print(data)"
   ]
  },
  {
   "cell_type": "code",
   "execution_count": 44,
   "id": "7bcbf00b-f0de-4261-a5b0-31b27094a677",
   "metadata": {
    "tags": []
   },
   "outputs": [
    {
     "name": "stdout",
     "output_type": "stream",
     "text": [
      "torch.int64\n",
      "torch.float64\n",
      "torch.float32\n"
     ]
    }
   ],
   "source": [
    "# 张量类型转换\n",
    "data = torch.full((3,4),10)\n",
    "print(data.dtype)\n",
    "\n",
    "data = data.type(torch.DoubleTensor)\n",
    "print(data.dtype)\n",
    "\n",
    "data = data.float()\n",
    "print(data.dtype)"
   ]
  },
  {
   "cell_type": "code",
   "execution_count": 46,
   "id": "7c5b74e9-bcc3-46fe-ad07-1881509918a1",
   "metadata": {
    "tags": []
   },
   "outputs": [
    {
     "name": "stdout",
     "output_type": "stream",
     "text": [
      "tensor([2., 3.])\n"
     ]
    }
   ],
   "source": [
    "# 创建张量\n",
    "data = torch.FloatTensor((2,3))\n",
    "print(data)"
   ]
  },
  {
   "cell_type": "markdown",
   "id": "8c4365a4-3b0c-48d3-9f2f-040889162d1e",
   "metadata": {},
   "source": [
    "#### 张量计算"
   ]
  },
  {
   "cell_type": "code",
   "execution_count": 48,
   "id": "ef40f0a2-605b-4f13-a5fb-8e4ddb411193",
   "metadata": {
    "tags": []
   },
   "outputs": [
    {
     "name": "stdout",
     "output_type": "stream",
     "text": [
      "tensor([[2, 2, 1],\n",
      "        [9, 7, 7]])\n",
      "tensor([[12, 12, 11],\n",
      "        [19, 17, 17]])\n"
     ]
    }
   ],
   "source": [
    "# 不修改原数据的计算\n",
    "def test():\n",
    "    data = torch.randint(0,10, (2,3))\n",
    "    print(data)\n",
    "    \n",
    "    # add()\n",
    "    data = data.add(10)\n",
    "    print(data)\n",
    "    \n",
    "    # sub() 减法\n",
    "    # mul() 乘法\n",
    "    # div() 除法\n",
    "    # neg() 取反\n",
    "    \n",
    "test()"
   ]
  },
  {
   "cell_type": "code",
   "execution_count": 49,
   "id": "fa50e17c-314e-4329-89a2-fc625d3bd962",
   "metadata": {
    "tags": []
   },
   "outputs": [
    {
     "name": "stdout",
     "output_type": "stream",
     "text": [
      "tensor([[4, 8, 7],\n",
      "        [3, 9, 1]])\n",
      "tensor([[14, 18, 17],\n",
      "        [13, 19, 11]])\n"
     ]
    }
   ],
   "source": [
    "# 修改原数据的计算\n",
    "def test():\n",
    "    data = torch.randint(0,10, (2,3))\n",
    "    print(data)\n",
    "    \n",
    "    # add_()\n",
    "    data.add_(10)\n",
    "    print(data)\n",
    "    \n",
    "    # sub_() 减法\n",
    "    # mul_() 乘法\n",
    "    # div_() 除法\n",
    "    # neg_() 取反\n",
    "    \n",
    "test()"
   ]
  },
  {
   "cell_type": "markdown",
   "id": "7d4ba0e7-1bc9-4067-8a99-c49a717618df",
   "metadata": {},
   "source": [
    "#### 阿达玛积运算\n",
    "    矩阵对应位置元素相乘"
   ]
  },
  {
   "cell_type": "code",
   "execution_count": 52,
   "id": "62ef4d14-7c99-42ee-b5b1-371d033574ac",
   "metadata": {
    "tags": []
   },
   "outputs": [
    {
     "name": "stdout",
     "output_type": "stream",
     "text": [
      "tensor([[ 5, 12],\n",
      "        [21, 32]])\n",
      "tensor([[ 5, 12],\n",
      "        [21, 32]])\n"
     ]
    }
   ],
   "source": [
    "# 用mul或*\n",
    "data1 = torch.tensor([[1,2], \n",
    "                      [3,4]])\n",
    "data2 = torch.tensor([[5,6], \n",
    "                      [7,8]])\n",
    "\n",
    "data = data1.mul(data2)\n",
    "print(data)\n",
    "\n",
    "data = data1 * data2\n",
    "print(data)"
   ]
  },
  {
   "cell_type": "markdown",
   "id": "ae00751e-e8b4-4113-9a74-fc84abea9ab1",
   "metadata": {},
   "source": [
    "### 矩阵计算"
   ]
  },
  {
   "cell_type": "code",
   "execution_count": 57,
   "id": "b355a493-1bc1-4bf4-b5bd-fda4efcb7520",
   "metadata": {
    "tags": []
   },
   "outputs": [
    {
     "name": "stdout",
     "output_type": "stream",
     "text": [
      "(10, 5, 1)\n"
     ]
    }
   ],
   "source": [
    "data = torch.randint(0,10,(3,2,5))\n",
    "print(data.stride())"
   ]
  },
  {
   "cell_type": "code",
   "execution_count": 62,
   "id": "25c03af7-8a13-4539-bf13-e2faed2b1995",
   "metadata": {
    "tags": []
   },
   "outputs": [
    {
     "name": "stdout",
     "output_type": "stream",
     "text": [
      "tensor([[19, 22],\n",
      "        [43, 50],\n",
      "        [67, 78]])\n",
      "tensor([[19, 22],\n",
      "        [43, 50],\n",
      "        [67, 78]])\n"
     ]
    }
   ],
   "source": [
    "data1 = torch.tensor([[1,2],\n",
    "                      [3,4],\n",
    "                      [5,6]])\n",
    "\n",
    "data2 = torch.tensor([[5,6],\n",
    "                      [7,8]])\n",
    "\n",
    "data = data1 @ data2\n",
    "print(data)\n",
    "\n",
    "# mm() 计算两个维度的矩阵 data[i][j]\n",
    "data = torch.mm(data1,data2) \n",
    "print(data)\n"
   ]
  },
  {
   "cell_type": "code",
   "execution_count": 66,
   "id": "e2abb2a9-04ca-4298-bcb9-58a77fdfd414",
   "metadata": {
    "tags": []
   },
   "outputs": [
    {
     "name": "stdout",
     "output_type": "stream",
     "text": [
      "tensor([[[ 0.9964,  1.9718,  0.0641],\n",
      "         [-0.3272, -3.0362, -0.6925],\n",
      "         [ 0.8274, -0.0762, -0.8454],\n",
      "         [-1.3114, -3.4587, -1.3376]],\n",
      "\n",
      "        [[ 1.5810,  3.5793,  1.0822],\n",
      "         [-0.2266,  1.0787,  0.4092],\n",
      "         [-0.5876, -2.7757, -1.4944],\n",
      "         [-2.4767,  1.8564,  0.5857]],\n",
      "\n",
      "        [[ 0.6372,  0.6562, -2.5483],\n",
      "         [-2.8657,  0.0904, -2.0266],\n",
      "         [-3.2647, -0.2866,  0.4957],\n",
      "         [-1.8968,  1.1686, -1.1006]]])\n"
     ]
    }
   ],
   "source": [
    "# bmm() 计算3个维度的矩阵 data[i][j][k]\n",
    "data1 = torch.randn(3,4,5)\n",
    "data2 = torch.randn(3,5,3)\n",
    "data = torch.bmm(data1,data2) \n",
    "print(data)"
   ]
  },
  {
   "cell_type": "code",
   "execution_count": 85,
   "id": "7030186e-9096-4954-be8f-d625e38fe514",
   "metadata": {
    "tags": []
   },
   "outputs": [
    {
     "name": "stdout",
     "output_type": "stream",
     "text": [
      "18\n",
      "tensor([[[ 4.5145,  2.0553, -7.0533],\n",
      "         [ 0.0918,  0.6906,  2.2250],\n",
      "         [ 1.8312,  2.0340, -3.1979],\n",
      "         [ 0.7531,  1.8300,  0.6993]],\n",
      "\n",
      "        [[-0.6963,  0.2037,  0.9755],\n",
      "         [ 2.3780,  2.0059, -1.3038],\n",
      "         [-0.3010, -2.2333, -0.1264],\n",
      "         [ 0.3133,  0.5992,  0.1793]],\n",
      "\n",
      "        [[ 5.5450, -1.7780,  0.4283],\n",
      "         [-3.5505,  3.3271,  1.5690],\n",
      "         [ 0.0663, -0.4876, -1.0772],\n",
      "         [ 1.3774, -4.4170, -1.2264]]])\n"
     ]
    }
   ],
   "source": [
    "# matmul() 无维度限制\n",
    "torch.random.manual_seed(18)\n",
    "data1 = torch.randn(3,4,5)\n",
    "data2 = torch.randn(3,5,3)\n",
    "data = torch.matmul(data1,data2) \n",
    "print(torch.random.initial_seed())\n",
    "print(data)"
   ]
  },
  {
   "cell_type": "markdown",
   "id": "9ff3d945-cc4c-4a0d-ad83-04576b4f8987",
   "metadata": {},
   "source": [
    "### 指定运算设备"
   ]
  },
  {
   "cell_type": "code",
   "execution_count": 86,
   "id": "b7283ce3-a55f-4ef9-98c0-3f44bf26817d",
   "metadata": {
    "tags": []
   },
   "outputs": [
    {
     "data": {
      "text/plain": [
       "device(type='cpu')"
      ]
     },
     "execution_count": 86,
     "metadata": {},
     "output_type": "execute_result"
    }
   ],
   "source": [
    "data.device"
   ]
  },
  {
   "cell_type": "code",
   "execution_count": 87,
   "id": "df9c2e58-2d17-4596-b219-f4895f6c8e28",
   "metadata": {
    "tags": []
   },
   "outputs": [
    {
     "ename": "AssertionError",
     "evalue": "Torch not compiled with CUDA enabled",
     "output_type": "error",
     "traceback": [
      "\u001b[0;31m---------------------------------------------------------------------------\u001b[0m",
      "\u001b[0;31mAssertionError\u001b[0m                            Traceback (most recent call last)",
      "Cell \u001b[0;32mIn[87], line 3\u001b[0m\n\u001b[1;32m      1\u001b[0m data \u001b[38;5;241m=\u001b[39m torch\u001b[38;5;241m.\u001b[39mtensor([\u001b[38;5;241m10\u001b[39m,\u001b[38;5;241m20\u001b[39m,\u001b[38;5;241m30\u001b[39m])\n\u001b[1;32m      2\u001b[0m \u001b[38;5;66;03m# 放到cuda\u001b[39;00m\n\u001b[0;32m----> 3\u001b[0m data\u001b[38;5;241m.\u001b[39mcuda()\n\u001b[1;32m      4\u001b[0m \u001b[38;5;28mprint\u001b[39m(data\u001b[38;5;241m.\u001b[39mdevice)\n\u001b[1;32m      6\u001b[0m \u001b[38;5;66;03m# 放到cpu\u001b[39;00m\n",
      "File \u001b[0;32m~/anaconda3/lib/python3.11/site-packages/torch/cuda/__init__.py:293\u001b[0m, in \u001b[0;36m_lazy_init\u001b[0;34m()\u001b[0m\n\u001b[1;32m    288\u001b[0m     \u001b[38;5;28;01mraise\u001b[39;00m \u001b[38;5;167;01mRuntimeError\u001b[39;00m(\n\u001b[1;32m    289\u001b[0m         \u001b[38;5;124m\"\u001b[39m\u001b[38;5;124mCannot re-initialize CUDA in forked subprocess. To use CUDA with \u001b[39m\u001b[38;5;124m\"\u001b[39m\n\u001b[1;32m    290\u001b[0m         \u001b[38;5;124m\"\u001b[39m\u001b[38;5;124mmultiprocessing, you must use the \u001b[39m\u001b[38;5;124m'\u001b[39m\u001b[38;5;124mspawn\u001b[39m\u001b[38;5;124m'\u001b[39m\u001b[38;5;124m start method\u001b[39m\u001b[38;5;124m\"\u001b[39m\n\u001b[1;32m    291\u001b[0m     )\n\u001b[1;32m    292\u001b[0m \u001b[38;5;28;01mif\u001b[39;00m \u001b[38;5;129;01mnot\u001b[39;00m \u001b[38;5;28mhasattr\u001b[39m(torch\u001b[38;5;241m.\u001b[39m_C, \u001b[38;5;124m\"\u001b[39m\u001b[38;5;124m_cuda_getDeviceCount\u001b[39m\u001b[38;5;124m\"\u001b[39m):\n\u001b[0;32m--> 293\u001b[0m     \u001b[38;5;28;01mraise\u001b[39;00m \u001b[38;5;167;01mAssertionError\u001b[39;00m(\u001b[38;5;124m\"\u001b[39m\u001b[38;5;124mTorch not compiled with CUDA enabled\u001b[39m\u001b[38;5;124m\"\u001b[39m)\n\u001b[1;32m    294\u001b[0m \u001b[38;5;28;01mif\u001b[39;00m _cudart \u001b[38;5;129;01mis\u001b[39;00m \u001b[38;5;28;01mNone\u001b[39;00m:\n\u001b[1;32m    295\u001b[0m     \u001b[38;5;28;01mraise\u001b[39;00m \u001b[38;5;167;01mAssertionError\u001b[39;00m(\n\u001b[1;32m    296\u001b[0m         \u001b[38;5;124m\"\u001b[39m\u001b[38;5;124mlibcudart functions unavailable. It looks like you have a broken build?\u001b[39m\u001b[38;5;124m\"\u001b[39m\n\u001b[1;32m    297\u001b[0m     )\n",
      "\u001b[0;31mAssertionError\u001b[0m: Torch not compiled with CUDA enabled"
     ]
    }
   ],
   "source": [
    "data = torch.tensor([10,20,30])\n",
    "# 放到cuda\n",
    "data.cuda()\n",
    "print(data.device)\n",
    "\n",
    "# 放到cpu\n",
    "data.cpu()\n",
    "print(data.device)\n",
    "\n",
    "# 放到cpu\n",
    "data.to('cpu')"
   ]
  },
  {
   "cell_type": "markdown",
   "id": "7f5cce77-31f3-4d7d-9772-94fdb1eea0b2",
   "metadata": {},
   "source": [
    "### 张量数据转换"
   ]
  },
  {
   "cell_type": "code",
   "execution_count": 101,
   "id": "926c8fc4-b547-4ae1-a640-0f56119762fb",
   "metadata": {
    "tags": []
   },
   "outputs": [
    {
     "name": "stdout",
     "output_type": "stream",
     "text": [
      "tensor([9, 2, 3])\n",
      "[9 2 3]\n",
      "[10  2  3]\n"
     ]
    }
   ],
   "source": [
    "# 共享内存\n",
    "data1 = torch.tensor([1,2,3])\n",
    "data2 = data1.numpy()\n",
    "\n",
    "data2[0] = 9\n",
    "\n",
    "print(data1)\n",
    "print(data2)\n",
    "\n",
    "data2[0] = 10\n",
    "# 用copy避免内存共享\n",
    "data3 = data1.numpy().copy()\n",
    "print(data3)"
   ]
  },
  {
   "cell_type": "code",
   "execution_count": 104,
   "id": "70637131-8dd9-41ca-ab4b-886885251459",
   "metadata": {
    "tags": []
   },
   "outputs": [
    {
     "name": "stdout",
     "output_type": "stream",
     "text": [
      "[2 4 4]\n",
      "tensor([2, 4, 4])\n"
     ]
    }
   ],
   "source": [
    "# numpy转张量\n",
    "# from_numpy() 默认共享内存\n",
    "# torch.tensor() 默认不共享内存\n",
    "data_numpy = np.array([2,3,4])\n",
    "data_tensor = torch.from_numpy(data_numpy)\n",
    "data_tensor[1] = 4\n",
    "print(data_numpy)\n",
    "print(data_tensor)"
   ]
  },
  {
   "cell_type": "code",
   "execution_count": 110,
   "id": "80b20821-f4e3-4bc0-a6fd-213db19d7cdf",
   "metadata": {
    "tags": []
   },
   "outputs": [
    {
     "name": "stdout",
     "output_type": "stream",
     "text": [
      "tensor([1, 1, 2])\n"
     ]
    }
   ],
   "source": [
    "# 不共享内存\n",
    "data_numpy = np.array([1,1,2])\n",
    "data_tensor = torch.tensor(data_numpy)\n",
    "print(data_tensor)"
   ]
  },
  {
   "cell_type": "markdown",
   "id": "54d38fec-27ff-41d7-8760-ec2da5e21267",
   "metadata": {},
   "source": [
    "### 标量张量数字转换"
   ]
  },
  {
   "cell_type": "code",
   "execution_count": 115,
   "id": "749eda28-2426-415f-9181-dfb02a0381c8",
   "metadata": {
    "tags": []
   },
   "outputs": [
    {
     "name": "stdout",
     "output_type": "stream",
     "text": [
      "torch.Size([])\n",
      "torch.Size([1])\n",
      "torch.Size([1, 1])\n",
      "30\n",
      "30\n",
      "30\n"
     ]
    },
    {
     "ename": "RuntimeError",
     "evalue": "a Tensor with 2 elements cannot be converted to Scalar",
     "output_type": "error",
     "traceback": [
      "\u001b[0;31m---------------------------------------------------------------------------\u001b[0m",
      "\u001b[0;31mRuntimeError\u001b[0m                              Traceback (most recent call last)",
      "Cell \u001b[0;32mIn[115], line 16\u001b[0m\n\u001b[1;32m     14\u001b[0m \u001b[38;5;66;03m# 这里会报错\u001b[39;00m\n\u001b[1;32m     15\u001b[0m t4  \u001b[38;5;241m=\u001b[39m torch\u001b[38;5;241m.\u001b[39mtensor([\u001b[38;5;241m30\u001b[39m,\u001b[38;5;241m40\u001b[39m])\n\u001b[0;32m---> 16\u001b[0m \u001b[38;5;28mprint\u001b[39m(t4\u001b[38;5;241m.\u001b[39mitem())\n",
      "\u001b[0;31mRuntimeError\u001b[0m: a Tensor with 2 elements cannot be converted to Scalar"
     ]
    }
   ],
   "source": [
    "t1 = torch.tensor(30)\n",
    "t2 = torch.tensor([30])\n",
    "t3 = torch.tensor([[30]])\n",
    "\n",
    "print(t1.shape)\n",
    "print(t2.shape)\n",
    "print(t3.shape)\n",
    "\n",
    "# 张量中只有一个元素可以用item() 提取标量\n",
    "print(t1.item())\n",
    "print(t2.item())\n",
    "print(t3.item())\n",
    "\n",
    "# 这里会报错\n",
    "t4  = torch.tensor([30,40])\n",
    "print(t4.item())"
   ]
  },
  {
   "cell_type": "markdown",
   "id": "8d603d41-f6ed-4b35-ba4a-66f6e4daecb4",
   "metadata": {},
   "source": [
    "### 张量拼接操作"
   ]
  },
  {
   "cell_type": "code",
   "execution_count": 130,
   "id": "4682aaed-1013-466d-9851-d3ad5ed5b1d4",
   "metadata": {
    "tags": []
   },
   "outputs": [
    {
     "name": "stdout",
     "output_type": "stream",
     "text": [
      "torch.Size([3, 4, 5])\n",
      "torch.Size([3, 4, 5])\n",
      "------------------------------\n",
      "torch.Size([6, 4, 5])\n",
      "------------------------------\n",
      "torch.Size([3, 8, 5])\n",
      "------------------------------\n",
      "torch.Size([3, 4, 10])\n",
      "------------------------------\n"
     ]
    }
   ],
   "source": [
    "data1 = torch.randint(0,10, (3,4,5))\n",
    "data2 = torch.randint(0,10, (3,4,5))\n",
    "print(data1.shape)\n",
    "print(data2.shape)\n",
    "print('-'*30)\n",
    "\n",
    "# 按照第0维拼接\n",
    "new_data = torch.cat([data1,data2], dim=0)\n",
    "print(new_data.shape)\n",
    "print('-'*30)\n",
    "\n",
    "# 按照第1维拼接\n",
    "new_data = torch.cat([data1,data2], dim=1)\n",
    "print(new_data.shape)\n",
    "print('-'*30)\n",
    "\n",
    "# 按照第2维拼接\n",
    "new_data = torch.cat([data1,data2], dim=2)\n",
    "print(new_data.shape)\n",
    "print('-'*30)"
   ]
  },
  {
   "cell_type": "markdown",
   "id": "63cceef1-5714-49cc-bc42-7aa498ef5ca0",
   "metadata": {},
   "source": [
    "### 张量叠加"
   ]
  },
  {
   "cell_type": "code",
   "execution_count": 137,
   "id": "9a464ffd-810b-4a4c-af1f-2b7ad2df32c5",
   "metadata": {
    "tags": []
   },
   "outputs": [
    {
     "name": "stdout",
     "output_type": "stream",
     "text": [
      "tensor([[0, 9, 5],\n",
      "        [3, 4, 3]])\n",
      "tensor([[8, 2, 2],\n",
      "        [7, 9, 6]])\n",
      "------------------------------\n",
      "torch.Size([2, 2, 3])\n",
      "tensor([[[0, 9, 5],\n",
      "         [3, 4, 3]],\n",
      "\n",
      "        [[8, 2, 2],\n",
      "         [7, 9, 6]]])\n",
      "------------------------------\n",
      "torch.Size([2, 2, 3])\n",
      "tensor([[[0, 9, 5],\n",
      "         [8, 2, 2]],\n",
      "\n",
      "        [[3, 4, 3],\n",
      "         [7, 9, 6]]])\n",
      "------------------------------\n",
      "torch.Size([2, 3, 2])\n",
      "tensor([[[0, 8],\n",
      "         [9, 2],\n",
      "         [5, 2]],\n",
      "\n",
      "        [[3, 7],\n",
      "         [4, 9],\n",
      "         [3, 6]]])\n",
      "------------------------------\n"
     ]
    }
   ],
   "source": [
    "# 沿一个新维度对输入一系列张量进行连接，序列中所有张量应为相同形状\n",
    "#，stack 函数返回的结果会新增一个维度。也即是把多个2维的张量凑成一个3维的张量\n",
    "#；多个3维的凑成一个4维的张量…以此类推，也就是在增加新的维度上面进行堆叠。\n",
    "data1 = torch.randint(0,10, (2,3))\n",
    "data2 = torch.randint(0,10, (2,3))\n",
    "print(data1)\n",
    "print(data2)\n",
    "print('-'*30)\n",
    "\n",
    "# 两个张量叠加起来, 按0维度叠加\n",
    "new_data = torch.stack([data1,data2], dim=0)\n",
    "print(new_data.shape)\n",
    "print(new_data)\n",
    "print('-'*30)\n",
    "\n",
    "\n",
    "# 两个张量叠加起来, 按1维度叠加\n",
    "new_data = torch.stack([data1,data2], dim=1)\n",
    "print(new_data.shape)\n",
    "print(new_data)\n",
    "print('-'*30)\n",
    "\n",
    "\n",
    "# 两个张量叠加起来, 按2维度叠加\n",
    "new_data = torch.stack([data1,data2], dim=2)\n",
    "print(new_data.shape)\n",
    "print(new_data)\n",
    "print('-'*30)"
   ]
  },
  {
   "cell_type": "markdown",
   "id": "a8bf67b2-7d85-4c91-9e6b-f488bc3f5090",
   "metadata": {},
   "source": [
    "### 布尔索引"
   ]
  },
  {
   "cell_type": "code",
   "execution_count": 140,
   "id": "556a1377-d1d3-4002-9337-92dada43aace",
   "metadata": {
    "tags": []
   },
   "outputs": [
    {
     "name": "stdout",
     "output_type": "stream",
     "text": [
      "tensor([[6, 5, 7, 1, 1],\n",
      "        [1, 5, 4, 3, 3],\n",
      "        [5, 7, 0, 6, 9],\n",
      "        [9, 8, 8, 3, 1]])\n",
      "tensor([[ True,  True,  True, False, False],\n",
      "        [False,  True,  True, False, False],\n",
      "        [ True,  True, False,  True,  True],\n",
      "        [ True,  True,  True, False, False]])\n",
      "tensor([6, 5, 7, 5, 4, 5, 7, 6, 9, 9, 8, 8])\n"
     ]
    }
   ],
   "source": [
    "data = torch.randint(0,10, (4,5))\n",
    "print(data)\n",
    "\n",
    "# 获取大于3的布局\n",
    "print(data > 3)\n",
    "\n",
    "# 获取大于3的数据\n",
    "print(data[data>3])"
   ]
  },
  {
   "cell_type": "code",
   "execution_count": 179,
   "id": "166af9a6-87b9-4a1a-88b8-d468c3801b80",
   "metadata": {
    "tags": []
   },
   "outputs": [
    {
     "name": "stdout",
     "output_type": "stream",
     "text": [
      "torch.Size([4, 5])\n",
      "tensor([[6, 5, 7, 1, 1],\n",
      "        [1, 5, 4, 3, 3],\n",
      "        [5, 7, 0, 6, 9],\n",
      "        [9, 8, 8, 3, 1]])\n",
      "------------------------------\n",
      "返回第2列大于6的布尔布局\n",
      " tensor([False, False,  True,  True])\n",
      "------------------------------\n",
      "把是True的行选出来\n",
      " tensor([[5, 7, 0, 6, 9],\n",
      "        [9, 8, 8, 3, 1]])\n",
      "------------------------------\n",
      "把是True的列选出来\n",
      " tensor([[7, 1, 1],\n",
      "        [4, 3, 3],\n",
      "        [0, 6, 9],\n",
      "        [8, 3, 1]])\n",
      "------------------------------\n",
      "选第2、3行数据\n",
      " tensor([[5, 7, 0, 6, 9],\n",
      "        [9, 8, 8, 3, 1]])\n",
      "------------------------------\n",
      "选2、3列数据\n",
      " tensor([[7, 1],\n",
      "        [4, 3],\n",
      "        [0, 6],\n",
      "        [8, 3]])\n",
      "------------------------------\n"
     ]
    }
   ],
   "source": [
    "print(data.shape)\n",
    "print(data)\n",
    "print('-'*30)\n",
    "\n",
    "# 返回第2列大于6的布尔布局\n",
    "print('返回第2列大于6的布尔布局\\n',data[:,1] > 6)\n",
    "print('-'*30)\n",
    "\n",
    "# 把是True的行选出来\n",
    "print('把是True的行选出来\\n',data[[False, False,  True,  True]])\n",
    "print('-'*30)\n",
    "\n",
    "# 把是True的列选出来\n",
    "print('把是True的列选出来\\n',data[:,[False, False,  True,  True,True]])\n",
    "print('-'*30)\n",
    "\n",
    "\n",
    "# 选第2、3行数据\n",
    "print('选第2、3行数据\\n',data[[2,3]])\n",
    "print('-'*30)\n",
    "\n",
    "# 选2、3列数据\n",
    "print('选2、3列数据\\n',data[:, [2,3]])\n",
    "print('-'*30)"
   ]
  },
  {
   "cell_type": "code",
   "execution_count": 183,
   "id": "1ccbaee3-049d-4949-9833-2c533ccdd268",
   "metadata": {
    "tags": []
   },
   "outputs": [
    {
     "name": "stdout",
     "output_type": "stream",
     "text": [
      "tensor([False,  True,  True, False, False])\n"
     ]
    },
    {
     "data": {
      "text/plain": [
       "tensor([[5, 7],\n",
       "        [5, 4],\n",
       "        [7, 0],\n",
       "        [8, 8]])"
      ]
     },
     "execution_count": 183,
     "metadata": {},
     "output_type": "execute_result"
    }
   ],
   "source": [
    "print(data[1]>3)\n",
    "# 返回所有行，每列为True的数据\n",
    "data[:, data[1]>3]"
   ]
  },
  {
   "cell_type": "markdown",
   "id": "b7b0fcfb-c8a8-415c-83f8-72d062b1d118",
   "metadata": {},
   "source": [
    "### 多维索引"
   ]
  },
  {
   "cell_type": "code",
   "execution_count": 189,
   "id": "8a6ebe31-62e3-4e49-badd-858ba1409ca5",
   "metadata": {
    "tags": []
   },
   "outputs": [
    {
     "name": "stdout",
     "output_type": "stream",
     "text": [
      "tensor([[[4, 9, 3, 0, 3],\n",
      "         [9, 7, 3, 7, 3],\n",
      "         [1, 6, 6, 9, 8],\n",
      "         [6, 6, 8, 4, 3]],\n",
      "\n",
      "        [[6, 9, 1, 4, 4],\n",
      "         [1, 9, 9, 9, 0],\n",
      "         [1, 2, 3, 0, 5],\n",
      "         [5, 2, 9, 1, 8]],\n",
      "\n",
      "        [[8, 3, 6, 9, 1],\n",
      "         [7, 3, 5, 2, 1],\n",
      "         [0, 9, 3, 1, 1],\n",
      "         [0, 3, 6, 6, 7]]])\n",
      "------------------------------\n",
      "tensor([[4, 9, 3, 0, 3],\n",
      "        [9, 7, 3, 7, 3],\n",
      "        [1, 6, 6, 9, 8],\n",
      "        [6, 6, 8, 4, 3]])\n",
      "------------------------------\n",
      "tensor([[4, 9, 3, 0, 3],\n",
      "        [6, 9, 1, 4, 4],\n",
      "        [8, 3, 6, 9, 1]])\n",
      "------------------------------\n",
      "tensor([[4, 9, 1, 6],\n",
      "        [6, 1, 1, 5],\n",
      "        [8, 7, 0, 0]])\n",
      "------------------------------\n",
      "tensor([4, 6, 8])\n",
      "------------------------------\n"
     ]
    }
   ],
   "source": [
    "torch.manual_seed(0)\n",
    "data = torch.randint(0,10, [3,4,5])\n",
    "print(data)\n",
    "print('-'*30)\n",
    "\n",
    "print(data[0,:,:])\n",
    "print('-'*30)\n",
    "\n",
    "print(data[:,0,:])\n",
    "print('-'*30)\n",
    "\n",
    "print(data[:,:,0])\n",
    "print('-'*30)\n",
    "\n",
    "print(data[:,0,0])\n",
    "print('-'*30)"
   ]
  },
  {
   "cell_type": "code",
   "execution_count": 198,
   "id": "272d084e-245b-4978-aca0-f67f527be353",
   "metadata": {
    "tags": []
   },
   "outputs": [
    {
     "name": "stdout",
     "output_type": "stream",
     "text": [
      "tensor([[[[4, 9, 3],\n",
      "          [0, 3, 9]],\n",
      "\n",
      "         [[7, 3, 7],\n",
      "          [3, 1, 6]],\n",
      "\n",
      "         [[6, 9, 8],\n",
      "          [6, 6, 8]]],\n",
      "\n",
      "\n",
      "        [[[4, 3, 6],\n",
      "          [9, 1, 4]],\n",
      "\n",
      "         [[4, 1, 9],\n",
      "          [9, 9, 0]],\n",
      "\n",
      "         [[1, 2, 3],\n",
      "          [0, 5, 5]]]])\n",
      "tensor([4, 0])\n",
      "------------------------------\n"
     ]
    }
   ],
   "source": [
    "torch.manual_seed(0)\n",
    "data = torch.randint(0,10, [2,3,2,3])\n",
    "print(data)\n",
    "print(data[0,0,:,0])\n",
    "print('-'*30)\n",
    "\n",
    "# 取元素对应方式\n",
    "[0,0,:,0]\n",
    "[\\0[\\0[\\:[\\0 4, 9, 3],\n",
    "  [0, 3, 9]],\n",
    "\n",
    " [[7, 3, 7],\n",
    "  [3, 1, 6]],\n",
    "\n",
    " [[6, 9, 8],\n",
    "  [6, 6, 8]]],\n",
    "\n",
    "\n",
    "[[[4, 3, 6],\n",
    "  [9, 1, 4]],\n",
    "\n",
    " [[4, 1, 9],\n",
    "  [9, 9, 0]],\n",
    "\n",
    " [[1, 2, 3],\n",
    "  [0, 5, 5]]]]"
   ]
  },
  {
   "cell_type": "markdown",
   "id": "2f2cf424-7d0a-4aaf-a641-e0c950fe625d",
   "metadata": {},
   "source": [
    "### 张量增加维度或减少维度"
   ]
  },
  {
   "cell_type": "code",
   "execution_count": 199,
   "id": "6001c852-11c7-42de-907c-cad9ad0e734b",
   "metadata": {
    "tags": []
   },
   "outputs": [
    {
     "name": "stdout",
     "output_type": "stream",
     "text": [
      "torch.Size([1, 3, 1, 5])\n"
     ]
    }
   ],
   "source": [
    "data = torch.randint(0,10, (1,3,1,5))\n",
    "print(data.shape)"
   ]
  },
  {
   "cell_type": "code",
   "execution_count": 201,
   "id": "897b2100-5ce4-45c6-8459-75b5ff639d84",
   "metadata": {
    "tags": []
   },
   "outputs": [
    {
     "name": "stdout",
     "output_type": "stream",
     "text": [
      "torch.Size([3, 5])\n"
     ]
    }
   ],
   "source": [
    "# 去掉所以1的维度\n",
    "new_data = data.squeeze()\n",
    "print(new_data.shape)"
   ]
  },
  {
   "cell_type": "code",
   "execution_count": 203,
   "id": "f5c7634c-90aa-42e7-9225-29ea36089c53",
   "metadata": {
    "tags": []
   },
   "outputs": [
    {
     "name": "stdout",
     "output_type": "stream",
     "text": [
      "torch.Size([3, 1, 5])\n"
     ]
    }
   ],
   "source": [
    "# 指定去掉某个1的维度\n",
    "new_data =data.squeeze(0)\n",
    "print(new_data.shape)"
   ]
  },
  {
   "cell_type": "code",
   "execution_count": 207,
   "id": "1029cb7c-8a14-4c6d-8567-88bb02743180",
   "metadata": {
    "tags": []
   },
   "outputs": [
    {
     "name": "stdout",
     "output_type": "stream",
     "text": [
      "torch.Size([1, 3, 1, 1, 5])\n"
     ]
    }
   ],
   "source": [
    "# 指定位置增加一个维度，-1表示最后一个维度\n",
    "new_data = data.unsqueeze(2)\n",
    "print(new_data.shape)"
   ]
  },
  {
   "cell_type": "markdown",
   "id": "91bd4355-aebb-48b4-94be-6b77f0b234c6",
   "metadata": {},
   "source": [
    "### 梯度计算"
   ]
  },
  {
   "cell_type": "code",
   "execution_count": 211,
   "id": "05c2e6bf-0307-4879-b1a2-8c53d840819c",
   "metadata": {
    "tags": []
   },
   "outputs": [
    {
     "name": "stdout",
     "output_type": "stream",
     "text": [
      "tensor(20., dtype=torch.float64)\n"
     ]
    }
   ],
   "source": [
    "# 1.标量的梯度计算\n",
    "x = torch.tensor(10, requires_grad=True, dtype=torch.float64)\n",
    "\n",
    "# 对x的中间计算\n",
    "y = x**2 + 20\n",
    "# 自动微分\n",
    "y.backward()\n",
    "#访问梯度\n",
    "print(x.grad)"
   ]
  },
  {
   "cell_type": "code",
   "execution_count": 212,
   "id": "b7423dd8-931a-4c2e-a499-a830e748e75f",
   "metadata": {
    "tags": []
   },
   "outputs": [
    {
     "name": "stdout",
     "output_type": "stream",
     "text": [
      "tensor([ 5., 10., 15., 20.], dtype=torch.float64)\n"
     ]
    }
   ],
   "source": [
    "# 2.向量计算梯度\n",
    "x = torch.tensor([10,20,30,40], requires_grad=True, dtype=torch.float64)\n",
    "#中间计算\n",
    "y = x**2 + 20\n",
    "#向量无法自动计算梯度，需要转成一个标量后再计算\n",
    "y = y.mean()\n",
    "#\n",
    "y.backward()\n",
    "print(x.grad)"
   ]
  },
  {
   "cell_type": "code",
   "execution_count": 216,
   "id": "7f16de06-d8d0-48b5-97d6-1e6f55c5446f",
   "metadata": {
    "tags": []
   },
   "outputs": [
    {
     "name": "stdout",
     "output_type": "stream",
     "text": [
      "tensor(40., dtype=torch.float64)\n",
      "tensor(50., dtype=torch.float64)\n"
     ]
    }
   ],
   "source": [
    "# 3.多标量计算梯度\n",
    "x1 = torch.tensor(10, requires_grad=True, dtype=torch.float64)\n",
    "x2 = torch.tensor(20, requires_grad=True, dtype=torch.float64)\n",
    "\n",
    "# 中间计算过程\n",
    "y = x1**2 + x2**2 + x1*x2\n",
    "y.backward()\n",
    "print(x1.grad)\n",
    "print(x2.grad)"
   ]
  },
  {
   "cell_type": "code",
   "execution_count": 217,
   "id": "97fb064c-f20a-4e06-86ee-abacfdb37875",
   "metadata": {
    "tags": []
   },
   "outputs": [
    {
     "name": "stdout",
     "output_type": "stream",
     "text": [
      "tensor([50., 80.], dtype=torch.float64)\n",
      "tensor([ 70., 100.], dtype=torch.float64)\n"
     ]
    }
   ],
   "source": [
    "# 4.多向量计算梯度\n",
    "x1 = torch.tensor([10,20], requires_grad=True, dtype=torch.float64)\n",
    "x2 = torch.tensor([30,40], requires_grad=True, dtype=torch.float64)\n",
    "\n",
    "# 中间计算过程\n",
    "y = x1**2 + x2**2 + x1*x2\n",
    "\n",
    "# 变标量\n",
    "y = y.sum()\n",
    "y.backward()\n",
    "print(x1.grad)\n",
    "print(x2.grad)"
   ]
  },
  {
   "cell_type": "code",
   "execution_count": 234,
   "id": "3f5b2ec0-535b-44bd-8245-ae49b91dd63e",
   "metadata": {
    "tags": []
   },
   "outputs": [
    {
     "name": "stdout",
     "output_type": "stream",
     "text": [
      "True\n",
      "False\n",
      "False\n",
      "False\n"
     ]
    },
    {
     "ename": "RuntimeError",
     "evalue": "element 0 of tensors does not require grad and does not have a grad_fn",
     "output_type": "error",
     "traceback": [
      "\u001b[0;31m---------------------------------------------------------------------------\u001b[0m",
      "\u001b[0;31mRuntimeError\u001b[0m                              Traceback (most recent call last)",
      "Cell \u001b[0;32mIn[234], line 15\u001b[0m\n\u001b[1;32m     13\u001b[0m y3 \u001b[38;5;241m=\u001b[39m y\u001b[38;5;241m*\u001b[39m\u001b[38;5;241m*\u001b[39m\u001b[38;5;241m2\u001b[39m\n\u001b[1;32m     14\u001b[0m \u001b[38;5;28mprint\u001b[39m(y3\u001b[38;5;241m.\u001b[39mrequires_grad)\n\u001b[0;32m---> 15\u001b[0m y3\u001b[38;5;241m.\u001b[39mbackward()\n\u001b[1;32m     17\u001b[0m \u001b[38;5;66;03m# 针对方法的梯度控制\u001b[39;00m\n\u001b[1;32m     18\u001b[0m \u001b[38;5;129m@torch\u001b[39m\u001b[38;5;241m.\u001b[39mno_grad()\n\u001b[1;32m     19\u001b[0m \u001b[38;5;28;01mdef\u001b[39;00m \u001b[38;5;21my_func\u001b[39m(x):\n",
      "File \u001b[0;32m~/anaconda3/lib/python3.11/site-packages/torch/_tensor.py:522\u001b[0m, in \u001b[0;36mTensor.backward\u001b[0;34m(self, gradient, retain_graph, create_graph, inputs)\u001b[0m\n\u001b[1;32m    512\u001b[0m \u001b[38;5;28;01mif\u001b[39;00m has_torch_function_unary(\u001b[38;5;28mself\u001b[39m):\n\u001b[1;32m    513\u001b[0m     \u001b[38;5;28;01mreturn\u001b[39;00m handle_torch_function(\n\u001b[1;32m    514\u001b[0m         Tensor\u001b[38;5;241m.\u001b[39mbackward,\n\u001b[1;32m    515\u001b[0m         (\u001b[38;5;28mself\u001b[39m,),\n\u001b[0;32m   (...)\u001b[0m\n\u001b[1;32m    520\u001b[0m         inputs\u001b[38;5;241m=\u001b[39minputs,\n\u001b[1;32m    521\u001b[0m     )\n\u001b[0;32m--> 522\u001b[0m torch\u001b[38;5;241m.\u001b[39mautograd\u001b[38;5;241m.\u001b[39mbackward(\n\u001b[1;32m    523\u001b[0m     \u001b[38;5;28mself\u001b[39m, gradient, retain_graph, create_graph, inputs\u001b[38;5;241m=\u001b[39minputs\n\u001b[1;32m    524\u001b[0m )\n",
      "File \u001b[0;32m~/anaconda3/lib/python3.11/site-packages/torch/autograd/__init__.py:266\u001b[0m, in \u001b[0;36mbackward\u001b[0;34m(tensors, grad_tensors, retain_graph, create_graph, grad_variables, inputs)\u001b[0m\n\u001b[1;32m    261\u001b[0m     retain_graph \u001b[38;5;241m=\u001b[39m create_graph\n\u001b[1;32m    263\u001b[0m \u001b[38;5;66;03m# The reason we repeat the same comment below is that\u001b[39;00m\n\u001b[1;32m    264\u001b[0m \u001b[38;5;66;03m# some Python versions print out the first line of a multi-line function\u001b[39;00m\n\u001b[1;32m    265\u001b[0m \u001b[38;5;66;03m# calls in the traceback and some print out the last line\u001b[39;00m\n\u001b[0;32m--> 266\u001b[0m Variable\u001b[38;5;241m.\u001b[39m_execution_engine\u001b[38;5;241m.\u001b[39mrun_backward(  \u001b[38;5;66;03m# Calls into the C++ engine to run the backward pass\u001b[39;00m\n\u001b[1;32m    267\u001b[0m     tensors,\n\u001b[1;32m    268\u001b[0m     grad_tensors_,\n\u001b[1;32m    269\u001b[0m     retain_graph,\n\u001b[1;32m    270\u001b[0m     create_graph,\n\u001b[1;32m    271\u001b[0m     inputs,\n\u001b[1;32m    272\u001b[0m     allow_unreachable\u001b[38;5;241m=\u001b[39m\u001b[38;5;28;01mTrue\u001b[39;00m,\n\u001b[1;32m    273\u001b[0m     accumulate_grad\u001b[38;5;241m=\u001b[39m\u001b[38;5;28;01mTrue\u001b[39;00m,\n\u001b[1;32m    274\u001b[0m )\n",
      "\u001b[0;31mRuntimeError\u001b[0m: element 0 of tensors does not require grad and does not have a grad_fn"
     ]
    }
   ],
   "source": [
    "# 5.梯度控制\n",
    "x = torch.tensor(10, requires_grad=True, dtype=torch.float64)\n",
    "print(x.requires_grad)\n",
    "\n",
    "# 控制标量不进行梯度计算\n",
    "with torch.no_grad():\n",
    "    y = x**2\n",
    "    y1 = x**3\n",
    "print(y.requires_grad)\n",
    "print(y1.requires_grad)\n",
    "\n",
    "# 这种梯度计算传递不过去\n",
    "y3 = y**2\n",
    "print(y3.requires_grad)\n",
    "y3.backward()"
   ]
  },
  {
   "cell_type": "code",
   "execution_count": 235,
   "id": "d574482a-cab2-4cff-845a-ce7e83cee9e1",
   "metadata": {
    "tags": []
   },
   "outputs": [
    {
     "name": "stdout",
     "output_type": "stream",
     "text": [
      "False\n"
     ]
    }
   ],
   "source": [
    "# 针对方法的梯度控制\n",
    "@torch.no_grad()\n",
    "def y_func(x):\n",
    "    return x**2\n",
    "y = y_func(x)\n",
    "print(y.requires_grad)"
   ]
  },
  {
   "cell_type": "code",
   "execution_count": 242,
   "id": "c7f7fc71-ecd4-41d0-916e-9e50d76ceb1f",
   "metadata": {
    "tags": []
   },
   "outputs": [
    {
     "name": "stdout",
     "output_type": "stream",
     "text": [
      "True\n"
     ]
    }
   ],
   "source": [
    "# 全局控制梯度计算\n",
    "torch.set_grad_enabled(False)\n",
    "y = x * 2\n",
    "print(y.requires_grad)"
   ]
  },
  {
   "cell_type": "code",
   "execution_count": 248,
   "id": "2465c68c-4003-47a6-bb62-6037bf70cdd0",
   "metadata": {
    "tags": []
   },
   "outputs": [
    {
     "name": "stdout",
     "output_type": "stream",
     "text": [
      "tensor([ 5., 10., 15., 20.], dtype=torch.float64)\n",
      "tensor([ 5., 10., 15., 20.], dtype=torch.float64)\n",
      "tensor([ 5., 10., 15., 20.], dtype=torch.float64)\n"
     ]
    }
   ],
   "source": [
    "# 梯度清零\n",
    "x = torch.tensor([10,20,30,40], requires_grad=True, dtype=torch.float64)\n",
    "for _ in range(3):\n",
    "    f1 = x**2 + 20\n",
    "    f2 = f1.mean()\n",
    "    \n",
    "    # 梯度清零\n",
    "    if x.grad is not None: \n",
    "        # 梯度清零, 不清零会累加\n",
    "        x.grad.data.zero_()\n",
    "    \n",
    "    # 自动微分\n",
    "    f2.backward()\n",
    "    print(x.grad)"
   ]
  },
  {
   "cell_type": "code",
   "execution_count": 259,
   "id": "95766435-001e-49a0-9105-350adfcabf05",
   "metadata": {
    "tags": []
   },
   "outputs": [
    {
     "name": "stdout",
     "output_type": "stream",
     "text": [
      "3.00000\n",
      "1.80000\n",
      "1.08000\n",
      "0.64800\n",
      "0.38880\n",
      "0.23328\n",
      "0.13997\n",
      "0.08398\n",
      "0.05039\n",
      "0.03023\n"
     ]
    }
   ],
   "source": [
    "# 梯度下降\n",
    "x = torch.tensor([5], requires_grad=True, dtype=torch.float64)\n",
    "for _ in range(10):\n",
    "    # 正向计算\n",
    "    y = x**2\n",
    "    \n",
    "    # 梯度清零\n",
    "    if x.grad is not None: \n",
    "        # 梯度清零, 不清零会累加\n",
    "        x.grad.data.zero_()\n",
    "    \n",
    "    # 计算梯度\n",
    "    y.backward()\n",
    "    \n",
    "    # 梯度下降，更新参数\n",
    "    x.data = x.data - 0.2 * x.grad\n",
    "    \n",
    "    print('%.5f' % x.data)"
   ]
  },
  {
   "cell_type": "code",
   "execution_count": 264,
   "id": "c7e3ccc3-fde2-4aa5-be0f-ccf6ecadbd81",
   "metadata": {
    "tags": []
   },
   "outputs": [
    {
     "name": "stdout",
     "output_type": "stream",
     "text": [
      "[10. 20.]\n",
      "5622248848 5593085712\n"
     ]
    }
   ],
   "source": [
    "# 梯度计算注意\n",
    "x = torch.tensor([10,20], requires_grad=True, dtype=torch.float64)\n",
    "# 这里会报错，pytorch中，需要梯度计算的张量无法直接转numpy()，需要先用detach()方法进行张量剥离\n",
    "#print(x.numpy())\n",
    "\n",
    "# 这样就可以了\n",
    "print(x.detach().numpy())"
   ]
  },
  {
   "cell_type": "code",
   "execution_count": 274,
   "id": "bc21d67b-8caa-492e-b21d-d6382a85a314",
   "metadata": {
    "tags": []
   },
   "outputs": [
    {
     "name": "stdout",
     "output_type": "stream",
     "text": [
      "5593449584 5593449584\n",
      "tensor([10., 20.], dtype=torch.float64, requires_grad=True)\n",
      "tensor([10., 20.], dtype=torch.float64)\n",
      "tensor([100.,  20.], dtype=torch.float64, requires_grad=True)\n",
      "tensor([100.,  20.], dtype=torch.float64)\n",
      "True\n",
      "False\n"
     ]
    }
   ],
   "source": [
    "# 剥离的张量和原张量共享内存，且一个有梯度计算，一个没有梯度计算\n",
    "x1 = torch.tensor([10,20], requires_grad=True, dtype=torch.float64)\n",
    "x2 = x1.detach()\n",
    "\n",
    "# id()查看变量内存地址\n",
    "print(id(x1.data), id(x2.data))\n",
    "\n",
    "print(x1)\n",
    "print(x2)\n",
    "\n",
    "x2[0] = 100\n",
    "print(x1)\n",
    "print(x2)\n",
    "\n",
    "print(x1.requires_grad)\n",
    "print(x2.requires_grad)"
   ]
  },
  {
   "cell_type": "markdown",
   "id": "77c12622-3337-4b15-88ed-76f99141149e",
   "metadata": {},
   "source": [
    "### 网络参数初始化"
   ]
  },
  {
   "cell_type": "code",
   "execution_count": 275,
   "id": "a068eb1c-7aac-4e94-b424-e972280de467",
   "metadata": {
    "tags": []
   },
   "outputs": [],
   "source": [
    "import torch\n",
    "import torch.nn as nn\n"
   ]
  },
  {
   "cell_type": "code",
   "execution_count": 276,
   "id": "a4f0592b-4d07-4f1c-a36f-1e46f4b74611",
   "metadata": {
    "tags": []
   },
   "outputs": [
    {
     "name": "stdout",
     "output_type": "stream",
     "text": [
      "Parameter containing:\n",
      "tensor([[0.9801, 0.1147, 0.3168, 0.6965, 0.9143],\n",
      "        [0.9351, 0.9412, 0.5995, 0.0652, 0.5460],\n",
      "        [0.1872, 0.0340, 0.9442, 0.8802, 0.0012]], requires_grad=True)\n"
     ]
    }
   ],
   "source": [
    "# 均匀分布初始化\n",
    "linear = nn.Linear(5,3)\n",
    "nn.init.uniform_(linear.weight)\n",
    "print(linear.weight)"
   ]
  },
  {
   "cell_type": "code",
   "execution_count": 277,
   "id": "4b210c7b-2b80-4119-9df8-be02bde95613",
   "metadata": {
    "tags": []
   },
   "outputs": [
    {
     "name": "stdout",
     "output_type": "stream",
     "text": [
      "Parameter containing:\n",
      "tensor([[99., 99., 99., 99., 99.],\n",
      "        [99., 99., 99., 99., 99.],\n",
      "        [99., 99., 99., 99., 99.]], requires_grad=True)\n"
     ]
    }
   ],
   "source": [
    "# 指定具体值初始化\n",
    "linear = nn.Linear(5,3)\n",
    "nn.init.constant_(linear.weight,99)\n",
    "print(linear.weight)"
   ]
  },
  {
   "cell_type": "code",
   "execution_count": 279,
   "id": "b2f827e1-ec25-4938-b5ba-e6dee7674391",
   "metadata": {
    "tags": []
   },
   "outputs": [
    {
     "name": "stdout",
     "output_type": "stream",
     "text": [
      "Parameter containing:\n",
      "tensor([0., 0., 0., 0.], requires_grad=True)\n"
     ]
    }
   ],
   "source": [
    "# 全零, 权重不要初始化为0？？？？？\n",
    "linear = nn.Linear(5,4)\n",
    "nn.init.zeros_(linear.bias)\n",
    "print(linear.bias)"
   ]
  },
  {
   "cell_type": "code",
   "execution_count": 280,
   "id": "f4d21754-dac1-4c9d-ac99-0779f0ad714c",
   "metadata": {
    "tags": []
   },
   "outputs": [
    {
     "name": "stdout",
     "output_type": "stream",
     "text": [
      "Parameter containing:\n",
      "tensor([[1., 1., 1., 1., 1.],\n",
      "        [1., 1., 1., 1., 1.],\n",
      "        [1., 1., 1., 1., 1.]], requires_grad=True)\n"
     ]
    }
   ],
   "source": [
    "# 全1\n",
    "linear = nn.Linear(5,3)\n",
    "nn.init.ones_(linear.weight)\n",
    "print(linear.weight)"
   ]
  },
  {
   "cell_type": "code",
   "execution_count": 281,
   "id": "ac278463-eb0b-4fd2-a771-bfd9937b5e93",
   "metadata": {
    "tags": []
   },
   "outputs": [
    {
     "name": "stdout",
     "output_type": "stream",
     "text": [
      "Parameter containing:\n",
      "tensor([[ 1.5152,  0.3698,  0.2815,  0.5603,  0.6311],\n",
      "        [ 1.3469, -0.4519, -0.4053,  1.4875, -0.2230],\n",
      "        [-1.0057, -0.4139,  1.1600, -0.2196,  1.9930]], requires_grad=True)\n"
     ]
    }
   ],
   "source": [
    "# 正态分布\n",
    "linear = nn.Linear(5,3)\n",
    "nn.init.normal_(linear.weight, mean=0, std=1)\n",
    "print(linear.weight)"
   ]
  },
  {
   "cell_type": "code",
   "execution_count": 283,
   "id": "4127475a-3748-4052-8fa0-dd2146b85201",
   "metadata": {
    "tags": []
   },
   "outputs": [
    {
     "name": "stdout",
     "output_type": "stream",
     "text": [
      "Parameter containing:\n",
      "tensor([[ 0.0962, -0.9131, -0.1445, -0.2246, -0.4566],\n",
      "        [-0.1936,  0.8707,  0.6359, -0.1553, -0.1845],\n",
      "        [ 0.9797, -0.5213, -0.4215, -0.7230, -0.1144]], requires_grad=True)\n",
      "Parameter containing:\n",
      "tensor([[ 1.0928,  0.6954, -0.7572,  0.4286,  0.8272],\n",
      "        [ 1.0950,  0.9579,  0.8487, -0.2511, -0.3844],\n",
      "        [ 0.8994,  0.6139, -0.6592,  0.9848,  0.5293]], requires_grad=True)\n"
     ]
    }
   ],
   "source": [
    "# kaming初始化\n",
    "linear = nn.Linear(5,3)\n",
    "nn.init.kaiming_normal_(linear.weight)\n",
    "print(linear.weight)\n",
    "\n",
    "linear = nn.Linear(5,3)\n",
    "nn.init.kaiming_uniform_(linear.weight)\n",
    "print(linear.weight)"
   ]
  },
  {
   "cell_type": "code",
   "execution_count": 284,
   "id": "0ee42808-84d7-4495-a0e1-717f99b0738c",
   "metadata": {
    "tags": []
   },
   "outputs": [
    {
     "name": "stdout",
     "output_type": "stream",
     "text": [
      "Parameter containing:\n",
      "tensor([[-0.4882,  0.0095, -0.5283, -0.5256,  0.6894],\n",
      "        [ 0.7709,  0.2419, -0.0337,  0.2126,  0.6365],\n",
      "        [-0.0978,  0.5773, -0.0047,  0.1322, -0.0734]], requires_grad=True)\n",
      "Parameter containing:\n",
      "tensor([[-0.1357,  0.7353,  0.0358, -0.6125, -0.2895],\n",
      "        [-0.2351, -0.1671,  0.0829,  0.8009,  0.0464],\n",
      "        [-0.5347,  0.0444,  0.4152,  0.4296, -0.7915]], requires_grad=True)\n"
     ]
    }
   ],
   "source": [
    "# xavier初始化\n",
    "linear = nn.Linear(5,3)\n",
    "nn.init.xavier_normal_(linear.weight)\n",
    "print(linear.weight)\n",
    "\n",
    "linear = nn.Linear(5,3)\n",
    "nn.init.xavier_uniform_(linear.weight)\n",
    "print(linear.weight)"
   ]
  },
  {
   "cell_type": "code",
   "execution_count": null,
   "id": "d05f8192-a4cd-4d8b-9e96-2d6f57a8ad93",
   "metadata": {},
   "outputs": [],
   "source": []
  }
 ],
 "metadata": {
  "kernelspec": {
   "display_name": "Python 3 (ipykernel)",
   "language": "python",
   "name": "python3"
  },
  "language_info": {
   "codemirror_mode": {
    "name": "ipython",
    "version": 3
   },
   "file_extension": ".py",
   "mimetype": "text/x-python",
   "name": "python",
   "nbconvert_exporter": "python",
   "pygments_lexer": "ipython3",
   "version": "3.11.5"
  }
 },
 "nbformat": 4,
 "nbformat_minor": 5
}
